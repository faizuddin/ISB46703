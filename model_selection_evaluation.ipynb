{
  "cells": [
    {
      "attachments": {},
      "cell_type": "markdown",
      "metadata": {
        "id": "xjtJQU1ESH2V"
      },
      "source": [
        "# Model Evaluation\n",
        "\n",
        "## Validating models\n",
        "One of the most important pieces of machine learning is *model evaluation*: that is, checking how well your model fits a given dataset. But of course this is not without issues that need to be addressed.\n",
        "\n",
        "In order to look into this matter, let's consider a new sample dataset from sklearn: [digit dataset](https://scikit-learn.org/stable/modules/generated/sklearn.datasets.load_digits.html#). \n",
        "\n",
        "### Dataset summary\n",
        "*   Classes: 10\n",
        "*   Samples per class: ~180\n",
        "*   Samples total: 1797\n",
        "*   Dimensionality: 64\n"
      ]
    },
    {
      "cell_type": "code",
      "execution_count": 1,
      "metadata": {
        "colab": {
          "base_uri": "https://localhost:8080/"
        },
        "id": "acK-J_ZP8Td5",
        "outputId": "7f11e903-8b70-47b2-abb3-842382df928c"
      },
      "outputs": [
        {
          "name": "stdout",
          "output_type": "stream",
          "text": [
            "(1797, 64)\n"
          ]
        }
      ],
      "source": [
        "from sklearn.datasets import load_digits\n",
        "\n",
        "digits = load_digits() # load dataset\n",
        "print(digits.data.shape) # samples vs dimensions"
      ]
    },
    {
      "attachments": {},
      "cell_type": "markdown",
      "metadata": {
        "id": "uCnXs-fz9yfU"
      },
      "source": [
        "Plot one example of the digit: "
      ]
    },
    {
      "cell_type": "code",
      "execution_count": 2,
      "metadata": {
        "colab": {
          "base_uri": "https://localhost:8080/",
          "height": 310
        },
        "id": "cZ2jmVFd8X01",
        "outputId": "11b31b6a-a099-4bb1-8f9d-e88f78303cad"
      },
      "outputs": [
        {
          "data": {
            "text/plain": [
              "<matplotlib.image.AxesImage at 0x7f955fc68b50>"
            ]
          },
          "execution_count": 2,
          "metadata": {},
          "output_type": "execute_result"
        },
        {
          "data": {
            "text/plain": [
              "<Figure size 432x288 with 0 Axes>"
            ]
          },
          "metadata": {},
          "output_type": "display_data"
        },
        {
          "data": {
            "image/png": "[encoded data removed]",
            "text/plain": [
              "<Figure size 288x288 with 1 Axes>"
            ]
          },
          "metadata": {
            "needs_background": "light"
          },
          "output_type": "display_data"
        }
      ],
      "source": [
        "from matplotlib import pyplot as plt\n",
        "\n",
        "plt.gray()\n",
        "plt.matshow(digits.images[765]) # pick any random number plot them"
      ]
    },
    {
      "attachments": {},
      "cell_type": "markdown",
      "metadata": {
        "id": "ZFSFs8E49Zu8"
      },
      "source": [
        "or plot some of the 0 - 9 digits in a 8x8 grid:"
      ]
    },
    {
      "cell_type": "code",
      "execution_count": 3,
      "metadata": {
        "colab": {
          "base_uri": "https://localhost:8080/",
          "height": 466
        },
        "id": "ABcMyUCu85ws",
        "outputId": "da94a103-9851-4343-eca9-950f6a57da24"
      },
      "outputs": [
        {
          "data": {
            "image/png": "[encoded data removed]",
            "text/plain": [
              "<Figure size 432x432 with 64 Axes>"
            ]
          },
          "metadata": {},
          "output_type": "display_data"
        }
      ],
      "source": [
        "fig = plt.figure(figsize=(6, 6))  # figure size in inches\n",
        "\n",
        "fig.subplots_adjust(left=0, right=1, bottom=0, top=1, hspace=0.05, wspace=0.05)\n",
        "\n",
        "for i in range(64):\n",
        "\n",
        "    ax = fig.add_subplot(8, 8, i + 1, xticks=[], yticks=[])\n",
        "    ax.imshow(digits.images[i], cmap=plt.cm.binary, interpolation='nearest')\n",
        "    \n",
        "    # label the image with the target value\n",
        "    ax.text(0, 7, str(digits.target[i]))"
      ]
    },
    {
      "attachments": {},
      "cell_type": "markdown",
      "metadata": {
        "id": "NoftkEk3AnXH"
      },
      "source": [
        "Let's fit a k-NN classifier and try to check how well our model fits the data."
      ]
    },
    {
      "cell_type": "code",
      "execution_count": 6,
      "metadata": {
        "colab": {
          "base_uri": "https://localhost:8080/"
        },
        "id": "0rnSFFLX9dgc",
        "outputId": "a0238ead-f25a-4311-d811-1bea44abc87d"
      },
      "outputs": [
        {
          "data": {
            "text/plain": [
              "KNeighborsClassifier(n_neighbors=1)"
            ]
          },
          "execution_count": 6,
          "metadata": {},
          "output_type": "execute_result"
        }
      ],
      "source": [
        "from sklearn.neighbors import KNeighborsClassifier\n",
        "import numpy as np\n",
        "\n",
        "X = digits.data\n",
        "y = digits.target\n",
        "\n",
        "knn = KNeighborsClassifier(n_neighbors=1)\n",
        "knn.fit(X,y)"
      ]
    },
    {
      "attachments": {},
      "cell_type": "markdown",
      "metadata": {
        "id": "aecsK87OBEj3"
      },
      "source": [
        "Now let's try using this classifier to predict *targets* (labels) for the data and check how well our prediction did:"
      ]
    },
    {
      "cell_type": "code",
      "execution_count": 7,
      "metadata": {
        "colab": {
          "base_uri": "https://localhost:8080/"
        },
        "id": "YOlwWwpvBCDD",
        "outputId": "30589ad9-f36e-4549-f65c-2f080ad1d74e"
      },
      "outputs": [
        {
          "name": "stdout",
          "output_type": "stream",
          "text": [
            "1797 / 1797 correct\n"
          ]
        }
      ],
      "source": [
        "y_pred = knn.predict(X)\n",
        "print(\"{0} / {1} correct\".format(np.sum(y==y_pred), len(y)))"
      ]
    },
    {
      "attachments": {},
      "cell_type": "markdown",
      "metadata": {
        "id": "B7fwwHtmBpwD"
      },
      "source": [
        "Seems like we have a perfect classifier....yes?\n",
        "\n",
        "#### Question: what's wrong with this?"
      ]
    },
    {
      "attachments": {},
      "cell_type": "markdown",
      "metadata": {
        "id": "lEYF6TALB8N1"
      },
      "source": [
        "We actually made the mistake of testing our data on the same set of data was used for training - definitely not a good idea. If we use this way, we will tend to *overfit* the data: that is, we learn the noise."
      ]
    },
    {
      "attachments": {},
      "cell_type": "markdown",
      "metadata": {
        "id": "03NOZn8ECXxr"
      },
      "source": [
        "## Validation sets\n",
        "A better way to test a model is to use a hold-out set which doesn't enter the training. This can be achieved using sklearn's train/test utility:"
      ]
    },
    {
      "cell_type": "code",
      "execution_count": 4,
      "metadata": {
        "id": "fx3nHeGoBia-"
      },
      "outputs": [],
      "source": [
        "from sklearn.model_selection import train_test_split"
      ]
    },
    {
      "attachments": {},
      "cell_type": "markdown",
      "metadata": {
        "id": "d2zIc58FEHI7"
      },
      "source": [
        "Utility documentation:"
      ]
    },
    {
      "cell_type": "code",
      "execution_count": 5,
      "metadata": {
        "id": "UTEe6UBtDCbn"
      },
      "outputs": [
        {
          "name": "stdout",
          "output_type": "stream",
          "text": [
            "\u001b[0;31mSignature:\u001b[0m\n",
            "\u001b[0mtrain_test_split\u001b[0m\u001b[0;34m(\u001b[0m\u001b[0;34m\u001b[0m\n",
            "\u001b[0;34m\u001b[0m    \u001b[0;34m*\u001b[0m\u001b[0marrays\u001b[0m\u001b[0;34m,\u001b[0m\u001b[0;34m\u001b[0m\n",
            "\u001b[0;34m\u001b[0m    \u001b[0mtest_size\u001b[0m\u001b[0;34m=\u001b[0m\u001b[0;32mNone\u001b[0m\u001b[0;34m,\u001b[0m\u001b[0;34m\u001b[0m\n",
            "\u001b[0;34m\u001b[0m    \u001b[0mtrain_size\u001b[0m\u001b[0;34m=\u001b[0m\u001b[0;32mNone\u001b[0m\u001b[0;34m,\u001b[0m\u001b[0;34m\u001b[0m\n",
            "\u001b[0;34m\u001b[0m    \u001b[0mrandom_state\u001b[0m\u001b[0;34m=\u001b[0m\u001b[0;32mNone\u001b[0m\u001b[0;34m,\u001b[0m\u001b[0;34m\u001b[0m\n",
            "\u001b[0;34m\u001b[0m    \u001b[0mshuffle\u001b[0m\u001b[0;34m=\u001b[0m\u001b[0;32mTrue\u001b[0m\u001b[0;34m,\u001b[0m\u001b[0;34m\u001b[0m\n",
            "\u001b[0;34m\u001b[0m    \u001b[0mstratify\u001b[0m\u001b[0;34m=\u001b[0m\u001b[0;32mNone\u001b[0m\u001b[0;34m,\u001b[0m\u001b[0;34m\u001b[0m\n",
            "\u001b[0;34m\u001b[0m\u001b[0;34m)\u001b[0m\u001b[0;34m\u001b[0m\u001b[0;34m\u001b[0m\u001b[0m\n",
            "\u001b[0;31mDocstring:\u001b[0m\n",
            "Split arrays or matrices into random train and test subsets.\n",
            "\n",
            "Quick utility that wraps input validation and\n",
            "``next(ShuffleSplit().split(X, y))`` and application to input data\n",
            "into a single call for splitting (and optionally subsampling) data in a\n",
            "oneliner.\n",
            "\n",
            "Read more in the :ref:`User Guide <cross_validation>`.\n",
            "\n",
            "Parameters\n",
            "----------\n",
            "*arrays : sequence of indexables with same length / shape[0]\n",
            "    Allowed inputs are lists, numpy arrays, scipy-sparse\n",
            "    matrices or pandas dataframes.\n",
            "\n",
            "test_size : float or int, default=None\n",
            "    If float, should be between 0.0 and 1.0 and represent the proportion\n",
            "    of the dataset to include in the test split. If int, represents the\n",
            "    absolute number of test samples. If None, the value is set to the\n",
            "    complement of the train size. If ``train_size`` is also None, it will\n",
            "    be set to 0.25.\n",
            "\n",
            "train_size : float or int, default=None\n",
            "    If float, should be between 0.0 and 1.0 and represent the\n",
            "    proportion of the dataset to include in the train split. If\n",
            "    int, represents the absolute number of train samples. If None,\n",
            "    the value is automatically set to the complement of the test size.\n",
            "\n",
            "random_state : int, RandomState instance or None, default=None\n",
            "    Controls the shuffling applied to the data before applying the split.\n",
            "    Pass an int for reproducible output across multiple function calls.\n",
            "    See :term:`Glossary <random_state>`.\n",
            "\n",
            "shuffle : bool, default=True\n",
            "    Whether or not to shuffle the data before splitting. If shuffle=False\n",
            "    then stratify must be None.\n",
            "\n",
            "stratify : array-like, default=None\n",
            "    If not None, data is split in a stratified fashion, using this as\n",
            "    the class labels.\n",
            "    Read more in the :ref:`User Guide <stratification>`.\n",
            "\n",
            "Returns\n",
            "-------\n",
            "splitting : list, length=2 * len(arrays)\n",
            "    List containing train-test split of inputs.\n",
            "\n",
            "    .. versionadded:: 0.16\n",
            "        If the input is sparse, the output will be a\n",
            "        ``scipy.sparse.csr_matrix``. Else, output type is the same as the\n",
            "        input type.\n",
            "\n",
            "Examples\n",
            "--------\n",
            ">>> import numpy as np\n",
            ">>> from sklearn.model_selection import train_test_split\n",
            ">>> X, y = np.arange(10).reshape((5, 2)), range(5)\n",
            ">>> X\n",
            "array([[0, 1],\n",
            "       [2, 3],\n",
            "       [4, 5],\n",
            "       [6, 7],\n",
            "       [8, 9]])\n",
            ">>> list(y)\n",
            "[0, 1, 2, 3, 4]\n",
            "\n",
            ">>> X_train, X_test, y_train, y_test = train_test_split(\n",
            "...     X, y, test_size=0.33, random_state=42)\n",
            "...\n",
            ">>> X_train\n",
            "array([[4, 5],\n",
            "       [0, 1],\n",
            "       [6, 7]])\n",
            ">>> y_train\n",
            "[2, 0, 3]\n",
            ">>> X_test\n",
            "array([[2, 3],\n",
            "       [8, 9]])\n",
            ">>> y_test\n",
            "[1, 4]\n",
            "\n",
            ">>> train_test_split(y, shuffle=False)\n",
            "[[0, 1, 2], [3, 4]]\n",
            "\u001b[0;31mFile:\u001b[0m      ~/opt/anaconda3/envs/work/lib/python3.9/site-packages/sklearn/model_selection/_split.py\n",
            "\u001b[0;31mType:\u001b[0m      function\n"
          ]
        }
      ],
      "source": [
        "train_test_split?"
      ]
    },
    {
      "cell_type": "code",
      "execution_count": 10,
      "metadata": {
        "colab": {
          "base_uri": "https://localhost:8080/"
        },
        "id": "0JQhs0i1DQq2",
        "outputId": "a81d0838-44f7-47ef-c160-40c1dda9c7f3"
      },
      "outputs": [
        {
          "name": "stdout",
          "output_type": "stream",
          "text": [
            "Training set: (1347, 64), test set: (450, 64)\n"
          ]
        }
      ],
      "source": [
        "X_train, X_test, y_train, y_test = train_test_split(X,y, shuffle=True)\n",
        "print(f\"Training set: {X_train.shape}, test set: {X_test.shape}\")"
      ]
    },
    {
      "attachments": {},
      "cell_type": "markdown",
      "metadata": {
        "id": "Saw4wbZAEctJ"
      },
      "source": [
        "Now we train on the training data:"
      ]
    },
    {
      "cell_type": "code",
      "execution_count": 11,
      "metadata": {
        "colab": {
          "base_uri": "https://localhost:8080/"
        },
        "id": "POT8Z_QbDily",
        "outputId": "bd9140b1-9f8c-40f1-c685-09befb739d76"
      },
      "outputs": [
        {
          "data": {
            "text/plain": [
              "KNeighborsClassifier(n_neighbors=1)"
            ]
          },
          "execution_count": 11,
          "metadata": {},
          "output_type": "execute_result"
        }
      ],
      "source": [
        "correct_knn = KNeighborsClassifier(n_neighbors=1)\n",
        "correct_knn.fit(X_train,y_train)"
      ]
    },
    {
      "attachments": {},
      "cell_type": "markdown",
      "metadata": {
        "id": "TjuziFhoEmfi"
      },
      "source": [
        " and validate on the test data:"
      ]
    },
    {
      "cell_type": "code",
      "execution_count": 12,
      "metadata": {
        "colab": {
          "base_uri": "https://localhost:8080/"
        },
        "id": "pmfQoOckEmPs",
        "outputId": "3846a026-7c8a-44b7-ca26-59d383e52cc2"
      },
      "outputs": [
        {
          "name": "stdout",
          "output_type": "stream",
          "text": [
            "444 / 450 correct\n"
          ]
        }
      ],
      "source": [
        "y_pred = correct_knn.predict(X_test)\n",
        "print(\"{0} / {1} correct\".format(np.sum(y_test==y_pred), len(y_test)))"
      ]
    },
    {
      "attachments": {},
      "cell_type": "markdown",
      "metadata": {
        "id": "PiA18aZbFHz_"
      },
      "source": [
        "This gives us a more reliable estimate of how our model is doing. You may get different results but one thing for sure, it is not going to be 450/450 correct!"
      ]
    },
    {
      "attachments": {},
      "cell_type": "markdown",
      "metadata": {
        "id": "KdH996DgF7Rl"
      },
      "source": [
        "## Accuracy score\n",
        "The metric we are using here, comparing the number of matches to the total number of samples, is known as the *accuracy score*, and can be computed using the following routine:"
      ]
    },
    {
      "cell_type": "code",
      "execution_count": 13,
      "metadata": {
        "colab": {
          "base_uri": "https://localhost:8080/"
        },
        "id": "VH8uxevrEwsz",
        "outputId": "38640af2-711b-49b9-94be-f82067690d6b"
      },
      "outputs": [
        {
          "data": {
            "text/plain": [
              "0.9866666666666667"
            ]
          },
          "execution_count": 13,
          "metadata": {},
          "output_type": "execute_result"
        }
      ],
      "source": [
        "from sklearn.metrics import accuracy_score\n",
        "\n",
        "accuracy_score(y_test, y_pred)"
      ]
    },
    {
      "attachments": {},
      "cell_type": "markdown",
      "metadata": {
        "id": "bo4EJ3liGzqM"
      },
      "source": [
        "or alternatively computed directly from the `model.score` method:"
      ]
    },
    {
      "cell_type": "code",
      "execution_count": 14,
      "metadata": {
        "colab": {
          "base_uri": "https://localhost:8080/"
        },
        "id": "oPTzGd6JGkGe",
        "outputId": "94712e69-690b-4a3e-a073-a5118f6bea0d"
      },
      "outputs": [
        {
          "data": {
            "text/plain": [
              "0.9866666666666667"
            ]
          },
          "execution_count": 14,
          "metadata": {},
          "output_type": "execute_result"
        }
      ],
      "source": [
        "correct_knn.score(X_test, y_test)"
      ]
    },
    {
      "attachments": {},
      "cell_type": "markdown",
      "metadata": {
        "id": "XDUBjIS8HEJg"
      },
      "source": [
        "Using this, we can now see how the accuracy score changes as we change the model parameters, in this case the value of $k$ (number of neighbours)."
      ]
    },
    {
      "cell_type": "code",
      "execution_count": 15,
      "metadata": {
        "id": "FQBVGs9xG_t8"
      },
      "outputs": [],
      "source": [
        "accu = []\n",
        "kn = range(1,1000,9)\n",
        "\n",
        "for k in kn:\n",
        "  new_knn = KNeighborsClassifier(n_neighbors=k)\n",
        "  new_knn.fit(X_train, y_train)\n",
        "  acc = new_knn.score(X_test, y_test)\n",
        "  # print(f\"Neighbours (k) = {k}, Accuracy = {acc}\")\n",
        "  accu.append(acc)"
      ]
    },
    {
      "attachments": {},
      "cell_type": "markdown",
      "metadata": {
        "id": "qwzG7Ytvh5m7"
      },
      "source": [
        "and let's plot the accuracy score results against $k$:"
      ]
    },
    {
      "cell_type": "code",
      "execution_count": 16,
      "metadata": {
        "colab": {
          "base_uri": "https://localhost:8080/",
          "height": 291
        },
        "id": "VZDeaRFpH4bX",
        "outputId": "80bf7f87-73a0-41e5-e458-77800cfb249e"
      },
      "outputs": [
        {
          "data": {
            "image/png": "[encoded data removed]",
            "text/plain": [
              "<Figure size 432x288 with 1 Axes>"
            ]
          },
          "metadata": {},
          "output_type": "display_data"
        }
      ],
      "source": [
        "import matplotlib.pyplot as plt\n",
        "plt.style.use('seaborn-whitegrid')\n",
        "\n",
        "plt.plot(kn, accu)\n",
        "plt.xlim(0,1000)\n",
        "plt.title(\"Classification accuracy vs k\")\n",
        "plt.xlabel(\"k\")\n",
        "plt.ylabel(\"Accuracy score\");"
      ]
    },
    {
      "attachments": {},
      "cell_type": "markdown",
      "metadata": {
        "id": "5XXmVyNZiC6T"
      },
      "source": [
        "## Cross-validation\n",
        "One issue with validation sets is that you \"lose\" some of the data. Previously when we used sklearn's `train_test_split`, we were actually used $\\frac{3}{4}$ of the data for training, and used $\\frac{1}{4}$ for the validation. \n",
        "\n",
        "A better way of validating our model withour \"losing\" our data, is to use *2-fold cross-validation*, where we split the sample (data) in half and perform the validation twice:"
      ]
    },
    {
      "cell_type": "code",
      "execution_count": 17,
      "metadata": {
        "id": "IBx7hG2bZgHe"
      },
      "outputs": [],
      "source": [
        "Xtrain1, Xtrain2, ytrain1, ytrain2 = train_test_split(X, y, test_size=0.5, random_state=0)"
      ]
    },
    {
      "attachments": {},
      "cell_type": "markdown",
      "metadata": {
        "id": "sMIHcKLqkSHl"
      },
      "source": [
        "Note that `test_set=0.5` means now we have split the data into half (50:50) between train and test. Also `random_state = 0` sets a seed to the random generator, so that our train-test splits are always deterministic. Otherwise, it will different each time. "
      ]
    },
    {
      "cell_type": "code",
      "execution_count": 18,
      "metadata": {
        "colab": {
          "base_uri": "https://localhost:8080/"
        },
        "id": "7GzeySn3iVDG",
        "outputId": "dc94499e-df6e-4bf3-8391-670d1bee3ea8"
      },
      "outputs": [
        {
          "name": "stdout",
          "output_type": "stream",
          "text": [
            "Xtrain1.shape: (898, 64), Xtrain2.shape: (899, 64)\n"
          ]
        }
      ],
      "source": [
        "print(f\"Xtrain1.shape: {Xtrain1.shape}, Xtrain2.shape: {Xtrain2.shape}\") # check shape of the sample"
      ]
    },
    {
      "cell_type": "code",
      "execution_count": 19,
      "metadata": {
        "colab": {
          "base_uri": "https://localhost:8080/"
        },
        "id": "UuPmRbIemMk7",
        "outputId": "042ccb32-5818-401d-861b-6caa18ef1c8d"
      },
      "outputs": [
        {
          "name": "stdout",
          "output_type": "stream",
          "text": [
            "Fold-1: 0.982202447163515\n",
            "Fold-2: 0.9832962138084632\n"
          ]
        }
      ],
      "source": [
        "accu = []\n",
        "cv_knn = KNeighborsClassifier(n_neighbors=1)\n",
        "\n",
        "accu.append(cv_knn.fit(Xtrain1, ytrain1).score(Xtrain2, ytrain2))\n",
        "accu.append(cv_knn.fit(Xtrain2, ytrain2).score(Xtrain1, ytrain1))\n",
        "\n",
        "print(f\"Fold-1: {accu[0]}\")\n",
        "print(f\"Fold-2: {accu[1]}\")"
      ]
    },
    {
      "attachments": {},
      "cell_type": "markdown",
      "metadata": {
        "id": "HYcYQwVgohZn"
      },
      "source": [
        "Thus a two-fold cross-validation gives us two estimates of the score for that parameter. We can then get the mean (average) of the scores:"
      ]
    },
    {
      "cell_type": "code",
      "execution_count": 20,
      "metadata": {
        "colab": {
          "base_uri": "https://localhost:8080/"
        },
        "id": "OXkTbCCroffx",
        "outputId": "83bd56c1-79a5-4c66-de7e-aa63fe6d9613"
      },
      "outputs": [
        {
          "data": {
            "text/plain": [
              "0.9827493304859891"
            ]
          },
          "execution_count": 20,
          "metadata": {},
          "output_type": "execute_result"
        }
      ],
      "source": [
        "np.array(accu).mean()"
      ]
    },
    {
      "attachments": {},
      "cell_type": "markdown",
      "metadata": {
        "id": "Jts-AR4fpNbX"
      },
      "source": [
        "The above technique is quite a pain to do manually. Fortunately sklearn has a utility routine to help:"
      ]
    },
    {
      "cell_type": "code",
      "execution_count": 21,
      "metadata": {
        "colab": {
          "base_uri": "https://localhost:8080/"
        },
        "id": "Ds3BGi6jopBr",
        "outputId": "33607dc1-21c6-48c9-e7e3-5a52b52b3b2e"
      },
      "outputs": [
        {
          "data": {
            "text/plain": [
              "0.9610455566813907"
            ]
          },
          "execution_count": 21,
          "metadata": {},
          "output_type": "execute_result"
        }
      ],
      "source": [
        "from sklearn.model_selection import cross_val_score\n",
        "\n",
        "cv = cross_val_score(KNeighborsClassifier(n_neighbors=1), X, y, cv=2)\n",
        "cv.mean()"
      ]
    },
    {
      "attachments": {},
      "cell_type": "markdown",
      "metadata": {
        "id": "fNVUW6tmp7iZ"
      },
      "source": [
        "## $K$-fold cross-validation\n",
        "Previously we've used 2-fold cross-validation which basically is one type of $K$-fold cross-validation (where $K = 2,3,...,n$) where we split the data into $K$ chunks and perform $K$ validation, where each chunk gets a turn as the validation set. This can be done by changing the `cv` parameter in `cross_val_score` function. To do a 15-fold cross-validation:\n"
      ]
    },
    {
      "cell_type": "code",
      "execution_count": 22,
      "metadata": {
        "colab": {
          "base_uri": "https://localhost:8080/"
        },
        "id": "MDaXGcGVpnfv",
        "outputId": "0b184ed2-47a8-4ae2-a72d-adf78372812c"
      },
      "outputs": [
        {
          "name": "stdout",
          "output_type": "stream",
          "text": [
            "Score: [0.90833333 0.99166667 0.99166667 0.98333333 0.975      0.99166667\n",
            " 0.975      0.98333333 0.99166667 0.99166667 1.         0.98333333\n",
            " 0.99159664 0.90756303 0.96638655]\n",
            "Score mean: 0.9754808590102707\n",
            "Score standard deviation: 0.027761584621689532\n"
          ]
        }
      ],
      "source": [
        "cv = cross_val_score(KNeighborsClassifier(n_neighbors=1), X, y, cv=15)\n",
        "print(f\"Score: {cv}\")\n",
        "print(f\"Score mean: {cv.mean()}\")\n",
        "print(f\"Score standard deviation: {cv.std()}\")"
      ]
    },
    {
      "attachments": {},
      "cell_type": "markdown",
      "metadata": {
        "id": "iZQpiX5UsNGE"
      },
      "source": [
        "And let's plot the cross-validation scores:"
      ]
    },
    {
      "cell_type": "code",
      "execution_count": 23,
      "metadata": {
        "colab": {
          "base_uri": "https://localhost:8080/",
          "height": 309
        },
        "id": "Kd32JvA6ro9l",
        "outputId": "8927a625-0798-4d65-f048-fdd9e16b2c8f"
      },
      "outputs": [
        {
          "data": {
            "text/plain": [
              "Text(0, 0.5, 'Accuracy score')"
            ]
          },
          "execution_count": 23,
          "metadata": {},
          "output_type": "execute_result"
        },
        {
          "data": {
            "image/png": "[encoded data removed]",
            "text/plain": [
              "<Figure size 432x288 with 1 Axes>"
            ]
          },
          "metadata": {},
          "output_type": "display_data"
        }
      ],
      "source": [
        "plt.plot(cv)\n",
        "plt.title(\"15-fold cross-validation accuracy score\")\n",
        "plt.xlabel(\"K\")\n",
        "plt.ylabel(\"Accuracy score\")"
      ]
    },
    {
      "attachments": {},
      "cell_type": "markdown",
      "metadata": {
        "id": "HoqldmtUtG6F"
      },
      "source": [
        "This gives us an even better idea of how well our model is doing. We also can see that the standard deviation of the scores is small, suggesting that our $k$-NN model is stable. "
      ]
    },
    {
      "attachments": {},
      "cell_type": "markdown",
      "metadata": {
        "id": "HGehPTLKxrLL"
      },
      "source": [
        "# Underfitting and overfitting\n",
        "## Model selection\n",
        "Issues associated with cross-validation are some of the most important aspects of the practice of machine learning. Selecting the optimal model for your data is important.\n",
        "\n",
        "Of core importance is the following questions:\n",
        "*   If our estimator is underperforming, what should we do next?\n",
        "*   Should we use simpler or more complicated model?\n",
        "*   Add more features to each observed data point?\n",
        "*   Add more training samples?\n",
        "\n",
        "The answer if often counter-intuitive. In particular, sometimes using a more complicated model will give *worse* results. Moreover adding training data will *not* improve your results.\n",
        "\n"
      ]
    },
    {
      "attachments": {},
      "cell_type": "markdown",
      "metadata": {
        "id": "XqulaPd51WPp"
      },
      "source": [
        "## Sample dataset\n",
        "We will now move to a simple 1-dimensional regression problem. To do so, will explore a simple *linear regression* problem using sklearn `sklearn.linear_model` module.\n",
        "\n",
        "First we will create a simple function `test_func` that we are interested to fit, and then generate a dataset based on this function."
      ]
    },
    {
      "cell_type": "code",
      "execution_count": 7,
      "metadata": {
        "id": "nVZy03MbtPkv"
      },
      "outputs": [],
      "source": [
        "import numpy as np\n",
        "import matplotlib.pyplot as plt\n",
        "\n",
        "# Test function\n",
        "def test_func(x, err=0.5):\n",
        "  y = 10 - 1. / (x + 0.1)\n",
        "  if err > 0:\n",
        "    y = np.random.normal(y,err)\n",
        "  return y\n",
        "\n",
        "# routine to generate sample dataset\n",
        "def gen_data(N=40, error=1.0, random_seed=1):\n",
        "  #randomly sample the data\n",
        "  np.random.seed(1)\n",
        "  X = np.random.random(N)[:,np.newaxis]\n",
        "  y = test_func(X.ravel(),error)\n",
        "  return X,y"
      ]
    },
    {
      "cell_type": "code",
      "execution_count": 9,
      "metadata": {
        "colab": {
          "base_uri": "https://localhost:8080/",
          "height": 280
        },
        "id": "Zfd15EUs2q9v",
        "outputId": "2656b2fd-ce80-4e4a-9630-41b8cac22dea"
      },
      "outputs": [
        {
          "data": {
            "text/plain": [
              "<matplotlib.collections.PathCollection at 0x7f95631297f0>"
            ]
          },
          "execution_count": 9,
          "metadata": {},
          "output_type": "execute_result"
        },
        {
          "data": {
            "image/png": "[encoded data removed]",
            "text/plain": [
              "<Figure size 432x288 with 1 Axes>"
            ]
          },
          "metadata": {
            "needs_background": "light"
          },
          "output_type": "display_data"
        }
      ],
      "source": [
        "X,y = gen_data(100, error=1)\n",
        "plt.scatter(X.ravel(),y)"
      ]
    },
    {
      "attachments": {},
      "cell_type": "markdown",
      "metadata": {
        "id": "cw4QIoDO3I1q"
      },
      "source": [
        "## Underfitting model\n",
        "So let's say we want to perform a regression on the generated sample data above, we could use the built-in linear regression function to compute the fit:"
      ]
    },
    {
      "cell_type": "code",
      "execution_count": 10,
      "metadata": {
        "colab": {
          "base_uri": "https://localhost:8080/"
        },
        "id": "0YW6GpsU2zoN",
        "outputId": "41464ad9-e782-4396-e603-a5e61ba508fe"
      },
      "outputs": [
        {
          "data": {
            "text/plain": [
              "LinearRegression()"
            ]
          },
          "execution_count": 10,
          "metadata": {},
          "output_type": "execute_result"
        }
      ],
      "source": [
        "from sklearn.linear_model import LinearRegression\n",
        "from sklearn.metrics import mean_squared_error\n",
        "\n",
        "model = LinearRegression()\n",
        "model.fit(X,y)"
      ]
    },
    {
      "attachments": {},
      "cell_type": "markdown",
      "metadata": {
        "id": "gOH3WJqvpPkZ"
      },
      "source": [
        "Make a test set:"
      ]
    },
    {
      "cell_type": "code",
      "execution_count": 11,
      "metadata": {
        "id": "w345uZDPpR4Z"
      },
      "outputs": [],
      "source": [
        "X_test = np.linspace(-0.1, 1.1, 500)[:,None]\n",
        "y_test = model.predict(X_test)"
      ]
    },
    {
      "attachments": {},
      "cell_type": "markdown",
      "metadata": {
        "id": "P3JnUzy1pqdU"
      },
      "source": [
        "Plot the results:"
      ]
    },
    {
      "cell_type": "code",
      "execution_count": 12,
      "metadata": {
        "colab": {
          "base_uri": "https://localhost:8080/",
          "height": 295
        },
        "id": "i2X7tlbHpfGw",
        "outputId": "f78c8851-d082-4bdc-dc39-48862f6c3dda"
      },
      "outputs": [
        {
          "data": {
            "text/plain": [
              "Text(0.5, 1.0, 'Mean squared error: 1.84')"
            ]
          },
          "execution_count": 12,
          "metadata": {},
          "output_type": "execute_result"
        },
        {
          "data": {
            "image/png": "[encoded data removed]",
            "text/plain": [
              "<Figure size 432x288 with 1 Axes>"
            ]
          },
          "metadata": {
            "needs_background": "light"
          },
          "output_type": "display_data"
        }
      ],
      "source": [
        "plt.scatter(X.ravel(), y)\n",
        "plt.plot(X_test.ravel(), y_test, c='r')\n",
        "plt.title(\"Mean squared error: {0:.3g}\".format(mean_squared_error(model.predict(X), y)))"
      ]
    },
    {
      "attachments": {},
      "cell_type": "markdown",
      "metadata": {
        "id": "x6NJiepeqSbo"
      },
      "source": [
        "In the above, we have fit a straight line to the data (in red). Clearly this \n",
        "is model is not a good choice. This model is called *biased*, or that it *underfits* the data. In other words, the underfitting model is not complex enough for this dataset.\n",
        "\n",
        "### Solution?\n",
        "We could improve this by making the model a bit more complicated, thus increasing model's *capacity* to learn.\n",
        "\n",
        "## Adding degrees of freedom\n",
        "One of the many ways of doing this is by adding degrees of freedom, and computing a polynomial regressor over the inputs. Degree of freedom represents the number of points of control of a system or in machine learning it is bascially the number of parameters of a model. Higher degrees of freedom translates to a more complex model.\n",
        "\n",
        "Again fortunately sklearn has an utility function called `PolynomialFeatures` preprocessor, that we can pipeline into our linear regression routine:\n",
        "\n",
        "\n"
      ]
    },
    {
      "cell_type": "code",
      "execution_count": 13,
      "metadata": {
        "id": "-10Uo0eQpiNW"
      },
      "outputs": [],
      "source": [
        "from sklearn.preprocessing import PolynomialFeatures\n",
        "from sklearn.linear_model import LinearRegression\n",
        "from sklearn.pipeline import make_pipeline\n",
        "\n",
        "def polyreg(degree=2, **kwargs):\n",
        "  return make_pipeline(PolynomialFeatures(degree), LinearRegression(**kwargs))\n",
        "\n",
        "model = polyreg(2)\n",
        "model.fit(X,y)\n",
        "y_test = model.predict(X_test)"
      ]
    },
    {
      "attachments": {},
      "cell_type": "markdown",
      "metadata": {
        "id": "jJA_ECGUuZym"
      },
      "source": [
        "And plot the results:"
      ]
    },
    {
      "cell_type": "code",
      "execution_count": 14,
      "metadata": {
        "colab": {
          "base_uri": "https://localhost:8080/",
          "height": 295
        },
        "id": "KsYhB2hCub4W",
        "outputId": "1d0ae289-3404-4291-b318-d5b79c30ccbc"
      },
      "outputs": [
        {
          "data": {
            "text/plain": [
              "Text(0.5, 1.0, 'Mean squared error: 1.13')"
            ]
          },
          "execution_count": 14,
          "metadata": {},
          "output_type": "execute_result"
        },
        {
          "data": {
            "image/png": "[encoded data removed]",
            "text/plain": [
              "<Figure size 432x288 with 1 Axes>"
            ]
          },
          "metadata": {
            "needs_background": "light"
          },
          "output_type": "display_data"
        }
      ],
      "source": [
        "plt.scatter(X.ravel(), y)\n",
        "plt.plot(X_test.ravel(), y_test, c='r')\n",
        "plt.title(\"Mean squared error: {0:.3g}\".format(mean_squared_error(model.predict(X), y)))"
      ]
    },
    {
      "attachments": {},
      "cell_type": "markdown",
      "metadata": {
        "id": "9s78h6_PurD9"
      },
      "source": [
        "Looks better? Notice that this reduces the mean squared error and makes a much better fit, although the fit could be improved by using higher-degree polynomial.\n"
      ]
    },
    {
      "attachments": {},
      "cell_type": "markdown",
      "metadata": {
        "id": "109JYm2VvPGC"
      },
      "source": [
        "## Overfitting model\n",
        "What happens if we use an even higher-degree polynomial - say a polynomial with a degree of 30?"
      ]
    },
    {
      "cell_type": "code",
      "execution_count": 15,
      "metadata": {
        "id": "BgDxWMmtuluB"
      },
      "outputs": [],
      "source": [
        "model = polyreg(30)\n",
        "model.fit(X,y)\n",
        "y_test = model.predict(X_test)"
      ]
    },
    {
      "attachments": {},
      "cell_type": "markdown",
      "metadata": {
        "id": "YnvC7ph-vnUh"
      },
      "source": [
        "As usual, plot the results:"
      ]
    },
    {
      "cell_type": "code",
      "execution_count": 16,
      "metadata": {
        "colab": {
          "base_uri": "https://localhost:8080/",
          "height": 295
        },
        "id": "jsQEbxRfvpjt",
        "outputId": "a4af2be5-b2f9-4d7c-ddab-182dd96e827f"
      },
      "outputs": [
        {
          "data": {
            "text/plain": [
              "(-4.0, 14.0)"
            ]
          },
          "execution_count": 16,
          "metadata": {},
          "output_type": "execute_result"
        },
        {
          "data": {
            "image/png": "[encoded data removed]",
            "text/plain": [
              "<Figure size 432x288 with 1 Axes>"
            ]
          },
          "metadata": {
            "needs_background": "light"
          },
          "output_type": "display_data"
        }
      ],
      "source": [
        "plt.scatter(X.ravel(), y)\n",
        "plt.plot(X_test.ravel(), y_test, c='r')\n",
        "plt.title(\"Mean squared error: {0:.3g}\".format(mean_squared_error(model.predict(X), y)))\n",
        "plt.ylim(-4, 14)"
      ]
    },
    {
      "attachments": {},
      "cell_type": "markdown",
      "metadata": {
        "id": "-FSZaEDYv9kM"
      },
      "source": [
        "When we increase the degree to this extent, it is clear that the resulting fit is no longer reflecting the true underlying distribution. Despite of lowe mean squared error, the model is more sensitive to the noise in the training data (notice the spikes).\n",
        "\n",
        "The above model is known as a *high-variance model* which means that it *overfits* the data. An overfitting model has learned the training data a bit *too well*, and will generalise poorly to new data points."
      ]
    },
    {
      "attachments": {},
      "cell_type": "markdown",
      "metadata": {
        "id": "Zhp0Yjy_xhwT"
      },
      "source": [
        "## Bias-variance tradeoff\n",
        "To achieve a balance between the bias error and the variance error, we need a degree such that the model neither learns from the noise (overfit on data) nor makes sweeping assumptions on the data (underfit on data). \n",
        "\n",
        "To illustrate this, we can select different values for the polynomial degree and number of data points for our model:"
      ]
    },
    {
      "cell_type": "code",
      "execution_count": 18,
      "metadata": {
        "colab": {
          "base_uri": "https://localhost:8080/",
          "height": 359,
          "referenced_widgets": [
            "3aeca35d8f3a4cd7a4d8c7725c4eb957",
            "f5668a30f94d4cdebc6e634d2ee7f791",
            "dbb8f97f32c54fddbf6947f58585c257",
            "bba3664ab1ee457f961ed451a7382845",
            "29e034b337ca47e9b9af48e2eb5f4fe3",
            "ca94730650dd4361b93b4c1ffbce6151",
            "fd481a9904264d148545f8838e13d105",
            "0ad9e88a8da84c54b411030081984491",
            "fc608f46c83d49b8afa8e83e0cb69c0e",
            "b4bed35b0c8948daae5751a70082d487"
          ]
        },
        "id": "YEj_WJ-Cvwcq",
        "outputId": "12f5c9c7-bdd1-44c0-e5a4-8423df8d66d4"
      },
      "outputs": [],
      "source": [
        "from ipywidgets import interact\n",
        "\n",
        "def polyfit(degree=1, n=50):\n",
        "  X,y=gen_data(n, error=1)\n",
        "  X_test = np.linspace(-0.1, 1.1, 500)[:,None]\n",
        "\n",
        "  # fit a polynomial regressor  \n",
        "  model = polyreg(degree=degree)\n",
        "  model.fit(X,y)\n",
        "  y_test = model.predict(X_test)\n",
        "\n",
        "  # plot the results:\n",
        "  plt.scatter(X.ravel(), y)\n",
        "  plt.plot(X_test.ravel(), y_test, c='r')\n",
        "  plt.title(\"Mean squared error: {0:.3g}\".format(mean_squared_error(model.predict(X), y)))\n",
        "\n",
        "interact(polyfit, degree=[1, 2, 3, 4, 5, 10, 15, 20, 30], n=[2, 10, 50, 100, 500, 1000]) "
      ]
    },
    {
      "attachments": {},
      "cell_type": "markdown",
      "metadata": {
        "id": "VGADolJG0sWA"
      },
      "source": [
        "As you can see, it is a tradeoff, but we will be able to identify values that are close to being optimal."
      ]
    },
    {
      "attachments": {},
      "cell_type": "markdown",
      "metadata": {
        "id": "N7UUOL3F1CK7"
      },
      "source": [
        "# Validation curves\n",
        "\n",
        "Evidently, computing the mean-squared error on the training data is not sufficient. We can use *cross-validation* to get a better handle on how the model fit is working.\n",
        "\n",
        "More importantly, we will use *validation curves* to identify how complex our model should be using sklearn's `validation_curve`. To start off, let's generate a sample dataset using our `gen_data` function:"
      ]
    },
    {
      "cell_type": "code",
      "execution_count": 36,
      "metadata": {
        "colab": {
          "base_uri": "https://localhost:8080/",
          "height": 280
        },
        "id": "ZpJoNsqG2GoS",
        "outputId": "6e1b3d26-5608-4cb9-9750-dd08fcb2eb02"
      },
      "outputs": [
        {
          "data": {
            "text/plain": [
              "<matplotlib.collections.PathCollection at 0x7f0bd34ce590>"
            ]
          },
          "execution_count": 36,
          "metadata": {},
          "output_type": "execute_result"
        },
        {
          "data": {
            "image/png": "[encoded data removed]",
            "text/plain": [
              "<Figure size 432x288 with 1 Axes>"
            ]
          },
          "metadata": {},
          "output_type": "display_data"
        }
      ],
      "source": [
        "X,y=gen_data(120, error=1.0)\n",
        "plt.scatter(X,y)"
      ]
    },
    {
      "attachments": {},
      "cell_type": "markdown",
      "metadata": {
        "id": "RgslYEk22ZIE"
      },
      "source": [
        "## Detecting underfitting and overfitting\n",
        "Using `validation_curve` allows us to identify how well the model fits the data. We will add a function called `calc_rmse` to compute root-mean-square error and then plot the error value, based on the number of degrees of freedom in the model:"
      ]
    },
    {
      "cell_type": "code",
      "execution_count": 37,
      "metadata": {
        "id": "1JfKcDXM2MG5"
      },
      "outputs": [],
      "source": [
        "from sklearn.model_selection import validation_curve\n",
        "\n",
        "def calc_rmse(model, X, y):\n",
        "  y_pred = model.predict(X)\n",
        "  return np.sqrt(np.mean((y-y_pred) ** 2))\n",
        "\n",
        "def plot_with_error(x, data, **kwargs):\n",
        "  mu, std = data.mean(1), data.std(1)\n",
        "  lines = plt.plot(x, mu, '-', **kwargs)\n",
        "  plt.fill_between(\n",
        "      x, mu - std, mu + std, edgecolor=\"none\", facecolor=lines[0].get_color(), alpha=.2\n",
        "  )"
      ]
    },
    {
      "attachments": {},
      "cell_type": "markdown",
      "metadata": {
        "id": "aFkp-syb4FIS"
      },
      "source": [
        "Try a range of degrees up to 17:"
      ]
    },
    {
      "cell_type": "code",
      "execution_count": 38,
      "metadata": {
        "colab": {
          "base_uri": "https://localhost:8080/",
          "height": 294
        },
        "id": "e3s3ONyP4OvK",
        "outputId": "14918d3b-886a-4083-fa02-16ba6417775c"
      },
      "outputs": [
        {
          "data": {
            "text/plain": [
              "<matplotlib.legend.Legend at 0x7f0bd343ee50>"
            ]
          },
          "execution_count": 38,
          "metadata": {},
          "output_type": "execute_result"
        },
        {
          "data": {
            "image/png": "[encoded data removed]",
            "text/plain": [
              "<Figure size 432x288 with 1 Axes>"
            ]
          },
          "metadata": {},
          "output_type": "display_data"
        }
      ],
      "source": [
        "degree = np.arange(0,18)\n",
        "val_train, val_test = validation_curve(\n",
        "    polyreg(), X, y, param_name = \"polynomialfeatures__degree\", param_range=degree, cv=7, scoring=calc_rmse\n",
        ")\n",
        "\n",
        "plot_with_error(degree, val_train, label=\"Training scores\")\n",
        "plot_with_error(degree, val_test, label=\"Validation scores\")\n",
        "plt.xlabel(\"Degree\")\n",
        "plt.ylabel(\"RMSE\")\n",
        "plt.legend()"
      ]
    },
    {
      "attachments": {},
      "cell_type": "markdown",
      "metadata": {
        "id": "HbcwPVdl6GNn"
      },
      "source": [
        "Let's talk about the plot above:\n",
        "\n",
        "1. For a small model complexity, the training error and validation error are very similar. This indicates that the model is underfitting the data: it doesn't have enough complexity to represent the data. Another way of putting it is that this is a high-bias model. \n",
        "2. As the model complexity grows, the training and validation scores diverge. This indicates that the model is overfitting the data: it has so much flexibility, that it fits the noise rather than the underlying trend. Another way of putting it is that this is a high-variance model. \n",
        "3. Note that the training score (nearly) always improves with model complexity. This is because a more complicated model can fit the noise better, so the model improves. The validation data generally has a sweet spot, which here is at around 5 terms."
      ]
    },
    {
      "attachments": {},
      "cell_type": "markdown",
      "metadata": {
        "id": "aeYAfBN06t0-"
      },
      "source": [
        "## Best-fit model\n",
        "Validation curve makes it much easier to select model's hyperparameters. Judging by the plot we got previously, the validation score dips at 4 degrees, which must be the optimal degree of a polynomial model. \n",
        "\n",
        "Here's our best-fit model according to the cross-validation:"
      ]
    },
    {
      "cell_type": "code",
      "execution_count": 39,
      "metadata": {
        "colab": {
          "base_uri": "https://localhost:8080/",
          "height": 262
        },
        "id": "Vkp6umdK46rX",
        "outputId": "1bbcca37-5023-4144-8063-cd19ef348bd7"
      },
      "outputs": [
        {
          "data": {
            "image/png": "[encoded data removed]",
            "text/plain": [
              "<Figure size 432x288 with 1 Axes>"
            ]
          },
          "metadata": {},
          "output_type": "display_data"
        }
      ],
      "source": [
        "model = polyreg(4).fit(X, y) \n",
        "plt.scatter(X, y) \n",
        "plt.plot(X_test, model.predict(X_test), c='r');"
      ]
    },
    {
      "attachments": {},
      "cell_type": "markdown",
      "metadata": {
        "id": "DMDEEvBe7KAX"
      },
      "source": [
        "# Learning curves\n",
        "## Linear regression\n",
        "As we can see previously, the exact turning-point of the tradeoff between bias and variance is highly dependent on the number of training points used. \n",
        "\n",
        "Here we'll illustrate the use of learning curves, which display this property. The idea is to plot the RMSE (root-mean-square error) for the training and test set as a function of the number of training points. Let's see what the learning curves look like for a linear model (i.e.  $d=1$):"
      ]
    },
    {
      "cell_type": "code",
      "execution_count": 40,
      "metadata": {
        "colab": {
          "base_uri": "https://localhost:8080/",
          "height": 280
        },
        "id": "y9h9Uyg17CIy",
        "outputId": "72c45443-9785-4f95-f59c-3f6dc7357ed2"
      },
      "outputs": [
        {
          "data": {
            "image/png": "[encoded data removed]",
            "text/plain": [
              "<Figure size 432x288 with 1 Axes>"
            ]
          },
          "metadata": {},
          "output_type": "display_data"
        }
      ],
      "source": [
        "from sklearn.model_selection import learning_curve\n",
        "\n",
        "def plot_learning_curve(degree=3):\n",
        "    train_sizes = np.linspace(0.05, 1, 120)\n",
        "    N_train, val_train, val_test = learning_curve(\n",
        "        polyreg(degree), X, y, groups=train_sizes, \n",
        "        cv=5, scoring=calc_rmse\n",
        "    )\n",
        "    plot_with_error(N_train, val_train, label='Training scores')\n",
        "    plot_with_error(N_train, val_test, label='Validation scores')\n",
        "    plt.xlabel('Training set size'); plt.ylabel('RMSE')\n",
        "    plt.ylim(0, 3)\n",
        "    plt.xlim(5, 80)\n",
        "    plt.legend()\n",
        "    \n",
        "plot_learning_curve(1)"
      ]
    },
    {
      "attachments": {},
      "cell_type": "markdown",
      "metadata": {
        "id": "jXK82oGO762l"
      },
      "source": [
        "The plot shows a typical learning curve: \n",
        "\n",
        "1. For very few training points, there is a large separation between the training and test error, which indicates overfitting. \n",
        "2. Given the same model, for a large number of training points, the training and testing errors converge, which indicates potential underfitting. \n",
        "\n",
        "\n",
        "As you add more data points, the training error will never increase, and the testing error will never decrease (why do you think this is?)."
      ]
    },
    {
      "attachments": {},
      "cell_type": "markdown",
      "metadata": {
        "id": "PmVAp8qC8scP"
      },
      "source": [
        "## Polynomial regression\n",
        "It is easy to see from the validation curves of the linear model, that if you'd like to reduce the MSE down to the nominal value of 1.0 (which is the magnitude of the scatter we put in when constructing the data), then adding more samples will never get you there. For  $d=1$, the two curves have converged and cannot move lower. What about for a larger value of $d$?"
      ]
    },
    {
      "cell_type": "code",
      "execution_count": 41,
      "metadata": {
        "colab": {
          "base_uri": "https://localhost:8080/",
          "height": 280
        },
        "id": "BIA3KM5L9BfD",
        "outputId": "f73fa624-7278-4557-d824-a76a65c6644b"
      },
      "outputs": [
        {
          "data": {
            "image/png": "[encoded data removed]",
            "text/plain": [
              "<Figure size 432x288 with 1 Axes>"
            ]
          },
          "metadata": {},
          "output_type": "display_data"
        }
      ],
      "source": [
        "plot_learning_curve(3)"
      ]
    },
    {
      "attachments": {},
      "cell_type": "markdown",
      "metadata": {
        "id": "F2cZDrO99InT"
      },
      "source": [
        "Here we see that by adding more model complexity, we've managed to lower the level of convergence to an rms error of 1.0! What if we get even more complex?"
      ]
    },
    {
      "cell_type": "code",
      "execution_count": 42,
      "metadata": {
        "colab": {
          "base_uri": "https://localhost:8080/",
          "height": 280
        },
        "id": "rYD2GGd09D9V",
        "outputId": "a27e5b4c-cfe7-4df3-f100-fcb7708a43e3"
      },
      "outputs": [
        {
          "data": {
            "image/png": "[encoded data removed]",
            "text/plain": [
              "<Figure size 432x288 with 1 Axes>"
            ]
          },
          "metadata": {},
          "output_type": "display_data"
        }
      ],
      "source": [
        "plot_learning_curve(10)"
      ]
    },
    {
      "attachments": {},
      "cell_type": "markdown",
      "metadata": {
        "id": "e5A4kkC19q_p"
      },
      "source": [
        "For an even more complex model, we still converge, but the convergence only happens for large amounts of training data. So we see the following:\n",
        "\n",
        "* You can cause the lines to converge by adding more points or by simplifying the model. \n",
        "* You can bring the convergence error down only by increasing the complexity of the model. \n",
        "\n",
        "Thus these curves can give you hints about how you might improve a sub-optimal model. If the curves are already close together, you need more model complexity. If the curves are far apart, you might also improve the model by adding more data. \n",
        "\n",
        "To make this more concrete, imagine some telescope data in which the results are not robust enough. You must think about whether to spend your valuable telescope time *observing more objects* to get a larger training set, or more attributes of each object in order to improve the model. The answer to this question has real consequences, and can be addressed using these metrics."
      ]
    },
    {
      "attachments": {},
      "cell_type": "markdown",
      "metadata": {
        "id": "tsZFhIL5_KHc"
      },
      "source": [
        "# Summary\n",
        "\n",
        "We've gone over several useful tools for model validation: \n",
        "\n",
        "1. The training score shows how well a model fits the data it was trained on. This is not a good indication of model effectiveness. \n",
        "2. The validation score shows how well a model fits hold-out data. The most effective method is some form of cross-validation, where multiple hold-out sets are used. \n",
        "3. *Validation curves* are a plot of validation score and training score as a function of model complexity: \n",
        "> * when the two curves are close, it indicates underfitting,\n",
        "> * when the two curves are separated, it indicates overfitting, \n",
        "> * the \"sweet spot\" is in the middle. \n",
        "4. Learning curves are a plot of the validation score and training score as a function of number of training samples: \n",
        "> * when the curves are close, it indicates underfitting, and adding more data will not generally improve the estimator, \n",
        "> * when the curves are far apart, it indicates overfitting, and adding more data may increase the effectiveness of the model. \n",
        "\n",
        "These tools are powerful means of evaluating your model on your data."
      ]
    }
  ],
  "metadata": {
    "colab": {
      "authorship_tag": "ABX9TyMm/mCaiA/tOnDNHTQYf2me",
      "collapsed_sections": [
        "B7fwwHtmBpwD"
      ],
      "include_colab_link": true,
      "name": "model-selection-evaluation.ipynb",
      "provenance": []
    },
    "kernelspec": {
      "display_name": "Python 3",
      "name": "python3"
    },
    "language_info": {
      "codemirror_mode": {
        "name": "ipython",
        "version": 3
      },
      "file_extension": ".py",
      "mimetype": "text/x-python",
      "name": "python",
      "nbconvert_exporter": "python",
      "pygments_lexer": "ipython3",
      "version": "3.9.12"
    },
    "widgets": {
      "application/vnd.jupyter.widget-state+json": {
        "0ad9e88a8da84c54b411030081984491": {
          "model_module": "@jupyter-widgets/base",
          "model_module_version": "1.2.0",
          "model_name": "LayoutModel",
          "state": {
            "_model_module": "@jupyter-widgets/base",
            "_model_module_version": "1.2.0",
            "_model_name": "LayoutModel",
            "_view_count": null,
            "_view_module": "@jupyter-widgets/base",
            "_view_module_version": "1.2.0",
            "_view_name": "LayoutView",
            "align_content": null,
            "align_items": null,
            "align_self": null,
            "border": null,
            "bottom": null,
            "display": null,
            "flex": null,
            "flex_flow": null,
            "grid_area": null,
            "grid_auto_columns": null,
            "grid_auto_flow": null,
            "grid_auto_rows": null,
            "grid_column": null,
            "grid_gap": null,
            "grid_row": null,
            "grid_template_areas": null,
            "grid_template_columns": null,
            "grid_template_rows": null,
            "height": null,
            "justify_content": null,
            "justify_items": null,
            "left": null,
            "margin": null,
            "max_height": null,
            "max_width": null,
            "min_height": null,
            "min_width": null,
            "object_fit": null,
            "object_position": null,
            "order": null,
            "overflow": null,
            "overflow_x": null,
            "overflow_y": null,
            "padding": null,
            "right": null,
            "top": null,
            "visibility": null,
            "width": null
          }
        },
        "29e034b337ca47e9b9af48e2eb5f4fe3": {
          "model_module": "@jupyter-widgets/base",
          "model_module_version": "1.2.0",
          "model_name": "LayoutModel",
          "state": {
            "_model_module": "@jupyter-widgets/base",
            "_model_module_version": "1.2.0",
            "_model_name": "LayoutModel",
            "_view_count": null,
            "_view_module": "@jupyter-widgets/base",
            "_view_module_version": "1.2.0",
            "_view_name": "LayoutView",
            "align_content": null,
            "align_items": null,
            "align_self": null,
            "border": null,
            "bottom": null,
            "display": null,
            "flex": null,
            "flex_flow": null,
            "grid_area": null,
            "grid_auto_columns": null,
            "grid_auto_flow": null,
            "grid_auto_rows": null,
            "grid_column": null,
            "grid_gap": null,
            "grid_row": null,
            "grid_template_areas": null,
            "grid_template_columns": null,
            "grid_template_rows": null,
            "height": null,
            "justify_content": null,
            "justify_items": null,
            "left": null,
            "margin": null,
            "max_height": null,
            "max_width": null,
            "min_height": null,
            "min_width": null,
            "object_fit": null,
            "object_position": null,
            "order": null,
            "overflow": null,
            "overflow_x": null,
            "overflow_y": null,
            "padding": null,
            "right": null,
            "top": null,
            "visibility": null,
            "width": null
          }
        },
        "3aeca35d8f3a4cd7a4d8c7725c4eb957": {
          "model_module": "@jupyter-widgets/controls",
          "model_module_version": "1.5.0",
          "model_name": "VBoxModel",
          "state": {
            "_dom_classes": [
              "widget-interact"
            ],
            "_model_module": "@jupyter-widgets/controls",
            "_model_module_version": "1.5.0",
            "_model_name": "VBoxModel",
            "_view_count": null,
            "_view_module": "@jupyter-widgets/controls",
            "_view_module_version": "1.5.0",
            "_view_name": "VBoxView",
            "box_style": "",
            "children": [
              "IPY_MODEL_f5668a30f94d4cdebc6e634d2ee7f791",
              "IPY_MODEL_dbb8f97f32c54fddbf6947f58585c257",
              "IPY_MODEL_bba3664ab1ee457f961ed451a7382845"
            ],
            "layout": "IPY_MODEL_29e034b337ca47e9b9af48e2eb5f4fe3"
          }
        },
        "b4bed35b0c8948daae5751a70082d487": {
          "model_module": "@jupyter-widgets/base",
          "model_module_version": "1.2.0",
          "model_name": "LayoutModel",
          "state": {
            "_model_module": "@jupyter-widgets/base",
            "_model_module_version": "1.2.0",
            "_model_name": "LayoutModel",
            "_view_count": null,
            "_view_module": "@jupyter-widgets/base",
            "_view_module_version": "1.2.0",
            "_view_name": "LayoutView",
            "align_content": null,
            "align_items": null,
            "align_self": null,
            "border": null,
            "bottom": null,
            "display": null,
            "flex": null,
            "flex_flow": null,
            "grid_area": null,
            "grid_auto_columns": null,
            "grid_auto_flow": null,
            "grid_auto_rows": null,
            "grid_column": null,
            "grid_gap": null,
            "grid_row": null,
            "grid_template_areas": null,
            "grid_template_columns": null,
            "grid_template_rows": null,
            "height": null,
            "justify_content": null,
            "justify_items": null,
            "left": null,
            "margin": null,
            "max_height": null,
            "max_width": null,
            "min_height": null,
            "min_width": null,
            "object_fit": null,
            "object_position": null,
            "order": null,
            "overflow": null,
            "overflow_x": null,
            "overflow_y": null,
            "padding": null,
            "right": null,
            "top": null,
            "visibility": null,
            "width": null
          }
        },
        "bba3664ab1ee457f961ed451a7382845": {
          "model_module": "@jupyter-widgets/output",
          "model_module_version": "1.0.0",
          "model_name": "OutputModel",
          "state": {
            "_dom_classes": [],
            "_model_module": "@jupyter-widgets/output",
            "_model_module_version": "1.0.0",
            "_model_name": "OutputModel",
            "_view_count": null,
            "_view_module": "@jupyter-widgets/output",
            "_view_module_version": "1.0.0",
            "_view_name": "OutputView",
            "layout": "IPY_MODEL_b4bed35b0c8948daae5751a70082d487",
            "msg_id": "",
            "outputs": [
              {
                "data": {
                  "image/png": "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\n",
                  "text/plain": "<Figure size 432x288 with 1 Axes>"
                },
                "metadata": {},
                "output_type": "display_data"
              }
            ]
          }
        },
        "ca94730650dd4361b93b4c1ffbce6151": {
          "model_module": "@jupyter-widgets/base",
          "model_module_version": "1.2.0",
          "model_name": "LayoutModel",
          "state": {
            "_model_module": "@jupyter-widgets/base",
            "_model_module_version": "1.2.0",
            "_model_name": "LayoutModel",
            "_view_count": null,
            "_view_module": "@jupyter-widgets/base",
            "_view_module_version": "1.2.0",
            "_view_name": "LayoutView",
            "align_content": null,
            "align_items": null,
            "align_self": null,
            "border": null,
            "bottom": null,
            "display": null,
            "flex": null,
            "flex_flow": null,
            "grid_area": null,
            "grid_auto_columns": null,
            "grid_auto_flow": null,
            "grid_auto_rows": null,
            "grid_column": null,
            "grid_gap": null,
            "grid_row": null,
            "grid_template_areas": null,
            "grid_template_columns": null,
            "grid_template_rows": null,
            "height": null,
            "justify_content": null,
            "justify_items": null,
            "left": null,
            "margin": null,
            "max_height": null,
            "max_width": null,
            "min_height": null,
            "min_width": null,
            "object_fit": null,
            "object_position": null,
            "order": null,
            "overflow": null,
            "overflow_x": null,
            "overflow_y": null,
            "padding": null,
            "right": null,
            "top": null,
            "visibility": null,
            "width": null
          }
        },
        "dbb8f97f32c54fddbf6947f58585c257": {
          "model_module": "@jupyter-widgets/controls",
          "model_module_version": "1.5.0",
          "model_name": "DropdownModel",
          "state": {
            "_dom_classes": [],
            "_model_module": "@jupyter-widgets/controls",
            "_model_module_version": "1.5.0",
            "_model_name": "DropdownModel",
            "_options_labels": [
              "2",
              "10",
              "50",
              "100",
              "500",
              "1000"
            ],
            "_view_count": null,
            "_view_module": "@jupyter-widgets/controls",
            "_view_module_version": "1.5.0",
            "_view_name": "DropdownView",
            "description": "n",
            "description_tooltip": null,
            "disabled": false,
            "index": 3,
            "layout": "IPY_MODEL_0ad9e88a8da84c54b411030081984491",
            "style": "IPY_MODEL_fc608f46c83d49b8afa8e83e0cb69c0e"
          }
        },
        "f5668a30f94d4cdebc6e634d2ee7f791": {
          "model_module": "@jupyter-widgets/controls",
          "model_module_version": "1.5.0",
          "model_name": "DropdownModel",
          "state": {
            "_dom_classes": [],
            "_model_module": "@jupyter-widgets/controls",
            "_model_module_version": "1.5.0",
            "_model_name": "DropdownModel",
            "_options_labels": [
              "1",
              "2",
              "3",
              "4",
              "5",
              "10",
              "15",
              "20",
              "30"
            ],
            "_view_count": null,
            "_view_module": "@jupyter-widgets/controls",
            "_view_module_version": "1.5.0",
            "_view_name": "DropdownView",
            "description": "degree",
            "description_tooltip": null,
            "disabled": false,
            "index": 3,
            "layout": "IPY_MODEL_ca94730650dd4361b93b4c1ffbce6151",
            "style": "IPY_MODEL_fd481a9904264d148545f8838e13d105"
          }
        },
        "fc608f46c83d49b8afa8e83e0cb69c0e": {
          "model_module": "@jupyter-widgets/controls",
          "model_module_version": "1.5.0",
          "model_name": "DescriptionStyleModel",
          "state": {
            "_model_module": "@jupyter-widgets/controls",
            "_model_module_version": "1.5.0",
            "_model_name": "DescriptionStyleModel",
            "_view_count": null,
            "_view_module": "@jupyter-widgets/base",
            "_view_module_version": "1.2.0",
            "_view_name": "StyleView",
            "description_width": ""
          }
        },
        "fd481a9904264d148545f8838e13d105": {
          "model_module": "@jupyter-widgets/controls",
          "model_module_version": "1.5.0",
          "model_name": "DescriptionStyleModel",
          "state": {
            "_model_module": "@jupyter-widgets/controls",
            "_model_module_version": "1.5.0",
            "_model_name": "DescriptionStyleModel",
            "_view_count": null,
            "_view_module": "@jupyter-widgets/base",
            "_view_module_version": "1.2.0",
            "_view_name": "StyleView",
            "description_width": ""
          }
        }
      }
    }
  },
  "nbformat": 4,
  "nbformat_minor": 0
}
