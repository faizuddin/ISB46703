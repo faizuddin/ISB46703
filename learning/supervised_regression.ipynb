{
  "nbformat": 4,
  "nbformat_minor": 0,
  "metadata": {
    "colab": {
      "provenance": [],
      "mount_file_id": "1BuvWkbD1zywE3lcE9r68vopn0lrxHx2-",
      "authorship_tag": "ABX9TyNKRRksSXX5NVl5MD4Y+gXm",
      "include_colab_link": true
    },
    "kernelspec": {
      "name": "python3",
      "display_name": "Python 3"
    },
    "language_info": {
      "name": "python"
    }
  },
  "cells": [
    {
      "cell_type": "markdown",
      "metadata": {
        "id": "view-in-github",
        "colab_type": "text"
      },
      "source": [
        "<a href=\"https://colab.research.google.com/github/faizuddin/ISB46703/blob/main/supervised_regression.ipynb\" target=\"_parent\"><img src=\"https://colab.research.google.com/assets/colab-badge.svg\" alt=\"Open In Colab\"/></a>"
      ]
    },
    {
      "cell_type": "markdown",
      "metadata": {
        "id": "TeQDPcyHKNr4"
      },
      "source": [
        "# Supervised learning\n",
        "In general we have two types of supervised learning:\n",
        "\n",
        "1. Regression (given training data + desired labeled continuous outputs)\n",
        "2. Classification (given training data + desired labeled categorical outputs)\n",
        "\n",
        "## Supervised Learning\n",
        "\n",
        "We will use simple two dimensional data set from [here](https://archive.org/download/ages-and-heights/AgesAndHeights.pkl). Download the dataset into this notebook using [wget](https://www.gnu.org/software/wget/) and visualise them.\n",
        "\n",
        "The dataset is in [pickle](https://docs.python.org/3/library/pickle.html) format."
      ]
    },
    {
      "cell_type": "code",
      "metadata": {
        "id": "pw-ziZVhJlt_"
      },
      "source": [
        "!wget https://archive.org/download/ages-and-heights/AgesAndHeights.pkl"
      ],
      "execution_count": null,
      "outputs": []
    },
    {
      "cell_type": "code",
      "metadata": {
        "id": "3L9RtkZTMIe0"
      },
      "source": [
        "# important data structure library!\n",
        "import pandas as pd\n",
        "\n",
        "# read pickle format\n",
        "rawdataset = pd.read_pickle(\"AgesAndHeights.pkl\")"
      ],
      "execution_count": null,
      "outputs": []
    },
    {
      "cell_type": "markdown",
      "metadata": {
        "id": "IB7lvmVPNFHS"
      },
      "source": [
        "### Visualise data using histogram\n",
        "Use Pandas [``hist()``](https://pandas.pydata.org/docs/reference/api/pandas.DataFrame.hist.html) to visualise approximate representation of the distribution of numerical data. The Y-axis in both the plots refers to frequency and X-axis represents *Age* and *Height* respectively."
      ]
    },
    {
      "cell_type": "code",
      "metadata": {
        "id": "ZtlAqSomMXUo"
      },
      "source": [
        "rawdataset.hist()"
      ],
      "execution_count": null,
      "outputs": []
    },
    {
      "cell_type": "markdown",
      "metadata": {
        "id": "gaACWjS8OXyK"
      },
      "source": [
        "### Data Cleaning\n",
        "\n",
        "We are going to build model using valid dataset and clean the unaccountable data (empty/null). In the above histograms, we can see that there are a few entries that have an age less than zero which is meaningless. Hence, we need to clean those data to get better accuracy."
      ]
    },
    {
      "cell_type": "code",
      "metadata": {
        "id": "RSzKZbS-MesE"
      },
      "source": [
        "cleandataset = rawdataset[rawdataset[\"Age\"]>0]\n",
        "cleandataset.hist()"
      ],
      "execution_count": null,
      "outputs": []
    },
    {
      "cell_type": "markdown",
      "metadata": {
        "id": "20xPS1LDPXeF"
      },
      "source": [
        "### Visualise data using scatter plot\n",
        "We will represent *Age* on X-axis and *Height* on Y-axis. The points in the plot refer to data from `cleandataset`. We use Pandas  [`plot.scatter()`](https://https://pandas.pydata.org/pandas-docs/version/0.25.0/reference/api/pandas.DataFrame.plot.scatter.html) to plot."
      ]
    },
    {
      "cell_type": "code",
      "source": [
        "cleandataset.head()"
      ],
      "metadata": {
        "id": "y7p9QIm5zIDG"
      },
      "execution_count": null,
      "outputs": []
    },
    {
      "cell_type": "code",
      "source": [
        "cleandataset.shape"
      ],
      "metadata": {
        "id": "cS_RfJcXzWVe"
      },
      "execution_count": null,
      "outputs": []
    },
    {
      "cell_type": "code",
      "metadata": {
        "id": "xsSgsQgQPAEU"
      },
      "source": [
        "# Draw a scatter plot\n",
        "ax = cleandataset.plot.scatter(x = 'Age', y = 'Height');\n",
        "\n",
        "# Set x and y axis labels\n",
        "ax.set_ylabel(\"Height (cm)\")\n",
        "ax.set_xlabel(\"Age (year)\")"
      ],
      "execution_count": null,
      "outputs": []
    },
    {
      "cell_type": "markdown",
      "metadata": {
        "id": "UujMOeBBSeIT"
      },
      "source": [
        "### Build the model and train it\n",
        "\n",
        "Here we are going to use simple [linear regression](https://en.wikipedia.org/wiki/Linear_regression) to train our *Age-Height* model.\n",
        "\n",
        "Steps:\n",
        "\n",
        "1. Learn parameters\n",
        "2. Train model using the learned (optimal) parameters\n",
        "3. Evaluate prediction"
      ]
    },
    {
      "cell_type": "markdown",
      "metadata": {
        "id": "9g9eTCW0hwpk"
      },
      "source": [
        "### Learning paramaters\n",
        "We create a function called `learnpars()` that uses the basic straight-line equation and returns `y`, in our case *Height*. If we pass the required parameters and run `learnpars()`, we will find that the height we get for the age as input does not match. Hence, we use `learnpars()` to train the model.\n",
        "\n",
        "Straight line equation: `Y = a + bX` (a = alpha, b=beta)"
      ]
    },
    {
      "cell_type": "code",
      "metadata": {
        "id": "v7Kq2N7HQ7b_"
      },
      "source": [
        "pars = {\"alpha\" : 40, \"beta\" : 4}\n",
        "\n",
        "def y_height(age, pars):\n",
        "  alpha = pars[\"alpha\"]\n",
        "  beta = pars[\"beta\"]\n",
        "  return alpha + beta * age\n",
        "\n",
        "y_height(5, pars)"
      ],
      "execution_count": null,
      "outputs": []
    },
    {
      "cell_type": "code",
      "metadata": {
        "id": "z6xeuTGtUWJL"
      },
      "source": [
        "def learnpars(data, pars):\n",
        "  x,y = cleandataset[\"Age\"], cleandataset[\"Height\"]\n",
        "  x_bar, y_bar = x.mean(), y.mean()\n",
        "  x,y = x.to_numpy(), y.to_numpy()\n",
        "  beta = sum((x-x_bar) * (y-y_bar) / sum((x-x_bar)**2))\n",
        "  alpha = y_bar - beta * x_bar\n",
        "  pars[\"alpha\"] = alpha\n",
        "  pars[\"beta\"] = beta"
      ],
      "execution_count": null,
      "outputs": []
    },
    {
      "cell_type": "code",
      "metadata": {
        "id": "0Hjub_uIVtw0"
      },
      "source": [
        "# Find the correct parameters\n",
        "newpars = {\"alpha\" : 0, \"beta\" : 0}\n",
        "learnpars(cleandataset,newpars)\n",
        "\n",
        "# The optimal alpha and beta parameters\n",
        "newpars"
      ],
      "execution_count": null,
      "outputs": []
    },
    {
      "cell_type": "markdown",
      "metadata": {
        "id": "EiUwE_g50Dpf"
      },
      "source": [
        "### Dummy dataset\n",
        "This demonstrates how parameters selection can impact the model."
      ]
    },
    {
      "cell_type": "code",
      "metadata": {
        "id": "9M6gA3IAVwz8"
      },
      "source": [
        "# Create a dummy list of age\n",
        "dummy_ages = list(range(19))\n",
        "\n",
        "# Predict height using unoptimised parameters\n",
        "untrained_predicted_heights = [y_height(age, pars) for age in dummy_ages]\n",
        "\n",
        "# Create a dataframe\n",
        "untrained = pd.DataFrame(list(zip(dummy_ages, untrained_predicted_heights)), columns =['Age', 'Height'])\n",
        "\n",
        "untrained"
      ],
      "execution_count": null,
      "outputs": []
    },
    {
      "cell_type": "code",
      "metadata": {
        "id": "UTOa2JoQkUq3"
      },
      "source": [
        "import matplotlib.pyplot as plt\n",
        "\n",
        "# Draw a scatter plot\n",
        "plt.scatter(untrained[\"Age\"], untrained[\"Height\"], label=\"Untrained - dummy\");\n",
        "plt.scatter(cleandataset[\"Age\"], cleandataset[\"Height\"], label=\"Raw - cleaned\");\n",
        "\n",
        "# Set x and y axis labels\n",
        "plt.xlabel(\"Age (year)\")\n",
        "plt.xlabel(\"Height (cm)\")\n",
        "plt.legend()"
      ],
      "execution_count": null,
      "outputs": []
    },
    {
      "cell_type": "markdown",
      "metadata": {
        "id": "NGzTnPBdxv34"
      },
      "source": [
        "### Regression using trained parameters\n",
        "\n",
        "We do a regression over `cleandataset` using the trained parameters (`newpars`) by calling `y_height()` and we plot the prediction results."
      ]
    },
    {
      "cell_type": "code",
      "metadata": {
        "id": "ruxdrD1QlRzq"
      },
      "source": [
        "# run regression\n",
        "trained_predicted_heights = [y_height(age, newpars) for age in cleandataset[\"Age\"]]\n",
        "\n",
        "# Create a dataframe\n",
        "trained = pd.DataFrame(list(zip(cleandataset[\"Age\"], trained_predicted_heights)), columns =['Age', 'Height'])"
      ],
      "execution_count": null,
      "outputs": []
    },
    {
      "cell_type": "code",
      "metadata": {
        "id": "e0agXiI4pYTm"
      },
      "source": [
        "# Draw a scatter plot\n",
        "plt.scatter(untrained[\"Age\"], untrained[\"Height\"], label=\"Untrained - dummy\");\n",
        "plt.scatter(cleandataset[\"Age\"], cleandataset[\"Height\"], label=\"Raw - cleaned\");\n",
        "# Regression results\n",
        "plt.plot(trained[\"Age\"], trained[\"Height\"], label=\"Predictions\", color=\"red\");\n",
        "\n",
        "# Set x and y axis labels\n",
        "plt.xlabel(\"Age (year)\")\n",
        "plt.ylabel(\"Height (cm)\")\n",
        "plt.legend()\n",
        "\n",
        "trained"
      ],
      "execution_count": null,
      "outputs": []
    },
    {
      "cell_type": "markdown",
      "metadata": {
        "id": "99xATNQIv3pX"
      },
      "source": [
        "### Evaluate prediction performance\n",
        "\n",
        "We need to measure how well is our model predicting the height. Therefore we use [Root Mean Squared Error (RMSE)](https://en.wikipedia.org/wiki/Root-mean-square_deviation) to measure how far is our predicted values from the actual values, on average."
      ]
    },
    {
      "cell_type": "code",
      "metadata": {
        "id": "w_GVuScUu5gO"
      },
      "source": [
        "from sklearn.metrics import mean_squared_error \n",
        "\n",
        "# root mean squared error: how far predicted from the actual value, on average\n",
        "rmse = mean_squared_error(cleandataset[\"Height\"], trained[\"Height\"], squared = False)\n",
        "\n",
        "print(\"RMSE: \" + str(rmse) + \"cm\")"
      ],
      "execution_count": null,
      "outputs": []
    },
    {
      "cell_type": "markdown",
      "metadata": {
        "id": "oQCEwq2pxY07"
      },
      "source": [
        "### Predicting unseen data\n",
        "\n",
        "We can test our model to predict model using a completely new, unseen data."
      ]
    },
    {
      "cell_type": "code",
      "metadata": {
        "id": "Jn6A9y3Ctz3i"
      },
      "source": [
        "age_input = int(input(\"Enter an 'age' to predict height: \"))\n",
        "y_height(age_input, newpars)"
      ],
      "execution_count": null,
      "outputs": []
    },
    {
      "cell_type": "markdown",
      "metadata": {
        "id": "lP3HdFcbgLhH"
      },
      "source": [
        "## Multiple Linear Regression\n",
        "In the previous simple linear example, we only deal with one independent variable (age) and one dependent variable (height).\n",
        "\n",
        "In cases when we have more than one independent variables (features) and one dependent variable, we call it a multiple linear regression problem. \n",
        "\n",
        "To do multiple linear regression, we first convert the standard linear equation:\n",
        "\n",
        "`y = a + Bx`\n",
        "\n",
        "to\n",
        "\n",
        "`y = a + B1x1 + B2x2 + ... + Bnxn`\n",
        "\n",
        "where `a` is the intercept and `B1, B2, ... ,Bn` are the coefficients (slope) concerning independent variable `x1, x2, ..., xn`. This essentially indicates that if we increase the value of `x1` by 1 unit then `B1` says that how much value it will affect `y`, and this was similar concerning for `B2, ... ,Bn`.\n",
        "\n",
        "The next example demonstrates this case. We will use 2016 Air Quality dataset which consists of 9538 instances. \n",
        "\n",
        "### AirQuality file dataset column information\n",
        "\n",
        "0. Date the reading was recorded on\n",
        "1. Time of the day the reading was recorded on\n",
        "2. Concentration of CO in milligram/m^3\n",
        "3. Sensor response for Tin oxide\n",
        "4. Concentration of Non Metanic HydroCarbons concentration in microg/m^3\n",
        "5. Concentration of Benzene in microg/m^3\n",
        "6. Sensor response for titania\n",
        "7. Concentration of NOx concentration in parts per billion\n",
        "8. Sensor response for Tungsten Oxide (Targeting NOx)\n",
        "9. Concentration of NO2 in microg/m^3\n",
        "10. Sensor response for Tungsten Oxide (Targeting NO2)\n",
        "11. Sensor response for Indium Oxide\n",
        "12. Temperature at the time of the reading (°C)\n",
        "13. Relative Humidity (%)\n",
        "14. Absolute Humidity\n",
        "\n",
        "Full description of this dataset can be found [here](https://gist.github.com/shreyasiitr/57f8fa30fa20b049359fb567cc6407d0)\n"
      ]
    },
    {
      "cell_type": "code",
      "metadata": {
        "id": "rYR_QYwokyaD"
      },
      "source": [
        "# Download dataset\n",
        "\n",
        "!wget \"https://raw.githubusercontent.com/faizuddin/ISB46703/main/data/AirQualityUCI.csv\""
      ],
      "execution_count": null,
      "outputs": []
    },
    {
      "cell_type": "code",
      "metadata": {
        "id": "H--5f6rlnIuC"
      },
      "source": [
        "# important data structure library!\n",
        "import pandas as pd\n",
        "\n",
        "# Read raw dataset file into Pandas dataframe\n",
        "df = pd.read_csv(\"AirQualityUCI.csv\")"
      ],
      "execution_count": null,
      "outputs": []
    },
    {
      "cell_type": "code",
      "metadata": {
        "id": "A9PsBNBxnuA2"
      },
      "source": [
        "df.head()"
      ],
      "execution_count": null,
      "outputs": []
    },
    {
      "cell_type": "code",
      "metadata": {
        "id": "oQcaA5adwiGr"
      },
      "source": [
        "df.info()"
      ],
      "execution_count": null,
      "outputs": []
    },
    {
      "cell_type": "code",
      "metadata": {
        "id": "U7lUXgpdEo8d"
      },
      "source": [
        "# 12 independent variables\n",
        "X = df.drop([\"Date\", \"Time\", \"C6H6\"], axis=1) \n",
        "\n",
        "# dependent variable\n",
        "y = df[\"C6H6\"]"
      ],
      "execution_count": null,
      "outputs": []
    },
    {
      "cell_type": "code",
      "metadata": {
        "id": "Ty4HZyEYbY4l"
      },
      "source": [
        "import matplotlib.pyplot as plt\n",
        "\n",
        "f = plt.figure(figsize=(20,6))\n",
        "\n",
        "plt.subplot(2,3,1)\n",
        "plt.scatter(X.iloc[:,0], y)\n",
        "# Set x and y axis labels\n",
        "plt.xlabel(\"CO(GT)\")\n",
        "plt.ylabel(\"C6H6(GT)\")\n",
        "# plt.legend()\n",
        "\n",
        "plt.subplot(2,3,2)\n",
        "plt.scatter(X.iloc[:,1], y)\n",
        "# Set x and y axis labels\n",
        "plt.xlabel(\"PT08.S1(CO)\")\n",
        "plt.ylabel(\"C6H6(GT)\")\n",
        "# plt.legend()\n",
        "\n",
        "plt.subplot(2,3,3)\n",
        "plt.scatter(X.iloc[:,2], y)\n",
        "# Set x and y axis labels\n",
        "plt.xlabel(\"NMHC(GT)\")\n",
        "plt.ylabel(\"C6H6(GT)\")\n",
        "# plt.legend()\n",
        "\n",
        "plt.subplot(2,3,4)\n",
        "plt.scatter(X.iloc[:,3], y)\n",
        "# Set x and y axis labels\n",
        "plt.xlabel(\"C6H6(GT)\")\n",
        "plt.ylabel(\"C6H6(GT)\")\n",
        "# plt.legend()\n",
        "\n",
        "plt.subplot(2,3,5)\n",
        "plt.scatter(X.iloc[:,4], y)\n",
        "# Set x and y axis labels\n",
        "plt.xlabel(\"PT08.S2(NMHC)\")\n",
        "plt.ylabel(\"C6H6(GT)\")\n",
        "# plt.legend()\n",
        "\n",
        "plt.subplot(2,3,6)\n",
        "plt.scatter(X.iloc[:,5], y)\n",
        "# Set x and y axis labels\n",
        "plt.xlabel(\"NOx(GT)\")\n",
        "plt.ylabel(\"C6H6(GT)\")\n",
        "# plt.legend()\n",
        "\n"
      ],
      "execution_count": null,
      "outputs": []
    },
    {
      "cell_type": "markdown",
      "source": [
        "### Training and testing dataset split"
      ],
      "metadata": {
        "id": "DV2V5WPh7iXk"
      }
    },
    {
      "cell_type": "code",
      "metadata": {
        "id": "g0hkuG7lGItA"
      },
      "source": [
        "# importing train_test_split from sklearn\n",
        "from sklearn.model_selection import train_test_split\n",
        "\n",
        "# splitting the data\n",
        "X_train, X_test, y_train, y_test = train_test_split(X, y, test_size = 0.3, random_state=1)"
      ],
      "execution_count": null,
      "outputs": []
    },
    {
      "cell_type": "markdown",
      "source": [
        "### Training"
      ],
      "metadata": {
        "id": "dAFWpRGf7ptQ"
      }
    },
    {
      "cell_type": "code",
      "metadata": {
        "id": "5HbqL5uZGhry"
      },
      "source": [
        "# importing module\n",
        "from sklearn.linear_model import LinearRegression\n",
        "\n",
        "# creating an object of LinearRegression class\n",
        "LR = LinearRegression()\n",
        "\n",
        "# fitting the training data\n",
        "mlr = LR.fit(X_train,y_train)"
      ],
      "execution_count": null,
      "outputs": []
    },
    {
      "cell_type": "markdown",
      "source": [
        "### Testing"
      ],
      "metadata": {
        "id": "yH5AuW_D7sl2"
      }
    },
    {
      "cell_type": "code",
      "metadata": {
        "id": "VKCQ5tuzGjE6"
      },
      "source": [
        "y_pred =  mlr.predict(X_test)"
      ],
      "execution_count": null,
      "outputs": []
    },
    {
      "cell_type": "markdown",
      "source": [
        "### Model evaluation"
      ],
      "metadata": {
        "id": "N1lH1Tbl7e57"
      }
    },
    {
      "cell_type": "code",
      "metadata": {
        "id": "fn8ICLq7Hg3O"
      },
      "source": [
        "from sklearn.metrics import r2_score\n",
        "from sklearn.metrics import mean_squared_error \n",
        "\n",
        "# r2 score\n",
        "score = r2_score(y_test, y_pred)\n",
        "\n",
        "# root mean squared error: how far predicted from the actual value, on average\n",
        "rmse = mean_squared_error(y_test, y_pred, squared = False)\n",
        "\n",
        "print(\"r2 score: \", score)\n",
        "print(\"RMSE: \", rmse, \"mg/m^3\")"
      ],
      "execution_count": null,
      "outputs": []
    }
  ]
}