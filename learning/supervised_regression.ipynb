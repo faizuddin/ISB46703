{
  "cells": [
    {
      "attachments": {},
      "cell_type": "markdown",
      "metadata": {
        "id": "TeQDPcyHKNr4"
      },
      "source": [
        "# Supervised learning\n",
        "In general we have two types of supervised learning:\n",
        "\n",
        "1. Regression (given training data + desired labeled *continuous outputs*)\n",
        "2. Classification (given training data + desired labeled *categorical outputs*)\n",
        "\n",
        "## Supervised Learning\n",
        "\n",
        "We will use simple two dimensional data set from [here](https://archive.org/download/ages-and-heights/AgesAndHeights.pkl). Download the dataset into this notebook using [wget](https://www.gnu.org/software/wget/) and visualise them.\n",
        "\n",
        "The dataset is in [pickle](https://docs.python.org/3/library/pickle.html) format."
      ]
    },
    {
      "cell_type": "code",
      "execution_count": 1,
      "metadata": {
        "id": "3L9RtkZTMIe0"
      },
      "outputs": [],
      "source": [
        "# important data structure library!\n",
        "import pandas as pd\n",
        "\n",
        "# read pickle format\n",
        "rawdataset = pd.read_pickle(\"../data/AgesAndHeights.pkl\")"
      ]
    },
    {
      "cell_type": "code",
      "execution_count": 2,
      "metadata": {},
      "outputs": [
        {
          "data": {
            "text/html": [
              "<div>\n",
              "<style scoped>\n",
              "    .dataframe tbody tr th:only-of-type {\n",
              "        vertical-align: middle;\n",
              "    }\n",
              "\n",
              "    .dataframe tbody tr th {\n",
              "        vertical-align: top;\n",
              "    }\n",
              "\n",
              "    .dataframe thead th {\n",
              "        text-align: right;\n",
              "    }\n",
              "</style>\n",
              "<table border=\"1\" class=\"dataframe\">\n",
              "  <thead>\n",
              "    <tr style=\"text-align: right;\">\n",
              "      <th></th>\n",
              "      <th>Age</th>\n",
              "      <th>Height</th>\n",
              "    </tr>\n",
              "  </thead>\n",
              "  <tbody>\n",
              "    <tr>\n",
              "      <th>0</th>\n",
              "      <td>14.767874</td>\n",
              "      <td>59.627484</td>\n",
              "    </tr>\n",
              "    <tr>\n",
              "      <th>1</th>\n",
              "      <td>3.107671</td>\n",
              "      <td>36.146453</td>\n",
              "    </tr>\n",
              "    <tr>\n",
              "      <th>2</th>\n",
              "      <td>7.266917</td>\n",
              "      <td>46.912878</td>\n",
              "    </tr>\n",
              "    <tr>\n",
              "      <th>3</th>\n",
              "      <td>1.815180</td>\n",
              "      <td>29.125660</td>\n",
              "    </tr>\n",
              "    <tr>\n",
              "      <th>4</th>\n",
              "      <td>16.753758</td>\n",
              "      <td>68.170414</td>\n",
              "    </tr>\n",
              "    <tr>\n",
              "      <th>...</th>\n",
              "      <td>...</td>\n",
              "      <td>...</td>\n",
              "    </tr>\n",
              "    <tr>\n",
              "      <th>95</th>\n",
              "      <td>7.323712</td>\n",
              "      <td>46.857505</td>\n",
              "    </tr>\n",
              "    <tr>\n",
              "      <th>96</th>\n",
              "      <td>5.591509</td>\n",
              "      <td>39.339990</td>\n",
              "    </tr>\n",
              "    <tr>\n",
              "      <th>97</th>\n",
              "      <td>2.625606</td>\n",
              "      <td>32.918925</td>\n",
              "    </tr>\n",
              "    <tr>\n",
              "      <th>98</th>\n",
              "      <td>5.519293</td>\n",
              "      <td>40.704154</td>\n",
              "    </tr>\n",
              "    <tr>\n",
              "      <th>99</th>\n",
              "      <td>13.117413</td>\n",
              "      <td>55.177407</td>\n",
              "    </tr>\n",
              "  </tbody>\n",
              "</table>\n",
              "<p>100 rows × 2 columns</p>\n",
              "</div>"
            ],
            "text/plain": [
              "          Age     Height\n",
              "0   14.767874  59.627484\n",
              "1    3.107671  36.146453\n",
              "2    7.266917  46.912878\n",
              "3    1.815180  29.125660\n",
              "4   16.753758  68.170414\n",
              "..        ...        ...\n",
              "95   7.323712  46.857505\n",
              "96   5.591509  39.339990\n",
              "97   2.625606  32.918925\n",
              "98   5.519293  40.704154\n",
              "99  13.117413  55.177407\n",
              "\n",
              "[100 rows x 2 columns]"
            ]
          },
          "execution_count": 2,
          "metadata": {},
          "output_type": "execute_result"
        }
      ],
      "source": [
        "rawdataset"
      ]
    },
    {
      "attachments": {},
      "cell_type": "markdown",
      "metadata": {
        "id": "IB7lvmVPNFHS"
      },
      "source": [
        "### Visualise data using histogram\n",
        "Use Pandas [``hist()``](https://pandas.pydata.org/docs/reference/api/pandas.DataFrame.hist.html) to visualise approximate representation of the distribution of numerical data. The Y-axis in both the plots refers to frequency and X-axis represents *Age* and *Height* respectively."
      ]
    },
    {
      "cell_type": "code",
      "execution_count": 3,
      "metadata": {
        "id": "ZtlAqSomMXUo"
      },
      "outputs": [
        {
          "data": {
            "text/plain": [
              "array([[<AxesSubplot:title={'center':'Age'}>,\n",
              "        <AxesSubplot:title={'center':'Height'}>]], dtype=object)"
            ]
          },
          "execution_count": 3,
          "metadata": {},
          "output_type": "execute_result"
        },
        {
          "data": {
            "image/png": "[encoded data removed]",
            "text/plain": [
              "<Figure size 432x288 with 2 Axes>"
            ]
          },
          "metadata": {
            "needs_background": "light"
          },
          "output_type": "display_data"
        }
      ],
      "source": [
        "rawdataset.hist()"
      ]
    },
    {
      "attachments": {},
      "cell_type": "markdown",
      "metadata": {
        "id": "gaACWjS8OXyK"
      },
      "source": [
        "### Data Cleaning\n",
        "\n",
        "We are going to build model using valid dataset and clean the unaccountable data (empty/null). In the above histograms, we can see that there are a few entries that have an age less than zero which is meaningless. Hence, we need to clean those data to get better accuracy."
      ]
    },
    {
      "cell_type": "code",
      "execution_count": 3,
      "metadata": {
        "id": "RSzKZbS-MesE"
      },
      "outputs": [
        {
          "data": {
            "text/plain": [
              "array([[<Axes: title={'center': 'Age'}>,\n",
              "        <Axes: title={'center': 'Height'}>]], dtype=object)"
            ]
          },
          "execution_count": 3,
          "metadata": {},
          "output_type": "execute_result"
        },
        {
          "data": {
            "image/png": "[encoded data removed]",
            "text/plain": [
              "<Figure size 640x480 with 2 Axes>"
            ]
          },
          "metadata": {},
          "output_type": "display_data"
        }
      ],
      "source": [
        "cleandataset = rawdataset[rawdataset[\"Age\"]>0]\n",
        "cleandataset.hist()"
      ]
    },
    {
      "attachments": {},
      "cell_type": "markdown",
      "metadata": {
        "id": "20xPS1LDPXeF"
      },
      "source": [
        "### Visualise data using scatter plot\n",
        "We will represent *Age* on X-axis and *Height* on Y-axis. The points in the plot refer to data from `cleandataset`. We use Pandas  [`plot.scatter()`](https://https://pandas.pydata.org/pandas-docs/version/0.25.0/reference/api/pandas.DataFrame.plot.scatter.html) to plot."
      ]
    },
    {
      "cell_type": "code",
      "execution_count": 5,
      "metadata": {
        "id": "y7p9QIm5zIDG"
      },
      "outputs": [
        {
          "data": {
            "text/html": [
              "<div>\n",
              "<style scoped>\n",
              "    .dataframe tbody tr th:only-of-type {\n",
              "        vertical-align: middle;\n",
              "    }\n",
              "\n",
              "    .dataframe tbody tr th {\n",
              "        vertical-align: top;\n",
              "    }\n",
              "\n",
              "    .dataframe thead th {\n",
              "        text-align: right;\n",
              "    }\n",
              "</style>\n",
              "<table border=\"1\" class=\"dataframe\">\n",
              "  <thead>\n",
              "    <tr style=\"text-align: right;\">\n",
              "      <th></th>\n",
              "      <th>Age</th>\n",
              "      <th>Height</th>\n",
              "    </tr>\n",
              "  </thead>\n",
              "  <tbody>\n",
              "    <tr>\n",
              "      <th>0</th>\n",
              "      <td>14.767874</td>\n",
              "      <td>59.627484</td>\n",
              "    </tr>\n",
              "    <tr>\n",
              "      <th>1</th>\n",
              "      <td>3.107671</td>\n",
              "      <td>36.146453</td>\n",
              "    </tr>\n",
              "    <tr>\n",
              "      <th>2</th>\n",
              "      <td>7.266917</td>\n",
              "      <td>46.912878</td>\n",
              "    </tr>\n",
              "    <tr>\n",
              "      <th>3</th>\n",
              "      <td>1.815180</td>\n",
              "      <td>29.125660</td>\n",
              "    </tr>\n",
              "    <tr>\n",
              "      <th>4</th>\n",
              "      <td>16.753758</td>\n",
              "      <td>68.170414</td>\n",
              "    </tr>\n",
              "  </tbody>\n",
              "</table>\n",
              "</div>"
            ],
            "text/plain": [
              "         Age     Height\n",
              "0  14.767874  59.627484\n",
              "1   3.107671  36.146453\n",
              "2   7.266917  46.912878\n",
              "3   1.815180  29.125660\n",
              "4  16.753758  68.170414"
            ]
          },
          "execution_count": 5,
          "metadata": {},
          "output_type": "execute_result"
        }
      ],
      "source": [
        "cleandataset.head()"
      ]
    },
    {
      "cell_type": "code",
      "execution_count": 6,
      "metadata": {
        "id": "cS_RfJcXzWVe"
      },
      "outputs": [
        {
          "data": {
            "text/plain": [
              "(93, 2)"
            ]
          },
          "execution_count": 6,
          "metadata": {},
          "output_type": "execute_result"
        }
      ],
      "source": [
        "cleandataset.shape"
      ]
    },
    {
      "cell_type": "code",
      "execution_count": 4,
      "metadata": {
        "id": "xsSgsQgQPAEU"
      },
      "outputs": [
        {
          "data": {
            "text/plain": [
              "Text(0.5, 0, 'Age (year)')"
            ]
          },
          "execution_count": 4,
          "metadata": {},
          "output_type": "execute_result"
        },
        {
          "data": {
            "image/png": "[encoded data removed]",
            "text/plain": [
              "<Figure size 640x480 with 1 Axes>"
            ]
          },
          "metadata": {},
          "output_type": "display_data"
        }
      ],
      "source": [
        "# Draw a scatter plot\n",
        "ax = cleandataset.plot.scatter(x = 'Age', y = 'Height');\n",
        "\n",
        "# Set x and y axis labels\n",
        "ax.set_ylabel(\"Height (cm)\")\n",
        "ax.set_xlabel(\"Age (year)\")"
      ]
    },
    {
      "attachments": {},
      "cell_type": "markdown",
      "metadata": {
        "id": "UujMOeBBSeIT"
      },
      "source": [
        "### Build the model and train it\n",
        "\n",
        "Here we are going to use simple [linear regression](https://en.wikipedia.org/wiki/Linear_regression) to train our *Age-Height* model.\n",
        "\n",
        "Steps:\n",
        "\n",
        "1. Learn parameters\n",
        "2. Train model using the learned (optimal) parameters\n",
        "3. Evaluate prediction"
      ]
    },
    {
      "attachments": {},
      "cell_type": "markdown",
      "metadata": {
        "id": "9g9eTCW0hwpk"
      },
      "source": [
        "### Learning paramaters\n",
        "We create a function called `learnpars()` that uses the basic straight-line equation and returns `y`, in our case *Height*. If we pass the required parameters and run `learnpars()`, we will find that the height we get for the age as input does not match. Hence, we use `learnpars()` to train the model.\n",
        "\n",
        "Straight line equation: `Y = a + bX` (a = alpha, b=beta)"
      ]
    },
    {
      "cell_type": "code",
      "execution_count": 9,
      "metadata": {
        "id": "v7Kq2N7HQ7b_"
      },
      "outputs": [
        {
          "data": {
            "text/plain": [
              "60"
            ]
          },
          "execution_count": 9,
          "metadata": {},
          "output_type": "execute_result"
        }
      ],
      "source": [
        "# using random parameter values\n",
        "pars = {\"alpha\" : 40, \"beta\" : 4}\n",
        "\n",
        "# using learned paramaters\n",
        "# pars = {\"alpha\": 29.961857614615834, \"beta\": 2.0014168989106302}\n",
        "\n",
        "def y_height(age, pars):\n",
        "  alpha = pars[\"alpha\"]\n",
        "  beta = pars[\"beta\"]\n",
        "  return alpha + beta * age\n",
        "\n",
        "y_height(5, pars)"
      ]
    },
    {
      "cell_type": "code",
      "execution_count": 6,
      "metadata": {
        "id": "z6xeuTGtUWJL"
      },
      "outputs": [],
      "source": [
        "def learnpars(data, pars):\n",
        "  x,y = cleandataset[\"Age\"], cleandataset[\"Height\"]\n",
        "  x_bar, y_bar = x.mean(), y.mean()\n",
        "  x,y = x.to_numpy(), y.to_numpy()\n",
        "  beta = sum((x-x_bar) * (y-y_bar) / sum((x-x_bar)**2))\n",
        "  alpha = y_bar - beta * x_bar\n",
        "  pars[\"alpha\"] = alpha\n",
        "  pars[\"beta\"] = beta"
      ]
    },
    {
      "cell_type": "code",
      "execution_count": 7,
      "metadata": {
        "id": "0Hjub_uIVtw0"
      },
      "outputs": [
        {
          "data": {
            "text/plain": [
              "{'alpha': 29.96185761461583, 'beta': 2.0014168989106316}"
            ]
          },
          "execution_count": 7,
          "metadata": {},
          "output_type": "execute_result"
        }
      ],
      "source": [
        "# Find the correct parameters\n",
        "newpars = {\"alpha\" : 0, \"beta\" : 0}\n",
        "learnpars(cleandataset,newpars)\n",
        "\n",
        "# The optimal alpha and beta parameters\n",
        "newpars"
      ]
    },
    {
      "attachments": {},
      "cell_type": "markdown",
      "metadata": {
        "id": "EiUwE_g50Dpf"
      },
      "source": [
        "### Dummy dataset\n",
        "This demonstrates how parameters selection can impact the model."
      ]
    },
    {
      "cell_type": "code",
      "execution_count": 10,
      "metadata": {
        "id": "9M6gA3IAVwz8"
      },
      "outputs": [
        {
          "data": {
            "text/html": [
              "<div>\n",
              "<style scoped>\n",
              "    .dataframe tbody tr th:only-of-type {\n",
              "        vertical-align: middle;\n",
              "    }\n",
              "\n",
              "    .dataframe tbody tr th {\n",
              "        vertical-align: top;\n",
              "    }\n",
              "\n",
              "    .dataframe thead th {\n",
              "        text-align: right;\n",
              "    }\n",
              "</style>\n",
              "<table border=\"1\" class=\"dataframe\">\n",
              "  <thead>\n",
              "    <tr style=\"text-align: right;\">\n",
              "      <th></th>\n",
              "      <th>Age</th>\n",
              "      <th>Height</th>\n",
              "    </tr>\n",
              "  </thead>\n",
              "  <tbody>\n",
              "    <tr>\n",
              "      <th>0</th>\n",
              "      <td>0</td>\n",
              "      <td>40</td>\n",
              "    </tr>\n",
              "    <tr>\n",
              "      <th>1</th>\n",
              "      <td>1</td>\n",
              "      <td>44</td>\n",
              "    </tr>\n",
              "    <tr>\n",
              "      <th>2</th>\n",
              "      <td>2</td>\n",
              "      <td>48</td>\n",
              "    </tr>\n",
              "    <tr>\n",
              "      <th>3</th>\n",
              "      <td>3</td>\n",
              "      <td>52</td>\n",
              "    </tr>\n",
              "    <tr>\n",
              "      <th>4</th>\n",
              "      <td>4</td>\n",
              "      <td>56</td>\n",
              "    </tr>\n",
              "    <tr>\n",
              "      <th>5</th>\n",
              "      <td>5</td>\n",
              "      <td>60</td>\n",
              "    </tr>\n",
              "    <tr>\n",
              "      <th>6</th>\n",
              "      <td>6</td>\n",
              "      <td>64</td>\n",
              "    </tr>\n",
              "    <tr>\n",
              "      <th>7</th>\n",
              "      <td>7</td>\n",
              "      <td>68</td>\n",
              "    </tr>\n",
              "    <tr>\n",
              "      <th>8</th>\n",
              "      <td>8</td>\n",
              "      <td>72</td>\n",
              "    </tr>\n",
              "    <tr>\n",
              "      <th>9</th>\n",
              "      <td>9</td>\n",
              "      <td>76</td>\n",
              "    </tr>\n",
              "    <tr>\n",
              "      <th>10</th>\n",
              "      <td>10</td>\n",
              "      <td>80</td>\n",
              "    </tr>\n",
              "    <tr>\n",
              "      <th>11</th>\n",
              "      <td>11</td>\n",
              "      <td>84</td>\n",
              "    </tr>\n",
              "    <tr>\n",
              "      <th>12</th>\n",
              "      <td>12</td>\n",
              "      <td>88</td>\n",
              "    </tr>\n",
              "    <tr>\n",
              "      <th>13</th>\n",
              "      <td>13</td>\n",
              "      <td>92</td>\n",
              "    </tr>\n",
              "    <tr>\n",
              "      <th>14</th>\n",
              "      <td>14</td>\n",
              "      <td>96</td>\n",
              "    </tr>\n",
              "    <tr>\n",
              "      <th>15</th>\n",
              "      <td>15</td>\n",
              "      <td>100</td>\n",
              "    </tr>\n",
              "    <tr>\n",
              "      <th>16</th>\n",
              "      <td>16</td>\n",
              "      <td>104</td>\n",
              "    </tr>\n",
              "    <tr>\n",
              "      <th>17</th>\n",
              "      <td>17</td>\n",
              "      <td>108</td>\n",
              "    </tr>\n",
              "    <tr>\n",
              "      <th>18</th>\n",
              "      <td>18</td>\n",
              "      <td>112</td>\n",
              "    </tr>\n",
              "  </tbody>\n",
              "</table>\n",
              "</div>"
            ],
            "text/plain": [
              "    Age  Height\n",
              "0     0      40\n",
              "1     1      44\n",
              "2     2      48\n",
              "3     3      52\n",
              "4     4      56\n",
              "5     5      60\n",
              "6     6      64\n",
              "7     7      68\n",
              "8     8      72\n",
              "9     9      76\n",
              "10   10      80\n",
              "11   11      84\n",
              "12   12      88\n",
              "13   13      92\n",
              "14   14      96\n",
              "15   15     100\n",
              "16   16     104\n",
              "17   17     108\n",
              "18   18     112"
            ]
          },
          "execution_count": 10,
          "metadata": {},
          "output_type": "execute_result"
        }
      ],
      "source": [
        "# Create a dummy list of age\n",
        "dummy_ages = list(range(19))\n",
        "\n",
        "# Predict height using unoptimised parameters\n",
        "untrained_predicted_heights = [y_height(age, pars) for age in dummy_ages]\n",
        "\n",
        "# Create a dataframe\n",
        "untrained = pd.DataFrame(list(zip(dummy_ages, untrained_predicted_heights)), columns =['Age', 'Height'])\n",
        "\n",
        "untrained"
      ]
    },
    {
      "cell_type": "code",
      "execution_count": 11,
      "metadata": {
        "id": "UTOa2JoQkUq3"
      },
      "outputs": [
        {
          "data": {
            "text/plain": [
              "<matplotlib.legend.Legend at 0x7ff6587ced30>"
            ]
          },
          "execution_count": 11,
          "metadata": {},
          "output_type": "execute_result"
        },
        {
          "data": {
            "image/png": "[encoded data removed]",
            "text/plain": [
              "<Figure size 640x480 with 1 Axes>"
            ]
          },
          "metadata": {},
          "output_type": "display_data"
        }
      ],
      "source": [
        "import matplotlib.pyplot as plt\n",
        "\n",
        "# Draw a scatter plot\n",
        "plt.scatter(untrained[\"Age\"], untrained[\"Height\"], label=\"Untrained - dummy\");\n",
        "plt.scatter(cleandataset[\"Age\"], cleandataset[\"Height\"], label=\"Raw - cleaned\");\n",
        "\n",
        "# Set x and y axis labels\n",
        "plt.xlabel(\"Age (year)\")\n",
        "plt.xlabel(\"Height (cm)\")\n",
        "plt.legend()"
      ]
    },
    {
      "attachments": {},
      "cell_type": "markdown",
      "metadata": {
        "id": "NGzTnPBdxv34"
      },
      "source": [
        "### Regression using trained parameters\n",
        "\n",
        "We do a regression over `cleandataset` using the trained parameters (`newpars`) by calling `y_height()` and we plot the prediction results."
      ]
    },
    {
      "cell_type": "code",
      "execution_count": 12,
      "metadata": {
        "id": "ruxdrD1QlRzq"
      },
      "outputs": [],
      "source": [
        "# run regression\n",
        "trained_predicted_heights = [y_height(age, newpars) for age in cleandataset[\"Age\"]]\n",
        "\n",
        "# Create a dataframe\n",
        "trained = pd.DataFrame(list(zip(cleandataset[\"Age\"], trained_predicted_heights)), columns =['Age', 'Height'])"
      ]
    },
    {
      "cell_type": "code",
      "execution_count": 13,
      "metadata": {
        "id": "e0agXiI4pYTm"
      },
      "outputs": [
        {
          "data": {
            "text/html": [
              "<div>\n",
              "<style scoped>\n",
              "    .dataframe tbody tr th:only-of-type {\n",
              "        vertical-align: middle;\n",
              "    }\n",
              "\n",
              "    .dataframe tbody tr th {\n",
              "        vertical-align: top;\n",
              "    }\n",
              "\n",
              "    .dataframe thead th {\n",
              "        text-align: right;\n",
              "    }\n",
              "</style>\n",
              "<table border=\"1\" class=\"dataframe\">\n",
              "  <thead>\n",
              "    <tr style=\"text-align: right;\">\n",
              "      <th></th>\n",
              "      <th>Age</th>\n",
              "      <th>Height</th>\n",
              "    </tr>\n",
              "  </thead>\n",
              "  <tbody>\n",
              "    <tr>\n",
              "      <th>0</th>\n",
              "      <td>14.767874</td>\n",
              "      <td>59.518530</td>\n",
              "    </tr>\n",
              "    <tr>\n",
              "      <th>1</th>\n",
              "      <td>3.107671</td>\n",
              "      <td>36.181604</td>\n",
              "    </tr>\n",
              "    <tr>\n",
              "      <th>2</th>\n",
              "      <td>7.266917</td>\n",
              "      <td>44.505988</td>\n",
              "    </tr>\n",
              "    <tr>\n",
              "      <th>3</th>\n",
              "      <td>1.815180</td>\n",
              "      <td>33.594789</td>\n",
              "    </tr>\n",
              "    <tr>\n",
              "      <th>4</th>\n",
              "      <td>16.753758</td>\n",
              "      <td>63.493111</td>\n",
              "    </tr>\n",
              "    <tr>\n",
              "      <th>...</th>\n",
              "      <td>...</td>\n",
              "      <td>...</td>\n",
              "    </tr>\n",
              "    <tr>\n",
              "      <th>88</th>\n",
              "      <td>7.323712</td>\n",
              "      <td>44.619658</td>\n",
              "    </tr>\n",
              "    <tr>\n",
              "      <th>89</th>\n",
              "      <td>5.591509</td>\n",
              "      <td>41.152799</td>\n",
              "    </tr>\n",
              "    <tr>\n",
              "      <th>90</th>\n",
              "      <td>2.625606</td>\n",
              "      <td>35.216789</td>\n",
              "    </tr>\n",
              "    <tr>\n",
              "      <th>91</th>\n",
              "      <td>5.519293</td>\n",
              "      <td>41.008264</td>\n",
              "    </tr>\n",
              "    <tr>\n",
              "      <th>92</th>\n",
              "      <td>13.117413</td>\n",
              "      <td>56.215271</td>\n",
              "    </tr>\n",
              "  </tbody>\n",
              "</table>\n",
              "<p>93 rows × 2 columns</p>\n",
              "</div>"
            ],
            "text/plain": [
              "          Age     Height\n",
              "0   14.767874  59.518530\n",
              "1    3.107671  36.181604\n",
              "2    7.266917  44.505988\n",
              "3    1.815180  33.594789\n",
              "4   16.753758  63.493111\n",
              "..        ...        ...\n",
              "88   7.323712  44.619658\n",
              "89   5.591509  41.152799\n",
              "90   2.625606  35.216789\n",
              "91   5.519293  41.008264\n",
              "92  13.117413  56.215271\n",
              "\n",
              "[93 rows x 2 columns]"
            ]
          },
          "execution_count": 13,
          "metadata": {},
          "output_type": "execute_result"
        },
        {
          "data": {
            "image/png": "[encoded data removed]",
            "text/plain": [
              "<Figure size 640x480 with 1 Axes>"
            ]
          },
          "metadata": {},
          "output_type": "display_data"
        }
      ],
      "source": [
        "# Draw a scatter plot\n",
        "plt.scatter(untrained[\"Age\"], untrained[\"Height\"], label=\"Untrained - dummy\");\n",
        "plt.scatter(cleandataset[\"Age\"], cleandataset[\"Height\"], label=\"Raw - cleaned\");\n",
        "# Regression results\n",
        "plt.plot(trained[\"Age\"], trained[\"Height\"], label=\"Predictions\", color=\"red\");\n",
        "\n",
        "# Set x and y axis labels\n",
        "plt.xlabel(\"Age (year)\")\n",
        "plt.ylabel(\"Height (cm)\")\n",
        "plt.legend()\n",
        "\n",
        "trained"
      ]
    },
    {
      "attachments": {},
      "cell_type": "markdown",
      "metadata": {
        "id": "99xATNQIv3pX"
      },
      "source": [
        "### Evaluate prediction performance\n",
        "\n",
        "We need to measure how well is our model predicting the height. Therefore we use [Root Mean Squared Error (RMSE)](https://en.wikipedia.org/wiki/Root-mean-square_deviation) to measure how far is our predicted values from the actual values, on average."
      ]
    },
    {
      "cell_type": "code",
      "execution_count": 8,
      "metadata": {
        "id": "w_GVuScUu5gO"
      },
      "outputs": [
        {
          "name": "stdout",
          "output_type": "stream",
          "text": [
            "RMSE: 2.150968738235214cm\n"
          ]
        }
      ],
      "source": [
        "from sklearn.metrics import mean_squared_error \n",
        "\n",
        "# root mean squared error: how far predicted from the actual value, on average\n",
        "rmse = mean_squared_error(cleandataset[\"Height\"], trained[\"Height\"], squared = False)\n",
        "\n",
        "print(\"RMSE: \" + str(rmse) + \"cm\")"
      ]
    },
    {
      "attachments": {},
      "cell_type": "markdown",
      "metadata": {
        "id": "oQCEwq2pxY07"
      },
      "source": [
        "### Predicting unseen data\n",
        "\n",
        "We can test our model to predict model using a completely new, unseen data."
      ]
    },
    {
      "cell_type": "code",
      "execution_count": 17,
      "metadata": {
        "id": "Jn6A9y3Ctz3i"
      },
      "outputs": [],
      "source": [
        "# age_input = int(input(\"Enter an 'age' to predict height: \"))\n",
        "# y_height(age_input, newpars)"
      ]
    },
    {
      "cell_type": "code",
      "execution_count": 18,
      "metadata": {},
      "outputs": [
        {
          "data": {
            "text/plain": [
              "61.984527997185936"
            ]
          },
          "execution_count": 18,
          "metadata": {},
          "output_type": "execute_result"
        }
      ],
      "source": [
        "age_input = 16\n",
        "y_height(age_input, newpars)"
      ]
    },
    {
      "attachments": {},
      "cell_type": "markdown",
      "metadata": {
        "id": "lP3HdFcbgLhH"
      },
      "source": [
        "## Multiple Linear Regression\n",
        "In the previous simple linear example, we only deal with one independent variable (age) and one dependent variable (height).\n",
        "\n",
        "In cases when we have more than one independent variables (features) and one dependent variable, we call it a multiple linear regression problem. \n",
        "\n",
        "To do multiple linear regression, we first convert the standard linear equation:\n",
        "\n",
        "`y = a + Bx`\n",
        "\n",
        "to\n",
        "\n",
        "`y = a + B1x1 + B2x2 + ... + Bnxn`\n",
        "\n",
        "where `a` is the intercept and `B1, B2, ... ,Bn` are the coefficients (slope) concerning independent variable `x1, x2, ..., xn`. This essentially indicates that if we increase the value of `x1` by 1 unit then `B1` says that how much value it will affect `y`, and this was similar concerning for `B2, ... ,Bn`.\n",
        "\n",
        "The next example demonstrates this case. We will use 2016 Air Quality dataset which consists of 9538 instances. \n",
        "\n",
        "### AirQuality file dataset column information\n",
        "\n",
        "0. Date the reading was recorded on\n",
        "1. Time of the day the reading was recorded on\n",
        "2. Concentration of CO in milligram/m^3\n",
        "3. Sensor response for Tin oxide\n",
        "4. Concentration of Non Metanic HydroCarbons concentration in microg/m^3\n",
        "5. Concentration of Benzene in microg/m^3\n",
        "6. Sensor response for titania\n",
        "7. Concentration of NOx concentration in parts per billion\n",
        "8. Sensor response for Tungsten Oxide (Targeting NOx)\n",
        "9. Concentration of NO2 in microg/m^3\n",
        "10. Sensor response for Tungsten Oxide (Targeting NO2)\n",
        "11. Sensor response for Indium Oxide\n",
        "12. Temperature at the time of the reading (°C)\n",
        "13. Relative Humidity (%)\n",
        "14. Absolute Humidity\n",
        "\n",
        "Full description of this dataset can be found [here](https://gist.github.com/shreyasiitr/57f8fa30fa20b049359fb567cc6407d0)\n"
      ]
    },
    {
      "cell_type": "code",
      "execution_count": 2,
      "metadata": {
        "id": "H--5f6rlnIuC"
      },
      "outputs": [],
      "source": [
        "# important data structure library!\n",
        "import pandas as pd\n",
        "\n",
        "# Read raw dataset file into Pandas dataframe\n",
        "df = pd.read_csv(\"../data/AirQualityUCI.csv\")"
      ]
    },
    {
      "cell_type": "code",
      "execution_count": 3,
      "metadata": {
        "id": "A9PsBNBxnuA2"
      },
      "outputs": [
        {
          "data": {
            "text/html": [
              "<div>\n",
              "<style scoped>\n",
              "    .dataframe tbody tr th:only-of-type {\n",
              "        vertical-align: middle;\n",
              "    }\n",
              "\n",
              "    .dataframe tbody tr th {\n",
              "        vertical-align: top;\n",
              "    }\n",
              "\n",
              "    .dataframe thead th {\n",
              "        text-align: right;\n",
              "    }\n",
              "</style>\n",
              "<table border=\"1\" class=\"dataframe\">\n",
              "  <thead>\n",
              "    <tr style=\"text-align: right;\">\n",
              "      <th></th>\n",
              "      <th>Date</th>\n",
              "      <th>Time</th>\n",
              "      <th>CO</th>\n",
              "      <th>PT08S1</th>\n",
              "      <th>NMHC</th>\n",
              "      <th>C6H6</th>\n",
              "      <th>PT08S2</th>\n",
              "      <th>NOx</th>\n",
              "      <th>PT08S3</th>\n",
              "      <th>NO2</th>\n",
              "      <th>PT08S4</th>\n",
              "      <th>PT08S5</th>\n",
              "      <th>T</th>\n",
              "      <th>RH</th>\n",
              "      <th>AH</th>\n",
              "    </tr>\n",
              "  </thead>\n",
              "  <tbody>\n",
              "    <tr>\n",
              "      <th>0</th>\n",
              "      <td>3/10/2004</td>\n",
              "      <td>18:00:00</td>\n",
              "      <td>2.6</td>\n",
              "      <td>1360</td>\n",
              "      <td>150</td>\n",
              "      <td>11.9</td>\n",
              "      <td>1046</td>\n",
              "      <td>166</td>\n",
              "      <td>1056</td>\n",
              "      <td>113</td>\n",
              "      <td>1692</td>\n",
              "      <td>1268</td>\n",
              "      <td>13.6</td>\n",
              "      <td>48.9</td>\n",
              "      <td>0.7578</td>\n",
              "    </tr>\n",
              "    <tr>\n",
              "      <th>1</th>\n",
              "      <td>3/10/2004</td>\n",
              "      <td>19:00:00</td>\n",
              "      <td>2.0</td>\n",
              "      <td>1292</td>\n",
              "      <td>112</td>\n",
              "      <td>9.4</td>\n",
              "      <td>955</td>\n",
              "      <td>103</td>\n",
              "      <td>1174</td>\n",
              "      <td>92</td>\n",
              "      <td>1559</td>\n",
              "      <td>972</td>\n",
              "      <td>13.3</td>\n",
              "      <td>47.7</td>\n",
              "      <td>0.7255</td>\n",
              "    </tr>\n",
              "    <tr>\n",
              "      <th>2</th>\n",
              "      <td>3/10/2004</td>\n",
              "      <td>20:00:00</td>\n",
              "      <td>2.2</td>\n",
              "      <td>1402</td>\n",
              "      <td>88</td>\n",
              "      <td>9.0</td>\n",
              "      <td>939</td>\n",
              "      <td>131</td>\n",
              "      <td>1140</td>\n",
              "      <td>114</td>\n",
              "      <td>1555</td>\n",
              "      <td>1074</td>\n",
              "      <td>11.9</td>\n",
              "      <td>54.0</td>\n",
              "      <td>0.7502</td>\n",
              "    </tr>\n",
              "    <tr>\n",
              "      <th>3</th>\n",
              "      <td>3/10/2004</td>\n",
              "      <td>21:00:00</td>\n",
              "      <td>2.2</td>\n",
              "      <td>1376</td>\n",
              "      <td>80</td>\n",
              "      <td>9.2</td>\n",
              "      <td>948</td>\n",
              "      <td>172</td>\n",
              "      <td>1092</td>\n",
              "      <td>122</td>\n",
              "      <td>1584</td>\n",
              "      <td>1203</td>\n",
              "      <td>11.0</td>\n",
              "      <td>60.0</td>\n",
              "      <td>0.7867</td>\n",
              "    </tr>\n",
              "    <tr>\n",
              "      <th>4</th>\n",
              "      <td>3/10/2004</td>\n",
              "      <td>22:00:00</td>\n",
              "      <td>1.6</td>\n",
              "      <td>1272</td>\n",
              "      <td>51</td>\n",
              "      <td>6.5</td>\n",
              "      <td>836</td>\n",
              "      <td>131</td>\n",
              "      <td>1205</td>\n",
              "      <td>116</td>\n",
              "      <td>1490</td>\n",
              "      <td>1110</td>\n",
              "      <td>11.2</td>\n",
              "      <td>59.6</td>\n",
              "      <td>0.7888</td>\n",
              "    </tr>\n",
              "  </tbody>\n",
              "</table>\n",
              "</div>"
            ],
            "text/plain": [
              "        Date      Time   CO  PT08S1  NMHC  C6H6  PT08S2  NOx  PT08S3  NO2  \\\n",
              "0  3/10/2004  18:00:00  2.6    1360   150  11.9    1046  166    1056  113   \n",
              "1  3/10/2004  19:00:00  2.0    1292   112   9.4     955  103    1174   92   \n",
              "2  3/10/2004  20:00:00  2.2    1402    88   9.0     939  131    1140  114   \n",
              "3  3/10/2004  21:00:00  2.2    1376    80   9.2     948  172    1092  122   \n",
              "4  3/10/2004  22:00:00  1.6    1272    51   6.5     836  131    1205  116   \n",
              "\n",
              "   PT08S4  PT08S5     T    RH      AH  \n",
              "0    1692    1268  13.6  48.9  0.7578  \n",
              "1    1559     972  13.3  47.7  0.7255  \n",
              "2    1555    1074  11.9  54.0  0.7502  \n",
              "3    1584    1203  11.0  60.0  0.7867  \n",
              "4    1490    1110  11.2  59.6  0.7888  "
            ]
          },
          "execution_count": 3,
          "metadata": {},
          "output_type": "execute_result"
        }
      ],
      "source": [
        "df.head()"
      ]
    },
    {
      "cell_type": "code",
      "execution_count": 4,
      "metadata": {},
      "outputs": [
        {
          "data": {
            "text/html": [
              "<div>\n",
              "<style scoped>\n",
              "    .dataframe tbody tr th:only-of-type {\n",
              "        vertical-align: middle;\n",
              "    }\n",
              "\n",
              "    .dataframe tbody tr th {\n",
              "        vertical-align: top;\n",
              "    }\n",
              "\n",
              "    .dataframe thead th {\n",
              "        text-align: right;\n",
              "    }\n",
              "</style>\n",
              "<table border=\"1\" class=\"dataframe\">\n",
              "  <thead>\n",
              "    <tr style=\"text-align: right;\">\n",
              "      <th></th>\n",
              "      <th>Date</th>\n",
              "      <th>Time</th>\n",
              "      <th>CO</th>\n",
              "      <th>PT08S1</th>\n",
              "      <th>NMHC</th>\n",
              "      <th>C6H6</th>\n",
              "      <th>PT08S2</th>\n",
              "      <th>NOx</th>\n",
              "      <th>PT08S3</th>\n",
              "      <th>NO2</th>\n",
              "      <th>PT08S4</th>\n",
              "      <th>PT08S5</th>\n",
              "      <th>T</th>\n",
              "      <th>RH</th>\n",
              "      <th>AH</th>\n",
              "    </tr>\n",
              "  </thead>\n",
              "  <tbody>\n",
              "    <tr>\n",
              "      <th>9352</th>\n",
              "      <td>4/4/2005</td>\n",
              "      <td>10:00:00</td>\n",
              "      <td>3.1</td>\n",
              "      <td>1314</td>\n",
              "      <td>-200</td>\n",
              "      <td>13.5</td>\n",
              "      <td>1101</td>\n",
              "      <td>472</td>\n",
              "      <td>539</td>\n",
              "      <td>190</td>\n",
              "      <td>1374</td>\n",
              "      <td>1729</td>\n",
              "      <td>21.9</td>\n",
              "      <td>29.3</td>\n",
              "      <td>0.7568</td>\n",
              "    </tr>\n",
              "    <tr>\n",
              "      <th>9353</th>\n",
              "      <td>4/4/2005</td>\n",
              "      <td>11:00:00</td>\n",
              "      <td>2.4</td>\n",
              "      <td>1163</td>\n",
              "      <td>-200</td>\n",
              "      <td>11.4</td>\n",
              "      <td>1027</td>\n",
              "      <td>353</td>\n",
              "      <td>604</td>\n",
              "      <td>179</td>\n",
              "      <td>1264</td>\n",
              "      <td>1269</td>\n",
              "      <td>24.3</td>\n",
              "      <td>23.7</td>\n",
              "      <td>0.7119</td>\n",
              "    </tr>\n",
              "    <tr>\n",
              "      <th>9354</th>\n",
              "      <td>4/4/2005</td>\n",
              "      <td>12:00:00</td>\n",
              "      <td>2.4</td>\n",
              "      <td>1142</td>\n",
              "      <td>-200</td>\n",
              "      <td>12.4</td>\n",
              "      <td>1063</td>\n",
              "      <td>293</td>\n",
              "      <td>603</td>\n",
              "      <td>175</td>\n",
              "      <td>1241</td>\n",
              "      <td>1092</td>\n",
              "      <td>26.9</td>\n",
              "      <td>18.3</td>\n",
              "      <td>0.6406</td>\n",
              "    </tr>\n",
              "    <tr>\n",
              "      <th>9355</th>\n",
              "      <td>4/4/2005</td>\n",
              "      <td>13:00:00</td>\n",
              "      <td>2.1</td>\n",
              "      <td>1003</td>\n",
              "      <td>-200</td>\n",
              "      <td>9.5</td>\n",
              "      <td>961</td>\n",
              "      <td>235</td>\n",
              "      <td>702</td>\n",
              "      <td>156</td>\n",
              "      <td>1041</td>\n",
              "      <td>770</td>\n",
              "      <td>28.3</td>\n",
              "      <td>13.5</td>\n",
              "      <td>0.5139</td>\n",
              "    </tr>\n",
              "    <tr>\n",
              "      <th>9356</th>\n",
              "      <td>4/4/2005</td>\n",
              "      <td>14:00:00</td>\n",
              "      <td>2.2</td>\n",
              "      <td>1071</td>\n",
              "      <td>-200</td>\n",
              "      <td>11.9</td>\n",
              "      <td>1047</td>\n",
              "      <td>265</td>\n",
              "      <td>654</td>\n",
              "      <td>168</td>\n",
              "      <td>1129</td>\n",
              "      <td>816</td>\n",
              "      <td>28.5</td>\n",
              "      <td>13.1</td>\n",
              "      <td>0.5028</td>\n",
              "    </tr>\n",
              "  </tbody>\n",
              "</table>\n",
              "</div>"
            ],
            "text/plain": [
              "          Date      Time   CO  PT08S1  NMHC  C6H6  PT08S2  NOx  PT08S3  NO2  \\\n",
              "9352  4/4/2005  10:00:00  3.1    1314  -200  13.5    1101  472     539  190   \n",
              "9353  4/4/2005  11:00:00  2.4    1163  -200  11.4    1027  353     604  179   \n",
              "9354  4/4/2005  12:00:00  2.4    1142  -200  12.4    1063  293     603  175   \n",
              "9355  4/4/2005  13:00:00  2.1    1003  -200   9.5     961  235     702  156   \n",
              "9356  4/4/2005  14:00:00  2.2    1071  -200  11.9    1047  265     654  168   \n",
              "\n",
              "      PT08S4  PT08S5     T    RH      AH  \n",
              "9352    1374    1729  21.9  29.3  0.7568  \n",
              "9353    1264    1269  24.3  23.7  0.7119  \n",
              "9354    1241    1092  26.9  18.3  0.6406  \n",
              "9355    1041     770  28.3  13.5  0.5139  \n",
              "9356    1129     816  28.5  13.1  0.5028  "
            ]
          },
          "execution_count": 4,
          "metadata": {},
          "output_type": "execute_result"
        }
      ],
      "source": [
        "df.tail()"
      ]
    },
    {
      "cell_type": "code",
      "execution_count": 5,
      "metadata": {
        "id": "oQcaA5adwiGr"
      },
      "outputs": [
        {
          "name": "stdout",
          "output_type": "stream",
          "text": [
            "<class 'pandas.core.frame.DataFrame'>\n",
            "RangeIndex: 9357 entries, 0 to 9356\n",
            "Data columns (total 15 columns):\n",
            " #   Column  Non-Null Count  Dtype  \n",
            "---  ------  --------------  -----  \n",
            " 0   Date    9357 non-null   object \n",
            " 1   Time    9357 non-null   object \n",
            " 2   CO      9357 non-null   float64\n",
            " 3   PT08S1  9357 non-null   int64  \n",
            " 4   NMHC    9357 non-null   int64  \n",
            " 5   C6H6    9357 non-null   float64\n",
            " 6   PT08S2  9357 non-null   int64  \n",
            " 7   NOx     9357 non-null   int64  \n",
            " 8   PT08S3  9357 non-null   int64  \n",
            " 9   NO2     9357 non-null   int64  \n",
            " 10  PT08S4  9357 non-null   int64  \n",
            " 11  PT08S5  9357 non-null   int64  \n",
            " 12  T       9357 non-null   float64\n",
            " 13  RH      9357 non-null   float64\n",
            " 14  AH      9357 non-null   float64\n",
            "dtypes: float64(5), int64(8), object(2)\n",
            "memory usage: 1.1+ MB\n"
          ]
        }
      ],
      "source": [
        "df.info()"
      ]
    },
    {
      "cell_type": "code",
      "execution_count": 24,
      "metadata": {
        "id": "U7lUXgpdEo8d"
      },
      "outputs": [],
      "source": [
        "# 12 independent variables\n",
        "# X = df.drop([\"Date\", \"Time\", \"C6H6\"], axis=1) \n",
        "X = df.drop([\"Date\", \"Time\", \"RH\"], axis=1) \n",
        "\n",
        "# dependent variable\n",
        "# y = df[\"C6H6\"]\n",
        "y = df[\"RH\"]"
      ]
    },
    {
      "cell_type": "code",
      "execution_count": 18,
      "metadata": {
        "id": "Ty4HZyEYbY4l"
      },
      "outputs": [
        {
          "data": {
            "text/plain": [
              "Text(0, 0.5, 'C6H6(GT)')"
            ]
          },
          "execution_count": 18,
          "metadata": {},
          "output_type": "execute_result"
        },
        {
          "data": {
            "image/png": "[encoded data removed]",
            "text/plain": [
              "<Figure size 1440x432 with 6 Axes>"
            ]
          },
          "metadata": {
            "needs_background": "light"
          },
          "output_type": "display_data"
        }
      ],
      "source": [
        "import matplotlib.pyplot as plt\n",
        "\n",
        "f = plt.figure(figsize=(20,6))\n",
        "\n",
        "plt.subplot(2,3,1)\n",
        "plt.scatter(X.iloc[:,0], y)\n",
        "# Set x and y axis labels\n",
        "plt.xlabel(\"CO(GT)\")\n",
        "plt.ylabel(\"C6H6(GT)\")\n",
        "# plt.legend()\n",
        "\n",
        "plt.subplot(2,3,2)\n",
        "plt.scatter(X.iloc[:,1], y)\n",
        "# Set x and y axis labels\n",
        "plt.xlabel(\"PT08.S1(CO)\")\n",
        "plt.ylabel(\"C6H6(GT)\")\n",
        "# plt.legend()\n",
        "\n",
        "plt.subplot(2,3,3)\n",
        "plt.scatter(X.iloc[:,2], y)\n",
        "# Set x and y axis labels\n",
        "plt.xlabel(\"NMHC(GT)\")\n",
        "plt.ylabel(\"C6H6(GT)\")\n",
        "# plt.legend()\n",
        "\n",
        "plt.subplot(2,3,4)\n",
        "plt.scatter(X.iloc[:,3], y)\n",
        "# Set x and y axis labels\n",
        "plt.xlabel(\"C6H6(GT)\")\n",
        "plt.ylabel(\"C6H6(GT)\")\n",
        "# plt.legend()\n",
        "\n",
        "plt.subplot(2,3,5)\n",
        "plt.scatter(X.iloc[:,4], y)\n",
        "# Set x and y axis labels\n",
        "plt.xlabel(\"PT08.S2(NMHC)\")\n",
        "plt.ylabel(\"C6H6(GT)\")\n",
        "# plt.legend()\n",
        "\n",
        "plt.subplot(2,3,6)\n",
        "plt.scatter(X.iloc[:,5], y)\n",
        "# Set x and y axis labels\n",
        "plt.xlabel(\"NOx(GT)\")\n",
        "plt.ylabel(\"C6H6(GT)\")\n",
        "# plt.legend()\n",
        "\n"
      ]
    },
    {
      "cell_type": "code",
      "execution_count": 25,
      "metadata": {},
      "outputs": [
        {
          "data": {
            "text/html": [
              "<div>\n",
              "<style scoped>\n",
              "    .dataframe tbody tr th:only-of-type {\n",
              "        vertical-align: middle;\n",
              "    }\n",
              "\n",
              "    .dataframe tbody tr th {\n",
              "        vertical-align: top;\n",
              "    }\n",
              "\n",
              "    .dataframe thead th {\n",
              "        text-align: right;\n",
              "    }\n",
              "</style>\n",
              "<table border=\"1\" class=\"dataframe\">\n",
              "  <thead>\n",
              "    <tr style=\"text-align: right;\">\n",
              "      <th></th>\n",
              "      <th>CO</th>\n",
              "      <th>PT08S1</th>\n",
              "      <th>NMHC</th>\n",
              "      <th>C6H6</th>\n",
              "      <th>PT08S2</th>\n",
              "      <th>NOx</th>\n",
              "      <th>PT08S3</th>\n",
              "      <th>NO2</th>\n",
              "      <th>PT08S4</th>\n",
              "      <th>PT08S5</th>\n",
              "      <th>T</th>\n",
              "      <th>AH</th>\n",
              "    </tr>\n",
              "  </thead>\n",
              "  <tbody>\n",
              "    <tr>\n",
              "      <th>0</th>\n",
              "      <td>2.6</td>\n",
              "      <td>1360</td>\n",
              "      <td>150</td>\n",
              "      <td>11.9</td>\n",
              "      <td>1046</td>\n",
              "      <td>166</td>\n",
              "      <td>1056</td>\n",
              "      <td>113</td>\n",
              "      <td>1692</td>\n",
              "      <td>1268</td>\n",
              "      <td>13.6</td>\n",
              "      <td>0.7578</td>\n",
              "    </tr>\n",
              "    <tr>\n",
              "      <th>1</th>\n",
              "      <td>2.0</td>\n",
              "      <td>1292</td>\n",
              "      <td>112</td>\n",
              "      <td>9.4</td>\n",
              "      <td>955</td>\n",
              "      <td>103</td>\n",
              "      <td>1174</td>\n",
              "      <td>92</td>\n",
              "      <td>1559</td>\n",
              "      <td>972</td>\n",
              "      <td>13.3</td>\n",
              "      <td>0.7255</td>\n",
              "    </tr>\n",
              "    <tr>\n",
              "      <th>2</th>\n",
              "      <td>2.2</td>\n",
              "      <td>1402</td>\n",
              "      <td>88</td>\n",
              "      <td>9.0</td>\n",
              "      <td>939</td>\n",
              "      <td>131</td>\n",
              "      <td>1140</td>\n",
              "      <td>114</td>\n",
              "      <td>1555</td>\n",
              "      <td>1074</td>\n",
              "      <td>11.9</td>\n",
              "      <td>0.7502</td>\n",
              "    </tr>\n",
              "    <tr>\n",
              "      <th>3</th>\n",
              "      <td>2.2</td>\n",
              "      <td>1376</td>\n",
              "      <td>80</td>\n",
              "      <td>9.2</td>\n",
              "      <td>948</td>\n",
              "      <td>172</td>\n",
              "      <td>1092</td>\n",
              "      <td>122</td>\n",
              "      <td>1584</td>\n",
              "      <td>1203</td>\n",
              "      <td>11.0</td>\n",
              "      <td>0.7867</td>\n",
              "    </tr>\n",
              "    <tr>\n",
              "      <th>4</th>\n",
              "      <td>1.6</td>\n",
              "      <td>1272</td>\n",
              "      <td>51</td>\n",
              "      <td>6.5</td>\n",
              "      <td>836</td>\n",
              "      <td>131</td>\n",
              "      <td>1205</td>\n",
              "      <td>116</td>\n",
              "      <td>1490</td>\n",
              "      <td>1110</td>\n",
              "      <td>11.2</td>\n",
              "      <td>0.7888</td>\n",
              "    </tr>\n",
              "  </tbody>\n",
              "</table>\n",
              "</div>"
            ],
            "text/plain": [
              "    CO  PT08S1  NMHC  C6H6  PT08S2  NOx  PT08S3  NO2  PT08S4  PT08S5     T  \\\n",
              "0  2.6    1360   150  11.9    1046  166    1056  113    1692    1268  13.6   \n",
              "1  2.0    1292   112   9.4     955  103    1174   92    1559     972  13.3   \n",
              "2  2.2    1402    88   9.0     939  131    1140  114    1555    1074  11.9   \n",
              "3  2.2    1376    80   9.2     948  172    1092  122    1584    1203  11.0   \n",
              "4  1.6    1272    51   6.5     836  131    1205  116    1490    1110  11.2   \n",
              "\n",
              "       AH  \n",
              "0  0.7578  \n",
              "1  0.7255  \n",
              "2  0.7502  \n",
              "3  0.7867  \n",
              "4  0.7888  "
            ]
          },
          "execution_count": 25,
          "metadata": {},
          "output_type": "execute_result"
        }
      ],
      "source": [
        "X.head()"
      ]
    },
    {
      "cell_type": "code",
      "execution_count": 26,
      "metadata": {},
      "outputs": [
        {
          "data": {
            "text/plain": [
              "0    48.9\n",
              "1    47.7\n",
              "2    54.0\n",
              "3    60.0\n",
              "4    59.6\n",
              "Name: RH, dtype: float64"
            ]
          },
          "execution_count": 26,
          "metadata": {},
          "output_type": "execute_result"
        }
      ],
      "source": [
        "y.head()"
      ]
    },
    {
      "attachments": {},
      "cell_type": "markdown",
      "metadata": {
        "id": "DV2V5WPh7iXk"
      },
      "source": [
        "### Training and testing dataset split"
      ]
    },
    {
      "cell_type": "code",
      "execution_count": 27,
      "metadata": {
        "id": "g0hkuG7lGItA"
      },
      "outputs": [],
      "source": [
        "# importing train_test_split from sklearn\n",
        "from sklearn.model_selection import train_test_split\n",
        "\n",
        "# splitting the data\n",
        "X_train, X_test, y_train, y_test = train_test_split(X, y, test_size = 0.3, random_state=1)"
      ]
    },
    {
      "cell_type": "code",
      "execution_count": 12,
      "metadata": {},
      "outputs": [
        {
          "data": {
            "text/plain": [
              "6549"
            ]
          },
          "execution_count": 12,
          "metadata": {},
          "output_type": "execute_result"
        }
      ],
      "source": [
        "len(X_train)"
      ]
    },
    {
      "cell_type": "code",
      "execution_count": 13,
      "metadata": {},
      "outputs": [
        {
          "data": {
            "text/plain": [
              "2808"
            ]
          },
          "execution_count": 13,
          "metadata": {},
          "output_type": "execute_result"
        }
      ],
      "source": [
        "len(X_test)"
      ]
    },
    {
      "attachments": {},
      "cell_type": "markdown",
      "metadata": {
        "id": "dAFWpRGf7ptQ"
      },
      "source": [
        "### Training"
      ]
    },
    {
      "cell_type": "code",
      "execution_count": 28,
      "metadata": {
        "id": "5HbqL5uZGhry"
      },
      "outputs": [],
      "source": [
        "# importing module\n",
        "from sklearn.linear_model import LinearRegression\n",
        "\n",
        "# creating an object of LinearRegression class\n",
        "LR = LinearRegression()\n",
        "\n",
        "# fitting the training data\n",
        "mlr = LR.fit(X_train,y_train)"
      ]
    },
    {
      "attachments": {},
      "cell_type": "markdown",
      "metadata": {
        "id": "yH5AuW_D7sl2"
      },
      "source": [
        "### Testing"
      ]
    },
    {
      "cell_type": "code",
      "execution_count": 29,
      "metadata": {
        "id": "VKCQ5tuzGjE6"
      },
      "outputs": [],
      "source": [
        "y_pred =  mlr.predict(X_test)"
      ]
    },
    {
      "attachments": {},
      "cell_type": "markdown",
      "metadata": {
        "id": "N1lH1Tbl7e57"
      },
      "source": [
        "### Model evaluation"
      ]
    },
    {
      "cell_type": "code",
      "execution_count": 30,
      "metadata": {
        "id": "fn8ICLq7Hg3O"
      },
      "outputs": [
        {
          "name": "stdout",
          "output_type": "stream",
          "text": [
            "r2 score:  0.9751845136926791\n",
            "RMSE:  8.01070367598407 mg/m^3\n"
          ]
        }
      ],
      "source": [
        "from sklearn.metrics import r2_score\n",
        "from sklearn.metrics import mean_squared_error \n",
        "\n",
        "# r2 score\n",
        "score = r2_score(y_test, y_pred)\n",
        "\n",
        "# root mean squared error: how far predicted from the actual value, on average\n",
        "rmse = mean_squared_error(y_test, y_pred, squared = False)\n",
        "\n",
        "print(\"r2 score: \", score)\n",
        "print(\"RMSE: \", rmse, \"mg/m^3\")"
      ]
    }
  ],
  "metadata": {
    "colab": {
      "authorship_tag": "ABX9TyNKRRksSXX5NVl5MD4Y+gXm",
      "include_colab_link": true,
      "mount_file_id": "1BuvWkbD1zywE3lcE9r68vopn0lrxHx2-",
      "provenance": []
    },
    "kernelspec": {
      "display_name": "Python 3",
      "name": "python3"
    },
    "language_info": {
      "codemirror_mode": {
        "name": "ipython",
        "version": 3
      },
      "file_extension": ".py",
      "mimetype": "text/x-python",
      "name": "python",
      "nbconvert_exporter": "python",
      "pygments_lexer": "ipython3",
      "version": "3.9.17"
    }
  },
  "nbformat": 4,
  "nbformat_minor": 0
}
