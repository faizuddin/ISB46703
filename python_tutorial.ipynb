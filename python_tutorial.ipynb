{
  "cells": [
    {
      "attachments": {},
      "cell_type": "markdown",
      "metadata": {
        "id": "OJK7T-4TPjAr"
      },
      "source": [
        "# Intro to/Principles of Artificial Intelligence (IBB31103/ISB46703)\n",
        "## Tutorial: Python Basics"
      ]
    },
    {
      "cell_type": "markdown",
      "metadata": {
        "id": "fum2yyZmhLma"
      },
      "source": [
        "\n",
        "\n",
        "\n",
        "Python can be run in one of two modes. It can either be used interactively, via an interpeter, or it can be called from the command line to execute a script. We will first use the Python interpreter interactively.\n",
        "\n",
        "You can invoke the interpreter using the command python using Colab notebook Unix command prompt by appending exclamation mark \"!\" in front of `python` command."
      ]
    },
    {
      "cell_type": "code",
      "execution_count": null,
      "metadata": {
        "colab": {
          "base_uri": "https://localhost:8080/"
        },
        "id": "y0hgrw5i-UCX",
        "outputId": "9e8ca3f7-5ce4-4c3d-8293-2a68021ed603"
      },
      "outputs": [],
      "source": [
        "!python --version"
      ]
    },
    {
      "cell_type": "markdown",
      "metadata": {
        "id": "bnEcFTr5iJwP"
      },
      "source": [
        "## Operators\n",
        "\n",
        "The Python interpreter can be used to evaluate expressions, for example simple arithmetic expressions. If you enter such expressions in cell they will be evaluated and the result will be returned in the output."
      ]
    },
    {
      "cell_type": "code",
      "execution_count": null,
      "metadata": {
        "colab": {
          "base_uri": "https://localhost:8080/"
        },
        "id": "SaQhaA1igNz7",
        "outputId": "868b1bdb-b8d5-447a-a495-71ba5a4fcc53"
      },
      "outputs": [],
      "source": [
        "6*56"
      ]
    },
    {
      "cell_type": "code",
      "execution_count": null,
      "metadata": {
        "colab": {
          "base_uri": "https://localhost:8080/"
        },
        "id": "6XrrlfjHkdXc",
        "outputId": "aa357368-5302-4029-b0df-a4f6250ae852"
      },
      "outputs": [],
      "source": [
        "23+9"
      ]
    },
    {
      "cell_type": "code",
      "execution_count": null,
      "metadata": {
        "colab": {
          "base_uri": "https://localhost:8080/"
        },
        "id": "1teX_J7ukiT5",
        "outputId": "20314853-d68d-44a8-d76e-dd7f7c8e362a"
      },
      "outputs": [],
      "source": [
        "363-667"
      ]
    },
    {
      "cell_type": "markdown",
      "metadata": {
        "id": "JqPhteFwifQQ"
      },
      "source": [
        "Boolean operators also exist in Python to manipulate the primitive `True` and `False` values."
      ]
    },
    {
      "cell_type": "code",
      "execution_count": null,
      "metadata": {
        "colab": {
          "base_uri": "https://localhost:8080/"
        },
        "id": "C-S3_8JfipWJ",
        "outputId": "132ea562-cb42-454a-b0ed-83f515a50274"
      },
      "outputs": [],
      "source": [
        "(1==1) and (9==8)"
      ]
    },
    {
      "cell_type": "code",
      "execution_count": null,
      "metadata": {
        "colab": {
          "base_uri": "https://localhost:8080/"
        },
        "id": "KtzcTsFjkYwT",
        "outputId": "f1f88093-0340-4bd4-df5b-ca2dce571017"
      },
      "outputs": [],
      "source": [
        "not (1 == 0)"
      ]
    },
    {
      "cell_type": "markdown",
      "metadata": {
        "id": "IMkNiW7YjQ07"
      },
      "source": [
        "## Strings\n",
        "\n",
        "Like Java, Python has a built in string type. The `+` operator is overloaded to do string concatenation on string values."
      ]
    },
    {
      "cell_type": "code",
      "execution_count": null,
      "metadata": {
        "colab": {
          "base_uri": "https://localhost:8080/",
          "height": 35
        },
        "id": "Y_eA2YO5jfHa",
        "outputId": "e688e20c-c757-4d9b-e567-2911faa621a8"
      },
      "outputs": [],
      "source": [
        "\"Principles \" + 'of ' + 'Artificial ' + \"Intelligence\""
      ]
    },
    {
      "cell_type": "markdown",
      "metadata": {
        "id": "-cVEdhMakLZw"
      },
      "source": [
        "There are many built-in methods which allow you to manipulate strings."
      ]
    },
    {
      "cell_type": "code",
      "execution_count": null,
      "metadata": {
        "colab": {
          "base_uri": "https://localhost:8080/",
          "height": 35
        },
        "id": "IZhR4rLRkHnh",
        "outputId": "ca8cefc7-b3fa-4fea-cf64-020bcfc4f27c"
      },
      "outputs": [],
      "source": [
        "'abcdef'.upper()"
      ]
    },
    {
      "cell_type": "code",
      "execution_count": null,
      "metadata": {
        "colab": {
          "base_uri": "https://localhost:8080/",
          "height": 35
        },
        "id": "Km6ddQwJkPM4",
        "outputId": "997ef32b-2b4b-4b46-b54e-f1099c179706"
      },
      "outputs": [],
      "source": [
        "'HELP'.lower()"
      ]
    },
    {
      "cell_type": "code",
      "execution_count": null,
      "metadata": {
        "colab": {
          "base_uri": "https://localhost:8080/"
        },
        "id": "Kq0vWgxAkR4w",
        "outputId": "b3067925-6219-4753-8d41-12b0fdf2bc31"
      },
      "outputs": [],
      "source": [
        "len('Help')"
      ]
    },
    {
      "cell_type": "markdown",
      "metadata": {
        "id": "Ltr4SasZkpfF"
      },
      "source": [
        "Notice that we can use either single quotes ' ' or double quotes \" \" to surround string. This allows for easy nesting of strings.\n",
        "\n",
        "We can also store expressions into variables."
      ]
    },
    {
      "cell_type": "code",
      "execution_count": null,
      "metadata": {
        "colab": {
          "base_uri": "https://localhost:8080/"
        },
        "id": "g3wi3GYzkUDK",
        "outputId": "cd21f950-cf04-4a78-c9f8-33c9c973940a"
      },
      "outputs": [],
      "source": [
        "s = 'hello world'\n",
        "print(s)"
      ]
    },
    {
      "cell_type": "code",
      "execution_count": null,
      "metadata": {
        "colab": {
          "base_uri": "https://localhost:8080/",
          "height": 35
        },
        "id": "5s3BIhjKkuko",
        "outputId": "c3528aa1-6a85-41e9-ad55-a71afdd9902f"
      },
      "outputs": [],
      "source": [
        "s.upper()"
      ]
    },
    {
      "cell_type": "markdown",
      "metadata": {
        "id": "1H0bKgmQlRjF"
      },
      "source": [
        "Print the length of word"
      ]
    },
    {
      "cell_type": "code",
      "execution_count": null,
      "metadata": {
        "colab": {
          "base_uri": "https://localhost:8080/"
        },
        "id": "gNwNOvkukxAM",
        "outputId": "62295da6-0231-4210-b636-da071dfa27c8"
      },
      "outputs": [],
      "source": [
        "len(s.upper()) "
      ]
    },
    {
      "cell_type": "code",
      "execution_count": null,
      "metadata": {
        "colab": {
          "base_uri": "https://localhost:8080/"
        },
        "id": "WSUrr9ixk01U",
        "outputId": "1023ba85-59ca-4200-d7d7-600715ab12ef"
      },
      "outputs": [],
      "source": [
        "num = 8.0\n",
        "num += 2.5\n",
        "print(num)"
      ]
    },
    {
      "cell_type": "markdown",
      "metadata": {
        "id": "nCF7bTeFlxCI"
      },
      "source": [
        "In Python, you do not have declare variables before you assign to them."
      ]
    },
    {
      "cell_type": "markdown",
      "metadata": {
        "id": "0cV9y-v6mT8m"
      },
      "source": [
        "### Exercise: Dir and Help\n",
        "Learn about the methods Python provides for strings. To see what methods Python provides for a datatype, use the dir and help commands:"
      ]
    },
    {
      "cell_type": "code",
      "execution_count": null,
      "metadata": {
        "colab": {
          "base_uri": "https://localhost:8080/"
        },
        "id": "D3XBJgpBmYdY",
        "outputId": "f148f4d0-446f-4413-efc0-11a5a387b9d8"
      },
      "outputs": [],
      "source": [
        "s = 'abc'\n",
        "dir(s)"
      ]
    },
    {
      "cell_type": "code",
      "execution_count": null,
      "metadata": {
        "colab": {
          "base_uri": "https://localhost:8080/"
        },
        "id": "bYA75nf8ma79",
        "outputId": "19e5edb2-10a7-42bf-da23-ff4127019f11"
      },
      "outputs": [],
      "source": [
        "help(s.find)"
      ]
    },
    {
      "cell_type": "code",
      "execution_count": null,
      "metadata": {
        "colab": {
          "base_uri": "https://localhost:8080/"
        },
        "id": "d1gGZ5Xpmwy4",
        "outputId": "e8f4fafd-e66e-452d-87ad-7e04b8f20098"
      },
      "outputs": [],
      "source": [
        "s.find('c')"
      ]
    },
    {
      "cell_type": "markdown",
      "metadata": {
        "id": "8wWNsun1Qa8B"
      },
      "source": [
        "## Control Structures\n",
        "\n",
        "### The `if` statement and variants.\n",
        "The simple `if` statement allows the program to branch based on the evaluation of an expression\n",
        "\n",
        "The basic format of the if statement is:"
      ]
    },
    {
      "cell_type": "code",
      "execution_count": null,
      "metadata": {
        "colab": {
          "base_uri": "https://localhost:8080/"
        },
        "id": "LRJRIpYWQ4Sg",
        "outputId": "67ceda0e-8543-4184-ee73-ab0deb3b2f62"
      },
      "outputs": [],
      "source": [
        "print(\"\\nExample 1\\n\")\n",
        "\n",
        "value = 5\n",
        "threshold= 4\n",
        "print(\"value is\", value, \"threshold is \",threshold)\n",
        "if value > threshold :\n",
        "  print(value, \"is bigger than \", threshold)\n",
        "\n",
        "print(\"\\nExample 2\\n\")\n",
        "\n",
        "\n",
        "high_threshold = 6\n",
        "print(\"value is\", value, \"new threshold is \",high_threshold)\n",
        "if value > high_threshold :\n",
        "  print(value , \"is above \", high_threshold, \"threshold\")\n",
        "\n",
        "print(\"\\nExample 3\\n\")\n",
        "\n",
        "\n",
        "mid_threshold = 5\n",
        "print(\"value is\", value, \"final threshold is \",mid_threshold)\n",
        "if value == mid_threshold :\n",
        "  print(\"value, \", value, \" and threshold,\", mid_threshold, \", are equal\")"
      ]
    },
    {
      "cell_type": "markdown",
      "metadata": {
        "id": "DoVQSylVRCDx"
      },
      "source": [
        "In the examples above there are three things to notice:\n",
        "1.   The colon `:` at the end of the if line. Leaving this out is a common error.\n",
        "2.   The indentation of the print statement. If you remembered the `:` on the line before, Colab (or any other Python IDE) will automatically do the indentation for you. All of the statements indented at this level are considered to be part of the `if` statement. This is a feature fairly unique to Python, that it cares about the indentation. If there is too much, or too little indentation, you will get an error.\n",
        "3. The `if` statement is ended by removing the indent. There is no explicit end to the `if` statement as there is in many other programming languages\n",
        "\n",
        "In the last example, notice that in Python the operator used to check equality is `==`.\n",
        "\n",
        "\n",
        "\n"
      ]
    },
    {
      "cell_type": "markdown",
      "metadata": {
        "id": "skcWmueQR8NF"
      },
      "source": [
        "### Exercise\n",
        "Add another `if` statement to example 1 that will check if `b` is greater than or equal to `a`"
      ]
    },
    {
      "cell_type": "code",
      "execution_count": null,
      "metadata": {
        "colab": {
          "base_uri": "https://localhost:8080/"
        },
        "id": "yV3ElPGJSOAm",
        "outputId": "5af1e3d1-b40b-4dc3-aaf3-3df88872d356"
      },
      "outputs": [],
      "source": [
        "print(\"\\nExample 2a\\n\")\n",
        "\n",
        "a = 3\n",
        "b = 4\n",
        "print(\"a is\", a, \"b is\",b)\n",
        "if a > b :\n",
        "    print(a, \"is bigger than \", b)\n",
        "if a <= b :\n",
        "    print(b, \"is bigger than or equal to \", a)"
      ]
    },
    {
      "cell_type": "markdown",
      "metadata": {
        "id": "8NbANwSaSfiJ"
      },
      "source": [
        "Instead of using two separate `if` statements to decide which is larger we can use the `if ... else ...` construct"
      ]
    },
    {
      "cell_type": "code",
      "execution_count": null,
      "metadata": {
        "colab": {
          "base_uri": "https://localhost:8080/"
        },
        "id": "fjHFQTRMSk4J",
        "outputId": "ac6f5ee0-7595-47fe-c384-143396ebf23e"
      },
      "outputs": [],
      "source": [
        "# if ... else ...\n",
        "\n",
        "value = 4\n",
        "threshold = 5\n",
        "print(\"value = \", value, \"and threshold = \", threshold)\n",
        "\n",
        "if value > threshold :\n",
        "    print(\"above threshold\")\n",
        "else :\n",
        "    print(\"below threshold\")"
      ]
    },
    {
      "cell_type": "markdown",
      "metadata": {
        "id": "A5QnzLM3Sv2C"
      },
      "source": [
        "A further extension of the `if` statement is the `if ... elif ...else` version.\n",
        "\n",
        "The example below allows you to be more specific about the comparison of `a` and `b`."
      ]
    },
    {
      "cell_type": "code",
      "execution_count": null,
      "metadata": {
        "colab": {
          "base_uri": "https://localhost:8080/"
        },
        "id": "nPXi60nGS0_5",
        "outputId": "a049c5ba-dbfa-41b0-b301-8e5350af5c94"
      },
      "outputs": [],
      "source": [
        "# if ... elif ... else ... endIf\n",
        "\n",
        "a = 5\n",
        "b = 4\n",
        "print(\"a = \", a, \"and b = \", b)\n",
        "\n",
        "if a > b :\n",
        "    print(a, \" is greater than \", b)\n",
        "elif a == b :\n",
        "    print(a, \" equals \", b)\n",
        "else :\n",
        "    print(a, \" is less than \", b)"
      ]
    },
    {
      "cell_type": "markdown",
      "metadata": {
        "id": "ickAngUpS_1p"
      },
      "source": [
        "The overall structure is similar to the `if ... else` statement. There are three additional things to notice:\n",
        "1. Each `elif` clause has its own test expression.\n",
        "2. You can have as many `elif` clauses as you need.\n",
        "3. Execution of the whole statement stops after an `elif` expression is found to be `True`. Therefore the ordering of the `elif` clause can be significant."
      ]
    },
    {
      "cell_type": "markdown",
      "metadata": {
        "id": "Tn6KwnsBTUZn"
      },
      "source": [
        "### The `while` loop\n",
        "The `while` loop is used to repeatedly execute lines of code until some condition becomes `False`.\n",
        "\n",
        "For the loop to terminate, there has to be something in the code which will potentially change the condition."
      ]
    },
    {
      "cell_type": "code",
      "execution_count": null,
      "metadata": {
        "colab": {
          "base_uri": "https://localhost:8080/"
        },
        "id": "qxq7xVinTiQo",
        "outputId": "be2f1ad3-e2fe-4efa-a8a7-dd3ccf3451b5"
      },
      "outputs": [],
      "source": [
        "# while loop\n",
        "n = 20\n",
        "cur_sum = 0\n",
        "# sum of n  numbers\n",
        "i = 1\n",
        "while  i <= n :\n",
        "    cur_sum = cur_sum + i\n",
        "    i = i + 1\n",
        "print(\"The sum of the numbers from 1 to\", n, \"is \", cur_sum)"
      ]
    },
    {
      "cell_type": "markdown",
      "metadata": {
        "id": "22KiDT4BTrGE"
      },
      "source": [
        "Points to note:\n",
        "\n",
        "1. The condition clause `(i <= n)` in the while statement can be anything which when evaluated would return a Boolean value of either `True` of `False`. Initially `i` has been set to 1 (before the start of the loop) and therefore the condition is `True`.\n",
        "2. The clause can be made more complex by use of parentheses and `and` and `or` operators amongst others\n",
        "3. The statements after the while clause are only executed if the condition evaluates as `True`.\n",
        "4. Within the statements after the while clause there should be something which potentially will make the condition evaluate as `False` next time around. If not the loop will never end.\n",
        "5. In this case the last statement in the loop changes the value of i which is part of the condition clause, so hopefully the loop will end.\n",
        "6. We called our variable `cur_sum` and not `sum` because `sum` is a builtin function (try typing it in, notice the editor changes it to green). If we define `sum = 0` now we can’t use the function `sum` in this Python session."
      ]
    },
    {
      "cell_type": "markdown",
      "metadata": {
        "id": "nGoNxX53UgI8"
      },
      "source": [
        "### The `for` loop\n",
        "The for loop, like the while loop repeatedly executes a set of statements. The difference is that in the for loop we know in at the outset how often the statements in the loop will be executed. We don’t have to rely on a variable being changed within the looping statements.\n",
        "\n",
        "The basic format of the `for` statement is:"
      ]
    },
    {
      "cell_type": "code",
      "execution_count": null,
      "metadata": {
        "colab": {
          "base_uri": "https://localhost:8080/"
        },
        "id": "yfUPxKG4Urjc",
        "outputId": "0c9ee6e1-f41a-4024-c004-a5afc5b2d6b3"
      },
      "outputs": [],
      "source": [
        "print(\"\\nExample 1\\n\")\n",
        "for i in [1,2,3] :\n",
        "    print(i)\n",
        "\n",
        "print(\"\\nExample 2\\n\")\n",
        "for name in [\"Tom\", \"Dick\", \"Harry\"] :\n",
        "    print(name)\n",
        "\n",
        "print(\"\\nExample 3\\n\")\n",
        "for name in [\"Tom\", 42, 3.142] :\n",
        "    print(name)\n",
        "\n",
        "print(\"\\nExample 4\\n\")\n",
        "for i in range(3) :\n",
        "    print(i)\n",
        "\n",
        "print(\"\\nExample 5\\n\")\n",
        "for i in range(1,4) :\n",
        "    print(i)\n",
        "\n",
        "print(\"\\nExample 6\\n\")\n",
        "for i in range(2, 11, 2) :\n",
        "    print(i)\n",
        "\n",
        "print(\"\\nExample 7\\n\")\n",
        "for i in \"ABCDE\" :\n",
        "    print(i)\n",
        "\n",
        "print(\"\\nExample 8\\n\")\n",
        "longString = \"The quick brown fox jumped over the lazy sleeping dog\"\n",
        "for word in longString.split() :\n",
        "    print(word)"
      ]
    },
    {
      "cell_type": "markdown",
      "metadata": {
        "id": "o7oWSUseUzc2"
      },
      "source": [
        "The key part of this is the `longString`. The phrase used in the documentation is that it must be *iterable*. That means, you can count through the sequence, starting at the beginning and stopping at the end.\n",
        "\n",
        "There are many examples of things which are iterable some of which we have already come across.\n",
        "\n",
        "* Lists are iterable - they don’t have to contain numbers, you iterate over the elements in the list.\n",
        "* The `range()` function\n",
        "* The characters in a string"
      ]
    },
    {
      "cell_type": "markdown",
      "metadata": {
        "id": "qxUqb9EOVXvr"
      },
      "source": [
        "### Exercise\n",
        "Suppose that we have a string containing a set of 4 different types of values separated by `,` like this:\n",
        "\n",
        "`variablelist = \"26/08/2021,34.5,Yellow,True\"`\n",
        "\n",
        "Use the `split()` method and then rewrite the`for` loop from example above so that it prints the 4 components of `variablelist`"
      ]
    },
    {
      "cell_type": "code",
      "execution_count": null,
      "metadata": {
        "colab": {
          "base_uri": "https://localhost:8080/"
        },
        "id": "XiSpOkn4VwsX",
        "outputId": "e2b7e8a2-e6f3-4c91-a200-c15537e230bb"
      },
      "outputs": [],
      "source": [
        "# From the for loop section above\n",
        "variablelist = \"26/08/2021,34.5,Yellow,True\"\n",
        "\n",
        "# use for and split() method\n",
        "for word in variablelist.split(\",\"):\n",
        "  print(word)"
      ]
    },
    {
      "cell_type": "markdown",
      "metadata": {
        "id": "C-0mqA-zm3lS"
      },
      "source": [
        "## Built-in Data Structures\n",
        "\n",
        "Python comes equipped with some useful built-in data structures, broadly similar to Java’s collections package.\n",
        "\n"
      ]
    },
    {
      "cell_type": "markdown",
      "metadata": {
        "id": "7Qjx0WiDm_4k"
      },
      "source": [
        "### Lists\n",
        "\n",
        "Lists store a sequence of mutable items:"
      ]
    },
    {
      "cell_type": "code",
      "execution_count": null,
      "metadata": {
        "colab": {
          "base_uri": "https://localhost:8080/",
          "height": 35
        },
        "id": "kSLAQMOpnJIH",
        "outputId": "915f4f34-5e0e-4113-e3f2-a47b94e4bba2"
      },
      "outputs": [],
      "source": [
        "fruits = ['apple', 'orange', 'pear', 'banana']\n",
        "fruits[3]"
      ]
    },
    {
      "cell_type": "markdown",
      "metadata": {
        "id": "mLj5Djd2nSs0"
      },
      "source": [
        "We can use the `+` operator to do list concatenation:"
      ]
    },
    {
      "cell_type": "code",
      "execution_count": null,
      "metadata": {
        "colab": {
          "base_uri": "https://localhost:8080/"
        },
        "id": "M3lqBUIwnLPM",
        "outputId": "186e1250-4b88-4028-aaf2-d5b865e03db9"
      },
      "outputs": [],
      "source": [
        "otherFruits = ['kiwi', 'strawberry']\n",
        "fruits + otherFruits"
      ]
    },
    {
      "cell_type": "markdown",
      "metadata": {
        "id": "UQu5TSe9nuj0"
      },
      "source": [
        "Python also allows negative-indexing from the back of the list. For instance, `fruits[-1]` will access the last element `banana`:"
      ]
    },
    {
      "cell_type": "code",
      "execution_count": null,
      "metadata": {
        "colab": {
          "base_uri": "https://localhost:8080/",
          "height": 35
        },
        "id": "pgMrAjBInYhg",
        "outputId": "9d596026-1e88-4c5d-b38c-6ae23cef05fe"
      },
      "outputs": [],
      "source": [
        "fruits[-1]"
      ]
    },
    {
      "cell_type": "markdown",
      "metadata": {
        "id": "yvGz6SHu7wpt"
      },
      "source": [
        "or `fruits[-2]` will access the second last element `pear`:"
      ]
    },
    {
      "cell_type": "code",
      "execution_count": null,
      "metadata": {
        "colab": {
          "base_uri": "https://localhost:8080/",
          "height": 35
        },
        "id": "eHg-KVeD7TeZ",
        "outputId": "018a41ad-2a0e-48c2-a219-f49ff1e67419"
      },
      "outputs": [],
      "source": [
        "fruits[-2]"
      ]
    },
    {
      "cell_type": "markdown",
      "metadata": {
        "id": "Jeb2UNdF8Fgp"
      },
      "source": [
        "We also can use list data structure operation to remove or append or change an element:"
      ]
    },
    {
      "cell_type": "code",
      "execution_count": null,
      "metadata": {
        "colab": {
          "base_uri": "https://localhost:8080/"
        },
        "id": "iyUUDHCp7abU",
        "outputId": "910f9703-f213-446d-e282-788c431b968b"
      },
      "outputs": [],
      "source": [
        "fruits.pop()\n",
        "fruits"
      ]
    },
    {
      "cell_type": "code",
      "execution_count": null,
      "metadata": {
        "colab": {
          "base_uri": "https://localhost:8080/"
        },
        "id": "Wz9mmXh68Yg8",
        "outputId": "e2d41353-2243-48fc-82e1-78843cfb9c47"
      },
      "outputs": [],
      "source": [
        "fruits.append('grapefruit')\n",
        "fruits"
      ]
    },
    {
      "cell_type": "code",
      "execution_count": null,
      "metadata": {
        "colab": {
          "base_uri": "https://localhost:8080/"
        },
        "id": "CqE76bfU8ef6",
        "outputId": "ac40764c-1161-48c6-bbfe-99abadcf2538"
      },
      "outputs": [],
      "source": [
        "fruits[-1] = 'pineapple'\n",
        "fruits"
      ]
    },
    {
      "cell_type": "markdown",
      "metadata": {
        "id": "vL_s9ebM851v"
      },
      "source": [
        "We can also index multiple adjacent elements using the slice operator. For instance, `fruits[1:3]`, returns a list containing the elements at position 1 and 2. In general `fruits[start:stop]` will get the elements in start, start`+1, ..., stop-1`. We can also do `fruits[start:]` which returns all elements starting from the start index. Also `fruits[:end]` will return all elements before the element at position end:"
      ]
    },
    {
      "cell_type": "code",
      "execution_count": null,
      "metadata": {
        "colab": {
          "base_uri": "https://localhost:8080/"
        },
        "id": "l9BkvW-p8wma",
        "outputId": "c263ec15-a511-4fda-b1e5-4294207d47dd"
      },
      "outputs": [],
      "source": [
        "fruits[0:2]"
      ]
    },
    {
      "cell_type": "code",
      "execution_count": null,
      "metadata": {
        "colab": {
          "base_uri": "https://localhost:8080/"
        },
        "id": "imlZe4zy9H8Z",
        "outputId": "f93acd4e-99eb-417c-9320-36a9843b706c"
      },
      "outputs": [],
      "source": [
        "fruits[:3]"
      ]
    },
    {
      "cell_type": "code",
      "execution_count": null,
      "metadata": {
        "colab": {
          "base_uri": "https://localhost:8080/"
        },
        "id": "_QNm3TPt9KDy",
        "outputId": "066f8a52-6562-4107-e210-73425374e0ec"
      },
      "outputs": [],
      "source": [
        "fruits[2:]"
      ]
    },
    {
      "cell_type": "markdown",
      "metadata": {
        "id": "D8ed0v5J9QOU"
      },
      "source": [
        "Print the size of `fruits`:"
      ]
    },
    {
      "cell_type": "code",
      "execution_count": null,
      "metadata": {
        "colab": {
          "base_uri": "https://localhost:8080/"
        },
        "id": "0GmNLZ0K9MIB",
        "outputId": "769c85c5-5158-4376-fcd0-48686f7800c4"
      },
      "outputs": [],
      "source": [
        "len(fruits)"
      ]
    },
    {
      "cell_type": "markdown",
      "metadata": {
        "id": "hkZ2kmzH9Ztu"
      },
      "source": [
        "The items stored in lists can be any Python data type. So for instance we can have lists of lists:"
      ]
    },
    {
      "cell_type": "code",
      "execution_count": null,
      "metadata": {
        "colab": {
          "base_uri": "https://localhost:8080/"
        },
        "id": "Fjwuc5K_9cg2",
        "outputId": "9030b3a2-55c2-4070-a4d3-d1b9bece289f"
      },
      "outputs": [],
      "source": [
        "lstOfLsts = [['a', 'b', 'c'], [1, 2, 3], ['one', 'two', 'three']]\n",
        "lstOfLsts[1][2]"
      ]
    },
    {
      "cell_type": "code",
      "execution_count": null,
      "metadata": {
        "colab": {
          "base_uri": "https://localhost:8080/",
          "height": 35
        },
        "id": "RwXjEw829g9J",
        "outputId": "2f343ef1-6d75-40e7-87bf-7c36b1a8876a"
      },
      "outputs": [],
      "source": [
        "lstOfLsts[0].pop()"
      ]
    },
    {
      "cell_type": "code",
      "execution_count": null,
      "metadata": {
        "colab": {
          "base_uri": "https://localhost:8080/"
        },
        "id": "cJXgTqOP9nBx",
        "outputId": "a35f89eb-6225-49e4-8608-8b1f426fec6f"
      },
      "outputs": [],
      "source": [
        "lstOfLsts"
      ]
    },
    {
      "cell_type": "markdown",
      "metadata": {
        "id": "gXqHoJ7x9ySD"
      },
      "source": [
        "### Exercise: Lists\n",
        "\n",
        "Play with some of the list functions. You can find the methods you can call on an object via the `dir` and get information about them via the `help` command:"
      ]
    },
    {
      "cell_type": "code",
      "execution_count": null,
      "metadata": {
        "colab": {
          "base_uri": "https://localhost:8080/"
        },
        "id": "XeuBfx7I9pXy",
        "outputId": "1ac1f67f-9ff7-49d8-df8c-3635fd73aeab"
      },
      "outputs": [],
      "source": [
        "dir(list)"
      ]
    },
    {
      "cell_type": "code",
      "execution_count": null,
      "metadata": {
        "colab": {
          "base_uri": "https://localhost:8080/"
        },
        "id": "pQ7LQZ7X95Sz",
        "outputId": "355ff9bf-b325-43f5-a428-de2205a150db"
      },
      "outputs": [],
      "source": [
        "help(list.reverse)"
      ]
    },
    {
      "cell_type": "markdown",
      "metadata": {
        "id": "czrVaByI-IYd"
      },
      "source": [
        "Create a list called `lst` with elements: `a`, `b`, `c` and print them in reverse:"
      ]
    },
    {
      "cell_type": "code",
      "execution_count": null,
      "metadata": {
        "colab": {
          "base_uri": "https://localhost:8080/"
        },
        "id": "Ft-jwleq99Jy",
        "outputId": "d3316a20-cd07-4640-e997-5e0ac44794a9"
      },
      "outputs": [],
      "source": [
        "# create lst\n",
        "lst = ['a', 'b', 'c']\n",
        "print(lst)\n",
        "\n",
        "# reverse lst\n",
        "lst.reverse()\n",
        "\n",
        "# print lst \n",
        "lst"
      ]
    },
    {
      "cell_type": "markdown",
      "metadata": {
        "id": "HhF7KMEW-yno"
      },
      "source": [
        "### Tuples\n",
        "\n",
        "A data structure similar to the list is the tuple, which is like a list except that it is immutable once it is created (i.e. you cannot change its content once created). Note that tuples are surrounded with parentheses while lists have square brackets."
      ]
    },
    {
      "cell_type": "code",
      "execution_count": null,
      "metadata": {
        "colab": {
          "base_uri": "https://localhost:8080/"
        },
        "id": "itAbfS2e-ndL",
        "outputId": "61860a52-a188-493a-a771-e3d9835514c3"
      },
      "outputs": [],
      "source": [
        "pair = (3, 5)\n",
        "pair[0]"
      ]
    },
    {
      "cell_type": "code",
      "execution_count": null,
      "metadata": {
        "colab": {
          "base_uri": "https://localhost:8080/"
        },
        "id": "qbSE6icQ_Eg7",
        "outputId": "b7bc122f-41dc-4c81-dfe1-9f4ed7f3905d"
      },
      "outputs": [],
      "source": [
        "x, y = pair\n",
        "x"
      ]
    },
    {
      "cell_type": "code",
      "execution_count": null,
      "metadata": {
        "colab": {
          "base_uri": "https://localhost:8080/"
        },
        "id": "DX3fgdFe_JQL",
        "outputId": "edcec707-2470-487e-8993-fed4cbab0ea1"
      },
      "outputs": [],
      "source": [
        "y"
      ]
    },
    {
      "cell_type": "markdown",
      "metadata": {
        "id": "NWbSjxSa_VpQ"
      },
      "source": [
        "The attempt to modify an immutable structure raised an exception. Exceptions indicate errors: index out of bounds errors, type errors, and so on will all report exceptions in this way."
      ]
    },
    {
      "cell_type": "code",
      "execution_count": null,
      "metadata": {
        "colab": {
          "base_uri": "https://localhost:8080/",
          "height": 166
        },
        "id": "slVxt0KF_Mlv",
        "outputId": "bc4f800d-f8eb-4ee1-a846-f0dad7e3fa5f"
      },
      "outputs": [],
      "source": [
        "pair[1] = 6"
      ]
    },
    {
      "cell_type": "markdown",
      "metadata": {
        "id": "1AmjR90X_cKa"
      },
      "source": [
        "### Sets\n",
        "\n",
        "A set is another data structure that serves as an unordered list with no duplicate items. Below, we show how to create a set:"
      ]
    },
    {
      "cell_type": "code",
      "execution_count": null,
      "metadata": {
        "id": "orHE7qiu_P48"
      },
      "outputs": [],
      "source": [
        "shapes = ['circle', 'square', 'triangle', 'circle']\n",
        "setOfShapes = set(shapes)"
      ]
    },
    {
      "cell_type": "markdown",
      "metadata": {
        "id": "P_quoAin_qCG"
      },
      "source": [
        "Another way of creating a set:\n",
        "`setOfShapes = {‘circle’, ‘square’, ‘triangle’, ‘circle’}`\n",
        "\n",
        "Next, we show how to add things to the set, test if an item is in the set, and perform common set operations (difference, intersection, union):"
      ]
    },
    {
      "cell_type": "code",
      "execution_count": null,
      "metadata": {
        "colab": {
          "base_uri": "https://localhost:8080/"
        },
        "id": "7RUxPcfk_kGi",
        "outputId": "56d45a14-b19f-46ac-a2fd-92d366b47e51"
      },
      "outputs": [],
      "source": [
        "setOfShapes"
      ]
    },
    {
      "cell_type": "code",
      "execution_count": null,
      "metadata": {
        "colab": {
          "base_uri": "https://localhost:8080/"
        },
        "id": "6VrOyeZq_611",
        "outputId": "a138f430-1172-42dc-a480-ebeb0893973d"
      },
      "outputs": [],
      "source": [
        "setOfShapes.add('polygon')\n",
        "setOfShapes"
      ]
    },
    {
      "cell_type": "code",
      "execution_count": null,
      "metadata": {
        "colab": {
          "base_uri": "https://localhost:8080/"
        },
        "id": "ek6hKZH1_7aq",
        "outputId": "9f000d30-21d0-44a1-9b95-1d7f6a3bbd62"
      },
      "outputs": [],
      "source": [
        "'circle' in setOfShapes"
      ]
    },
    {
      "cell_type": "code",
      "execution_count": null,
      "metadata": {
        "colab": {
          "base_uri": "https://localhost:8080/"
        },
        "id": "9AOQ1lxzAFJD",
        "outputId": "cdb1551a-66cd-48bd-bf8a-3123c51fdd03"
      },
      "outputs": [],
      "source": [
        "'rhombus' in setOfShapes"
      ]
    },
    {
      "cell_type": "code",
      "execution_count": null,
      "metadata": {
        "colab": {
          "base_uri": "https://localhost:8080/"
        },
        "id": "JpfEny6PAP5V",
        "outputId": "6a2da053-9a0d-45db-de08-67cb26b08d85"
      },
      "outputs": [],
      "source": [
        "favoriteShapes = ['circle', 'triangle', 'hexagon']\n",
        "setOfFavoriteShapes = set(favoriteShapes)\n",
        "setOfShapes - setOfFavoriteShapes"
      ]
    },
    {
      "cell_type": "code",
      "execution_count": null,
      "metadata": {
        "colab": {
          "base_uri": "https://localhost:8080/"
        },
        "id": "4qkLtEFpAXsS",
        "outputId": "d0e79fe9-8864-4e25-d060-427cd9d933f0"
      },
      "outputs": [],
      "source": [
        "setOfShapes & setOfFavoriteShapes"
      ]
    },
    {
      "cell_type": "code",
      "execution_count": null,
      "metadata": {
        "colab": {
          "base_uri": "https://localhost:8080/"
        },
        "id": "bL6X4Xn-Aapl",
        "outputId": "038c2c6a-689d-4c07-d5f6-bcd8b2d96124"
      },
      "outputs": [],
      "source": [
        "setOfShapes | setOfFavoriteShapes"
      ]
    },
    {
      "cell_type": "markdown",
      "metadata": {
        "id": "BWtJJBSPAmmU"
      },
      "source": [
        "***Note that the objects in the set are unordered; you cannot assume that their traversal or print order will be the same across machines!***"
      ]
    },
    {
      "cell_type": "markdown",
      "metadata": {
        "id": "oDJrRFXyAt0I"
      },
      "source": [
        "### Dictionaries\n",
        "\n",
        "The last built-in data structure is the dictionary which stores a map from one type of object (the key) to another (the value). The key must be an immutable type (string, number, or tuple). The value can be any Python data type.\n",
        "\n",
        "Note: In the example below, the printed order of the keys returned by Python could be different than shown below. The reason is that unlike lists which have a fixed ordering, a dictionary is simply a hash table for which there is no fixed ordering of the keys (like HashMaps in Java). The order of the keys depends on how exactly the hashing algorithm maps keys to buckets, and will usually seem arbitrary. Your code should not rely on key ordering, and you should not be surprised if even a small modification to how your code uses a dictionary results in a new key ordering."
      ]
    },
    {
      "cell_type": "code",
      "execution_count": null,
      "metadata": {
        "colab": {
          "base_uri": "https://localhost:8080/"
        },
        "id": "aIk2XTudAdQn",
        "outputId": "ab9d6133-4403-44aa-ef86-f6aa0fc878fa"
      },
      "outputs": [],
      "source": [
        "studentIds = {'ali': 42.0, 'abu': 56.0, 'aminah': 92.0}\n",
        "studentIds['abu']"
      ]
    },
    {
      "cell_type": "code",
      "execution_count": null,
      "metadata": {
        "colab": {
          "base_uri": "https://localhost:8080/"
        },
        "id": "IGqIO6wQA6kh",
        "outputId": "5c72aa8e-0df4-4479-da55-388d31e9e7d7"
      },
      "outputs": [],
      "source": [
        "studentIds['aminah'] = 'ninety-two'\n",
        "studentIds"
      ]
    },
    {
      "cell_type": "code",
      "execution_count": null,
      "metadata": {
        "colab": {
          "base_uri": "https://localhost:8080/"
        },
        "id": "20yDqubGA_ry",
        "outputId": "cfe7a64c-991d-47b8-a6a7-372074bb2d2c"
      },
      "outputs": [],
      "source": [
        "del studentIds['ali']\n",
        "studentIds"
      ]
    },
    {
      "cell_type": "code",
      "execution_count": null,
      "metadata": {
        "colab": {
          "base_uri": "https://localhost:8080/"
        },
        "id": "Zhplfc5lBGiD",
        "outputId": "e4621176-ab99-48df-ef6c-7f38f46c98ce"
      },
      "outputs": [],
      "source": [
        "studentIds['ali'] = [42.0, 'forty-two']\n",
        "studentIds"
      ]
    },
    {
      "cell_type": "code",
      "execution_count": null,
      "metadata": {
        "colab": {
          "base_uri": "https://localhost:8080/"
        },
        "id": "6t-YXhcTBM5K",
        "outputId": "b9edac9a-2675-4abc-9a58-82f31daafae0"
      },
      "outputs": [],
      "source": [
        "studentIds.keys()"
      ]
    },
    {
      "cell_type": "code",
      "execution_count": null,
      "metadata": {
        "colab": {
          "base_uri": "https://localhost:8080/"
        },
        "id": "_2vQ1r6xBQE2",
        "outputId": "fe20e240-9a65-49ec-bc4a-0ec53571b688"
      },
      "outputs": [],
      "source": [
        "studentIds.values()"
      ]
    },
    {
      "cell_type": "code",
      "execution_count": null,
      "metadata": {
        "colab": {
          "base_uri": "https://localhost:8080/"
        },
        "id": "Wa15u83HBSji",
        "outputId": "300e88f1-987f-4d80-bb68-aa05ec7af59b"
      },
      "outputs": [],
      "source": [
        "studentIds.items()"
      ]
    },
    {
      "cell_type": "code",
      "execution_count": null,
      "metadata": {
        "colab": {
          "base_uri": "https://localhost:8080/"
        },
        "id": "RLNwhDQKBX5q",
        "outputId": "7fdb6f84-a5f4-4368-ea0a-ddf36690a983"
      },
      "outputs": [],
      "source": [
        "len(studentIds)"
      ]
    },
    {
      "cell_type": "markdown",
      "metadata": {
        "id": "2DLU49QsBgcf"
      },
      "source": [
        "As with nested lists, you can also create dictionaries of dictionaries."
      ]
    },
    {
      "cell_type": "markdown",
      "metadata": {
        "id": "KB98tqOABiKD"
      },
      "source": [
        "### Exercise: Dictionaries\n",
        "\n",
        "Use dir and help to learn about the functions you can call on dictionaries."
      ]
    },
    {
      "cell_type": "code",
      "execution_count": null,
      "metadata": {
        "colab": {
          "base_uri": "https://localhost:8080/"
        },
        "id": "2cms-Ha9BYmi",
        "outputId": "7d18b18b-88da-4acb-f24e-c33c03ef73bc"
      },
      "outputs": [],
      "source": [
        "# list out dict functions\n",
        "dir(dict)\n"
      ]
    },
    {
      "cell_type": "code",
      "execution_count": null,
      "metadata": {
        "colab": {
          "base_uri": "https://localhost:8080/"
        },
        "id": "9sGaeyquBs37",
        "outputId": "e03ffe0f-1fde-414e-8d83-a6323026e908"
      },
      "outputs": [],
      "source": [
        "# help of a dict function\n",
        "help(dict.pop)"
      ]
    },
    {
      "cell_type": "markdown",
      "metadata": {
        "id": "t_FPNgXECFyI"
      },
      "source": [
        "## Writing Scripts\n",
        "\n",
        "Now that you’ve got a handle on using Python interactively, let’s write a simple Python script that demonstrates Python’s for loop. "
      ]
    },
    {
      "cell_type": "code",
      "execution_count": null,
      "metadata": {
        "colab": {
          "base_uri": "https://localhost:8080/"
        },
        "id": "kjIkEgAfBwkI",
        "outputId": "7ad61a4c-711c-4f04-c07a-c87a5df7c548"
      },
      "outputs": [],
      "source": [
        "fruits = ['apples', 'oranges', 'pears', 'bananas']\n",
        "for fruit in fruits:\n",
        "    print(fruit + ' for sale')\n",
        "\n",
        "fruitPrices = {'apples': 10.00, 'oranges': 15.0, 'pears': 9.5}\n",
        "for fruit, price in fruitPrices.items():\n",
        "    if price < 12.00:\n",
        "        print('%s cost RM%f a kilo' % (fruit, price))\n",
        "    else:\n",
        "        print(fruit + ' are too expensive!')"
      ]
    },
    {
      "cell_type": "markdown",
      "metadata": {
        "id": "QIGvU3AzDKrR"
      },
      "source": [
        "The next snippet of code demonstrates Python’s *list comprehension* construction:"
      ]
    },
    {
      "cell_type": "code",
      "execution_count": null,
      "metadata": {
        "colab": {
          "base_uri": "https://localhost:8080/"
        },
        "id": "uNIXDAIvCOcj",
        "outputId": "1e6454ad-0493-4677-c5ed-6a887df24414"
      },
      "outputs": [],
      "source": [
        "# this creates nums list\n",
        "nums = [1, 2, 3, 4, 5, 6]\n",
        "\n",
        "# adds 1 to every element in nums\n",
        "plusOneNums = [x + 1 for x in nums]\n",
        "\n",
        "# get all odd elements in nums and store in oddNums list\n",
        "oddNums = [x for x in nums if x % 2 == 1]\n",
        "\n",
        "print(oddNums)\n",
        "\n",
        "# get all odd elements in nums, adds 1 to it and store it in oddNumsPlusOne list \n",
        "oddNumsPlusOne = [x + 1 for x in nums if x % 2 == 1]\n",
        "\n",
        "print(oddNumsPlusOne)"
      ]
    },
    {
      "cell_type": "markdown",
      "metadata": {
        "id": "97XSQc1lEOgo"
      },
      "source": [
        "### Exercise: List Comprehensions\n",
        "\n",
        "Write a list comprehension which, from a list, generates a lowercased version of each string that has length greater than twenty-five."
      ]
    },
    {
      "cell_type": "code",
      "execution_count": null,
      "metadata": {
        "id": "UlAxzr-9DAdh"
      },
      "outputs": [],
      "source": [
        "strings = ['Real Time & Embedded Systems', 'Object Oriented Programming', 'Software Testing', 'Artificial Intelligence']\n",
        "\n",
        "# generate the lowercased version\n",
        "print([x.lower() for x in strings if len(x) > 25])"
      ]
    },
    {
      "cell_type": "markdown",
      "metadata": {
        "id": "R0FAI-ZaFOWi"
      },
      "source": [
        "### Beware of Indendation!\n",
        "\n",
        "Unlike many other languages, Python uses the indentation in the source code for interpretation. So for instance, for the following script:"
      ]
    },
    {
      "cell_type": "code",
      "execution_count": null,
      "metadata": {
        "id": "QkoHvHqdEoi2"
      },
      "outputs": [],
      "source": [
        "if 0 == 1:\n",
        "    print('We are in a world of arithmetic pain')\n",
        "print('Thank you for playing')"
      ]
    },
    {
      "cell_type": "markdown",
      "metadata": {
        "id": "EW5GeGnRFYNf"
      },
      "source": [
        "will output: `Thank you for playing`"
      ]
    },
    {
      "cell_type": "markdown",
      "metadata": {
        "id": "W7BXjCuVFeFG"
      },
      "source": [
        "But if we had written the script as"
      ]
    },
    {
      "cell_type": "code",
      "execution_count": null,
      "metadata": {
        "id": "PXaFgVFYFTSN"
      },
      "outputs": [],
      "source": [
        "if 0 == 1:\n",
        "  print('We are in a world of arithmetic pain')\n",
        "  print('Thank you for playing')"
      ]
    },
    {
      "cell_type": "markdown",
      "metadata": {
        "id": "FQgyLLUrFkWz"
      },
      "source": [
        "there would be no output. The moral of the story: be careful how you indent! It’s best to use four spaces for indentation – that’s what the course code uses."
      ]
    },
    {
      "cell_type": "markdown",
      "metadata": {
        "id": "hnoShBw5FuPt"
      },
      "source": [
        "### Tabs vs Spaces\n",
        "\n",
        "Because Python uses indentation for code evaluation, it needs to keep track of the level of indentation across code blocks. This means that if your Python file switches from using tabs as indentation to spaces as indentation, the Python interpreter will not be able to resolve the ambiguity of the indentation level and throw an exception. Even though the code can be lined up visually in your text editor, Python “sees” a change in indentation and most likely will throw an exception (or rarely, produce unexpected behavior).\n",
        "\n",
        "This most commonly happens when opening up a Python file that uses an indentation scheme that is opposite from what your text editor uses (aka, your text editor uses spaces and the file uses tabs). When you write new lines in a code block, there will be a mix of tabs and spaces, even though the whitespace is aligned."
      ]
    },
    {
      "cell_type": "markdown",
      "metadata": {
        "id": "oj6SlW5hF2DV"
      },
      "source": [
        "## Writing Functions\n",
        "\n",
        "As in Java, in Python you can define your own functions:"
      ]
    },
    {
      "cell_type": "code",
      "execution_count": null,
      "metadata": {
        "id": "4hK5ESfPFhAW"
      },
      "outputs": [],
      "source": [
        "fruitPrices = {'apples': 10.00, 'oranges': 15.0, 'pears': 9.5}\n",
        "\n",
        "def buyFruit(fruit, numPounds):\n",
        "    if fruit not in fruitPrices:\n",
        "        print(\"Sorry we don't have %s\" % (fruit))\n",
        "    else:\n",
        "        cost = fruitPrices[fruit] * numPounds\n",
        "        print(\"That'll be %f please\" % (cost))\n",
        "\n",
        "# Main Function\n",
        "if __name__ == '__main__':\n",
        "    buyFruit('apples', 2.4)\n",
        "    buyFruit('coconuts', 2)"
      ]
    },
    {
      "cell_type": "markdown",
      "metadata": {
        "id": "N5rQYyiSGJCd"
      },
      "source": [
        "Rather than having a `main` function as in Java, the `__name__ == '__main__'` check is used to delimit expressions which are executed when the file is called as a script from the command line. The code after the main check is thus the same sort of code you would put in a `main` function in Java."
      ]
    },
    {
      "cell_type": "markdown",
      "metadata": {
        "id": "YNcRAuzLGXGu"
      },
      "source": [
        "### Advanced Exercise\n",
        "\n",
        "Quicksort algorithm is used for information searching and as **Quicksort** is the fastest algorithm so it is widely used as a better way of searching. It is used everywhere where a stable sort is not needed. **Quicksort** is a cache-friendly algorithm as it has a good locality of reference when used for arrays.\n",
        "\n",
        "![QuickSort2.png](data:image/png;base64,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)\n",
        "\n",
        "Write a `quickSort` function in Python using list comprehensions."
      ]
    },
    {
      "cell_type": "code",
      "execution_count": null,
      "metadata": {
        "id": "vm3W1s8MGAyT"
      },
      "outputs": [],
      "source": [
        "# quickSort function\n",
        "def quickSort(nlist):\n",
        "    \"\"\"Quicksort using list comprehensions\"\"\"\n",
        "    if nlist == []:\n",
        "        return []\n",
        "    else:\n",
        "        pivot = nlist[0]\n",
        "        lesser = quickSort([x for x in nlist[1:] if x < pivot])\n",
        "        greater = quickSort([x for x in nlist[1:] if x >= pivot])\n",
        "        return lesser + [pivot] + greater\n",
        "\n",
        "# Main Function\n",
        "if __name__ == '__main__':\n",
        "  nlist = [54,26,93,17,77,31,44,55,20]\n",
        "  print(\"Sorted: \", quickSort(nlist))"
      ]
    },
    {
      "cell_type": "markdown",
      "metadata": {
        "id": "PYmJumvWGw5X"
      },
      "source": [
        "## More Python Tips and Tricks\n",
        "\n",
        "This tutorial has briefly touched on some major aspects of Python that will be relevant to the course. Here are some more useful tidbits:"
      ]
    },
    {
      "cell_type": "markdown",
      "metadata": {
        "id": "-ABCP6u9KTCa"
      },
      "source": [
        "*   Use `range` to generate a sequence of integers, useful for generating traditional indexed `for` loops:\n",
        "\n"
      ]
    },
    {
      "cell_type": "code",
      "execution_count": null,
      "metadata": {
        "id": "_XEnl5L7KeTj"
      },
      "outputs": [],
      "source": [
        "for index in range(3):\n",
        "    print(lst[index])"
      ]
    },
    {
      "cell_type": "markdown",
      "metadata": {
        "id": "tXzxpfEfLcEJ"
      },
      "source": [
        "## Troubleshooting\n",
        "\n",
        "These are some problems (and their solutions) that new Python learners commonly encounter.\n",
        "\n",
        "*   **Problem:** ImportError: No module named py \n",
        "> **Solution:** For import statements with `import <package-name>`, do not include the file extension (i.e. the `.py` string). For example, you should use: `import numpy` NOT: `import numpy.py`\n",
        "\n",
        "*   **Problem:** NameError: name ‘MY VARIABLE’ is not defined Even after importing you may see this.\n",
        "> **Solution:** To access a member of a module, you have to type `MODULE NAME.MEMBER NAME`, where `MODULE NAME` is the name of the `.py` file, and `MEMBER NAME` is the name of the variable (or function) you are trying to access.\n",
        "\n",
        "*   **Problem:** TypeError: ‘dict’ object is not callable\n",
        "> **Solution:** Dictionary looks up are done using square brackets: [ and ]. NOT parenthesis: ( and ).\n",
        "\n",
        "*  ** Problem:** ValueError: too many values to unpack\n",
        "> **Solution:** Make sure the number of variables you are assigning in a `for` loop matches the number of elements in each item of the list. Similarly for working with tuples. For example, if pair is a tuple of two elements (e.g. `pair =('apple', 2.0)`) then the following code would cause the “too many values to unpack error”: `(a, b, c) = pair`."
      ]
    },
    {
      "cell_type": "markdown",
      "metadata": {
        "id": "ZWaH7DEPN6Q8"
      },
      "source": [
        "Here is a problematic scenario involving a `for` loop:"
      ]
    },
    {
      "cell_type": "code",
      "execution_count": null,
      "metadata": {
        "id": "OvdFb9fYNp3Z"
      },
      "outputs": [],
      "source": [
        "pairList = [('apples', 2.00), ('oranges', 1.50), ('pears', 1.75)]\n",
        "\n",
        "for fruit, price, color in pairList:\n",
        "  print('%s fruit costs %f and is the color %s' % (fruit, price, color))\n"
      ]
    },
    {
      "cell_type": "markdown",
      "metadata": {
        "id": "iQAIOgC9OBlz"
      },
      "source": [
        "\n",
        "\n",
        "*   **Problem:** AttributeError: ‘list’ object has no attribute ‘length’ (or something similar).\n",
        "> **Solution:** Finding length of lists is done using `len(NAME OF LIST)`.\n",
        "*   **Problem:** Changes to a file are not taking effect.\n",
        "> **Solution:** Make sure you are saving all your files after any changes. If you are editing a file in a window different from the one you are using to execute python, make sure you `reload(_YOUR_MODULE_)` to guarantee your changes are being reflected. reload works similarly to `import`.\n",
        "\n",
        "\n",
        "\n",
        "\n",
        "\n",
        "\n",
        "\n",
        "\n"
      ]
    },
    {
      "cell_type": "markdown",
      "metadata": {
        "id": "iXg9Kt5_OggA"
      },
      "source": [
        "## More References\n",
        "*   The place to go for more Python information: www.python.org\n",
        "\n",
        "## Where to find this notebook?\n",
        "*   [https://github.com/faizuddin/ISB46703](https://github.com/faizuddin/ISB46703)\n",
        "\n",
        "\n",
        "\n",
        "\n"
      ]
    }
  ],
  "metadata": {
    "colab": {
      "authorship_tag": "ABX9TyMcRKpXKxQr8LiGGKreYiXR",
      "collapsed_sections": [
        "0cV9y-v6mT8m",
        "skcWmueQR8NF",
        "Tn6KwnsBTUZn",
        "nGoNxX53UgI8",
        "qxUqb9EOVXvr",
        "7Qjx0WiDm_4k",
        "gXqHoJ7x9ySD",
        "HhF7KMEW-yno",
        "1AmjR90X_cKa",
        "oDJrRFXyAt0I",
        "KB98tqOABiKD",
        "hnoShBw5FuPt"
      ],
      "include_colab_link": true,
      "name": "python-tutorial.ipynb",
      "provenance": []
    },
    "kernelspec": {
      "display_name": "Python 3",
      "name": "python3"
    },
    "language_info": {
      "codemirror_mode": {
        "name": "ipython",
        "version": 3
      },
      "file_extension": ".py",
      "mimetype": "text/x-python",
      "name": "python",
      "nbconvert_exporter": "python",
      "pygments_lexer": "ipython3",
      "version": "3.9.16"
    }
  },
  "nbformat": 4,
  "nbformat_minor": 0
}
