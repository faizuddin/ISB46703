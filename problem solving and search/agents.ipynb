{
  "cells": [
    {
      "cell_type": "markdown",
      "metadata": {
        "id": "8MykTvqiPHmd"
      },
      "source": [
        "# Paper buying agent and environment\n",
        "Similar to the Smart House case.\n",
        "\n",
        "\n",
        "## Representing Agents and Environments\n",
        "An agent observes the world, and carries out actions in the environment, it also has an internal state that it updates. The environment takes in actions of the agents, updates it internal state and returns the percepts.\n",
        "\n",
        "In this implementation, the state of the agent and the state of the environment are represented using standard Python variables, which are updated as the state changes. The percepts and the actions are represented as variable-value dictionaries.\n",
        "\n"
      ]
    },
    {
      "cell_type": "code",
      "execution_count": 1,
      "metadata": {
        "id": "sYZHtynmLeFk"
      },
      "outputs": [],
      "source": [
        "import random\n",
        "import matplotlib.pyplot as plt"
      ]
    },
    {
      "cell_type": "markdown",
      "metadata": {
        "id": "cqA8ryMHPgyJ"
      },
      "source": [
        "### Agent\n",
        "An agent implements the `go(n)` method, where `n` is an integer. This means that the agent should run for `n` time steps.\n",
        "\n",
        "The code raises `NotImplementedError()` is a way to specify an abstract method that needs to be overidden in any implemented agent or environment."
      ]
    },
    {
      "cell_type": "code",
      "execution_count": 2,
      "metadata": {
        "id": "7nphr6SYNEl3"
      },
      "outputs": [],
      "source": [
        "class Agent(object):\n",
        "    def __init__(self,env):\n",
        "        \"\"\"set up the agent\"\"\"\n",
        "        self.env=env\n",
        "\n",
        "    def go(self,n):\n",
        "        \"\"\"acts for n time steps\"\"\"\n",
        "        raise NotImplementedError(\"go\")   # abstract method"
      ]
    },
    {
      "cell_type": "markdown",
      "metadata": {
        "id": "AOxMDcP1P0Yr"
      },
      "source": [
        "## Environment\n",
        "The environment implements a `do(action)` method where *action* is a variable-value dictionary. This returns a percept, which is also a variable-value dictionary. The use of dictionaries allows for structured actions and percepts.\n",
        "\n",
        "Note that `Environment` is a subclass of `Displayable` so that it can use the display method."
      ]
    },
    {
      "cell_type": "code",
      "execution_count": null,
      "metadata": {
        "id": "1wZZE9q8QBmH"
      },
      "outputs": [],
      "source": [
        "class Displayable(object):\n",
        "    \"\"\"Class that uses 'display'.\n",
        "    The amount of detail is controlled by max_display_level\n",
        "    \"\"\"\n",
        "    max_display_level = 1   # can be overridden in subclasses\n",
        "\n",
        "    def display(self,level,*args,**nargs):\n",
        "        \"\"\"print the arguments if level is less than or equal to the\n",
        "        current max_display_level.\n",
        "        level is an integer.\n",
        "        the other arguments are whatever arguments print can take.\n",
        "        \"\"\"\n",
        "        if level <= self.max_display_level:\n",
        "            print(*args, **nargs)  ##if error you are using Python2 not Python3\n",
        "\n",
        "def visualize(func):\n",
        "    \"\"\"A decorator for algorithms that do interactive visualization.\n",
        "    Ignored here.\n",
        "    \"\"\"\n",
        "    return func"
      ]
    },
    {
      "cell_type": "code",
      "execution_count": 6,
      "metadata": {
        "id": "XcxT0n2xMOMK"
      },
      "outputs": [],
      "source": [
        "class Environment(Displayable):\n",
        "    def initial_percepts(self):\n",
        "        # returns the initial percepts for the agent\n",
        "        raise NotImplementedError(\"initial_percepts\")   # abstract method\n",
        "\n",
        "    def do(self,action):\n",
        "        # does the action in the environment\n",
        "        # returns the next percept\n",
        "        raise NotImplementedError(\"do\")   # abstract method"
      ]
    },
    {
      "cell_type": "markdown",
      "metadata": {
        "id": "vA25X1fOQpIo"
      },
      "source": [
        "The environment state is given in terms of the *time* and the amount of paper in *stock*. It also remembers the in-stock history and the price history. The percepts are the price and the amount of paper in stock. The action of the agent is the number to buy.\n",
        "\n",
        "Here we **assume** that the prices are obtained from the *prices* list plus a ran- dom integer in range `[0, max price addon)` plus a linear *”inflation”*. The agent cannot access the price model; it just observes the prices and the amount in stock.\n",
        "\n",
        "The `pick from dist` method takes in a *item : probability* dictionary, and returns one of the items in proportion to its probability."
      ]
    },
    {
      "cell_type": "code",
      "execution_count": 7,
      "metadata": {
        "id": "KUy69RyuMO48"
      },
      "outputs": [],
      "source": [
        "class TP_env(Environment):\n",
        "    prices = [234, 234, 234, 234, 255, 255, 275, 275, 211, 211, 211,\n",
        "    234, 234, 234, 234, 199, 199, 275, 275, 234, 234, 234, 234, 255,\n",
        "    255, 260, 260, 265, 265, 265, 265, 270, 270, 255, 255, 260, 260,\n",
        "    265, 265, 150, 150, 265, 265, 270, 270, 255, 255, 260, 260, 265,\n",
        "    265, 265, 265, 270, 270, 211, 211, 255, 255, 260, 260, 265, 265,\n",
        "    260, 265, 270, 270, 205, 255, 255, 260, 260, 265, 265, 265, 265,\n",
        "    270, 270]\n",
        "    max_price_addon = 20  # maximum of random value added to get price\n",
        "\n",
        "    def __init__(self):\n",
        "        # paper buying agent\n",
        "        self.time=0\n",
        "        self.stock=20\n",
        "        self.stock_history = []  # memory of the stock history\n",
        "        self.price_history = []  # memory of the price history\n",
        "\n",
        "    def initial_percepts(self):\n",
        "        # return initial percepts \n",
        "        self.stock_history.append(self.stock)\n",
        "        price = self.prices[0]+random.randrange(self.max_price_addon)\n",
        "        self.price_history.append(price)\n",
        "        return {'price': price,\n",
        "                'instock': self.stock}\n",
        "\n",
        "    def do(self, action):\n",
        "        # does action (buy) and returns percepts (price and instock)\n",
        "        used = pick_from_dist({6:0.1, 5:0.1, 4:0.2, 3:0.3, 2:0.2, 1:0.1})\n",
        "        bought = action['buy']\n",
        "        self.stock = self.stock+bought-used\n",
        "        self.stock_history.append(self.stock)\n",
        "        self.time += 1\n",
        "        price = (self.prices[self.time%len(self.prices)] # repeating pattern\n",
        "                 +random.randrange(self.max_price_addon) # plus randomness\n",
        "                 +self.time//2)                          # plus inflation\n",
        "        self.price_history.append(price)\n",
        "        return {'price': price,\n",
        "                'instock': self.stock}\n",
        "\n",
        "def pick_from_dist(item_prob_dist):\n",
        "    # returns a value from a distribution. item_prob_dist is an item:probability dictionary, \n",
        "    # where the probabilities sum to 1. returns an item chosen in proportion to its probability\n",
        "\n",
        "    ranreal = random.random()\n",
        "    for (it,prob) in item_prob_dist.items():\n",
        "        if ranreal < prob:\n",
        "            return it\n",
        "        else:\n",
        "            ranreal -= prob\n",
        "    raise RuntimeError(str(item_prob_dist)+\" is not a probability distribution\")"
      ]
    },
    {
      "cell_type": "markdown",
      "metadata": {
        "id": "aSbeDkHURQhp"
      },
      "source": [
        "### The Agent\n",
        "The agent does not have access to the price model but can only observe the current price and the amount in stock. It has to decide how much to buy.\n",
        "\n",
        "The belief state of the agent is an estimate of the average price of the paper, and the total amount of money the agent has spent."
      ]
    },
    {
      "cell_type": "code",
      "execution_count": 8,
      "metadata": {
        "id": "CcQf_zA-MVmJ"
      },
      "outputs": [],
      "source": [
        "class TP_agent(Agent):\n",
        "    def __init__(self, env):\n",
        "        self.env = env\n",
        "        self.spent = 0\n",
        "        percepts = env.initial_percepts()\n",
        "        self.ave = self.last_price = percepts['price']\n",
        "        self.instock = percepts['instock']\n",
        "        \n",
        "    def go(self, n):\n",
        "        \"\"\"go for n time steps\n",
        "        \"\"\"\n",
        "        for i in range(n):\n",
        "            if self.last_price < 0.9*self.ave and self.instock < 60:\n",
        "                tobuy = 48\n",
        "            elif self.instock < 12:\n",
        "                tobuy = 12\n",
        "            else:\n",
        "                tobuy = 0\n",
        "            self.spent += tobuy*self.last_price\n",
        "            percepts = env.do({'buy': tobuy})\n",
        "            self.last_price = percepts['price']\n",
        "            self.ave = self.ave+(self.last_price-self.ave)*0.05\n",
        "            self.instock = percepts['instock']"
      ]
    },
    {
      "cell_type": "markdown",
      "metadata": {
        "id": "CZ5RcaAVRYEQ"
      },
      "source": [
        "Set up an environment and an agent. Run the agent for 100 steps, and determine the average amount spent."
      ]
    },
    {
      "cell_type": "code",
      "execution_count": 10,
      "metadata": {
        "colab": {
          "base_uri": "https://localhost:8080/"
        },
        "id": "YfsKx-iXMcBK",
        "outputId": "95c29d6d-38a8-4776-e070-8dac64e5b202"
      },
      "outputs": [
        {
          "data": {
            "text/plain": [
              "824.76"
            ]
          },
          "execution_count": 10,
          "metadata": {},
          "output_type": "execute_result"
        }
      ],
      "source": [
        "env = TP_env()\n",
        "ag = TP_agent(env)\n",
        "\n",
        "ag.go(100)\n",
        "ag.spent/env.time   ## average spent per time period"
      ]
    },
    {
      "cell_type": "markdown",
      "metadata": {
        "id": "gwFV-7NwRhAi"
      },
      "source": [
        "### Plotting\n",
        "The following plots the price and number in stock history."
      ]
    },
    {
      "cell_type": "code",
      "execution_count": 12,
      "metadata": {
        "id": "F22IIpesMm60"
      },
      "outputs": [],
      "source": [
        "class Plot_prices(object):\n",
        "    \"\"\"Set up the plot for history of price and number in stock\"\"\"\n",
        "    def __init__(self, ag,env):\n",
        "        self.ag = ag\n",
        "        self.env = env\n",
        "        plt.ion()\n",
        "        plt.xlabel(\"Time\")\n",
        "        plt.ylabel(\"Number in stock Price.\")\n",
        "\n",
        "    def plot_run(self):\n",
        "        \"\"\"plot history of price and instock\"\"\"\n",
        "        num = len(env.stock_history)\n",
        "        plt.plot(range(num),env.stock_history,label=\"In stock\")\n",
        "        plt.plot(range(num),env.price_history,label=\"Price\")\n",
        "        plt.legend(loc=\"upper left\")\n",
        "        plt.draw()"
      ]
    },
    {
      "cell_type": "markdown",
      "metadata": {
        "id": "Jqa2Lxa2Rl51"
      },
      "source": [
        "Plot using `plot_run` function."
      ]
    },
    {
      "cell_type": "code",
      "execution_count": 14,
      "metadata": {
        "colab": {
          "base_uri": "https://localhost:8080/",
          "height": 279
        },
        "id": "jHgFZNbAMnxl",
        "outputId": "556fbde7-88c5-40ac-f3a5-d932c8d7cf1f"
      },
      "outputs": [
        {
          "data": {
            "image/png": "[encoded data removed]",
            "text/plain": [
              "<Figure size 432x288 with 1 Axes>"
            ]
          },
          "metadata": {
            "needs_background": "light"
          },
          "output_type": "display_data"
        }
      ],
      "source": [
        "pl = Plot_prices(ag,env)\n",
        "ag.go(200)\n",
        "pl.plot_run()"
      ]
    }
  ],
  "metadata": {
    "colab": {
      "authorship_tag": "ABX9TyPxWjM7Kqe0RZyEeVO+Wtd1",
      "collapsed_sections": [],
      "include_colab_link": true,
      "provenance": []
    },
    "kernelspec": {
      "display_name": "Python 3",
      "name": "python3"
    },
    "language_info": {
      "name": "python"
    }
  },
  "nbformat": 4,
  "nbformat_minor": 0
}
