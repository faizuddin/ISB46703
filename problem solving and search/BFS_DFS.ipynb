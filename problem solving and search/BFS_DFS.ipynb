{
  "nbformat": 4,
  "nbformat_minor": 0,
  "metadata": {
    "colab": {
      "provenance": [],
      "collapsed_sections": [],
      "authorship_tag": "ABX9TyNpBGLDOShpvLVp9OWgLbBH",
      "include_colab_link": true
    },
    "kernelspec": {
      "name": "python3",
      "display_name": "Python 3"
    },
    "language_info": {
      "name": "python"
    }
  },
  "cells": [
    {
      "cell_type": "markdown",
      "metadata": {
        "id": "view-in-github",
        "colab_type": "text"
      },
      "source": [
        "<a href=\"https://colab.research.google.com/github/faizuddin/ISB46703/blob/main/BFS_DFS.ipynb\" target=\"_parent\"><img src=\"https://colab.research.google.com/assets/colab-badge.svg\" alt=\"Open In Colab\"/></a>"
      ]
    },
    {
      "cell_type": "markdown",
      "source": [
        "# Uninformed Search\n",
        "\n",
        "## Breadth-First Search"
      ],
      "metadata": {
        "id": "_FygVPTUSt9Q"
      }
    },
    {
      "cell_type": "markdown",
      "source": [
        "### Graph\n",
        "\n",
        "![graph.jpg](data:image/jpeg;base64,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)"
      ],
      "metadata": {
        "id": "EsQknv_YVOFm"
      }
    },
    {
      "cell_type": "markdown",
      "source": [
        "### Dictionary to represent graph"
      ],
      "metadata": {
        "id": "fFG0lGQMmkZJ"
      }
    },
    {
      "cell_type": "code",
      "source": [
        "graph = {\n",
        "  '5' : ['3','7'],\n",
        "  '3' : ['2', '4'],\n",
        "  '7' : ['8'],\n",
        "  '2' : [],\n",
        "  '4' : ['8'],\n",
        "  '8' : []\n",
        "}"
      ],
      "metadata": {
        "id": "uLMIRqzQSw6z"
      },
      "execution_count": null,
      "outputs": []
    },
    {
      "cell_type": "markdown",
      "source": [
        "### List for visited nodes and queue initialisation"
      ],
      "metadata": {
        "id": "Rk6xi21LTFhx"
      }
    },
    {
      "cell_type": "code",
      "source": [
        "bfs_visited = []\n",
        "queue = []"
      ],
      "metadata": {
        "id": "rtTjRBNvS6S-"
      },
      "execution_count": null,
      "outputs": []
    },
    {
      "cell_type": "markdown",
      "source": [
        "### Function for BFS"
      ],
      "metadata": {
        "id": "twK8VBUpS-09"
      }
    },
    {
      "cell_type": "code",
      "source": [
        "def bfs(visited, graph, node): \n",
        "  bfs_visited.append(node)\n",
        "  queue.append(node)\n",
        "\n",
        "  # Creating loop to visit each node\n",
        "  while queue:          \n",
        "    m = queue.pop(0) \n",
        "    print (m, end = \" \") \n",
        "\n",
        "    for neighbour in graph[m]:\n",
        "      if neighbour not in bfs_visited:\n",
        "        bfs_visited.append(neighbour)\n",
        "        queue.append(neighbour)"
      ],
      "metadata": {
        "id": "rEYWLaSRS8fw"
      },
      "execution_count": null,
      "outputs": []
    },
    {
      "cell_type": "markdown",
      "source": [
        "### Driver program (main)"
      ],
      "metadata": {
        "id": "NK3cOAimTdDN"
      }
    },
    {
      "cell_type": "code",
      "source": [
        "print(\"Breadth-First Graph Search\")\n",
        "\n",
        "# BFS function call\n",
        "bfs(bfs_visited, graph, '5')"
      ],
      "metadata": {
        "colab": {
          "base_uri": "https://localhost:8080/"
        },
        "id": "BKr1kut1TXsM",
        "outputId": "c2ce098a-bbfa-4b46-92f5-c9ab6eb908ce"
      },
      "execution_count": null,
      "outputs": [
        {
          "output_type": "stream",
          "name": "stdout",
          "text": [
            "Breadth-First Graph Search\n",
            "5 3 7 2 4 8 "
          ]
        }
      ]
    },
    {
      "cell_type": "markdown",
      "source": [
        "## Depth-First Search"
      ],
      "metadata": {
        "id": "e4sbq4GPUTPH"
      }
    },
    {
      "cell_type": "markdown",
      "source": [
        "### Set to keep track of visited nodes of graph."
      ],
      "metadata": {
        "id": "gU1D0ijCUaRl"
      }
    },
    {
      "cell_type": "code",
      "source": [
        "dfs_visited = set() "
      ],
      "metadata": {
        "id": "fuvFG0WfUNYq"
      },
      "execution_count": null,
      "outputs": []
    },
    {
      "cell_type": "markdown",
      "source": [
        "### Function for BFS"
      ],
      "metadata": {
        "id": "chFPuIoJUrWc"
      }
    },
    {
      "cell_type": "code",
      "source": [
        "def dfs(dfs_visited, graph, node):\n",
        "  if node not in dfs_visited:\n",
        "    print (node)\n",
        "    dfs_visited.add(node)\n",
        "    for neighbour in graph[node]:\n",
        "      dfs(dfs_visited, graph, neighbour)"
      ],
      "metadata": {
        "id": "fOyS6Cn3UmAG"
      },
      "execution_count": null,
      "outputs": []
    },
    {
      "cell_type": "markdown",
      "source": [
        "### Driver program (main)"
      ],
      "metadata": {
        "id": "lHgxFdU3U1yZ"
      }
    },
    {
      "cell_type": "code",
      "source": [
        "print(\"Graph Depth-First Search\")\n",
        "\n",
        "# Function call\n",
        "dfs(dfs_visited, graph, '5')"
      ],
      "metadata": {
        "colab": {
          "base_uri": "https://localhost:8080/"
        },
        "id": "amWljtQOUw_J",
        "outputId": "dc568a51-1dde-494a-873d-be32db17097e"
      },
      "execution_count": null,
      "outputs": [
        {
          "output_type": "stream",
          "name": "stdout",
          "text": [
            "Graph Depth-First Search\n",
            "5\n",
            "3\n",
            "2\n",
            "4\n",
            "8\n",
            "7\n"
          ]
        }
      ]
    }
  ]
}