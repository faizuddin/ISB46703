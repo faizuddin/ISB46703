{
  "cells": [
    {
      "cell_type": "markdown",
      "metadata": {
        "id": "WCBntFyCCWxx"
      },
      "source": [
        "# Depth-First \n",
        "\n",
        "Depth-first traversal or Depth-first Search is an algorithm to look at all the vertices of a graph or tree data structure. It is a recursive algorithm that uses the concept of backtracking. It involves thorough searches of all the nodes by going ahead if potential, else by backtracking. Here, the word backtrack means once you are moving forward and there are not any more nodes along the present path, you progress backward on an equivalent path to seek out nodes to traverse. All the nodes are progressing to be visited on the current path until all the unvisited nodes are traversed after which subsequent paths are going to be selected.\n",
        "\n",
        "## Recursive Method\n",
        "**Implemented using stack**. A standard Depth-First Search implementation puts every vertex of the graph into one in all 2 categories: \n",
        " \n",
        "\n",
        "1.   Visited\n",
        "2.   Not Visited\n",
        "\n",
        "The only purpose of this algorithm is to visit all the vertex of the graph avoiding cycles. The DSF algorithm follows as:\n",
        "\n",
        "1.   Start by putting any one of the graph's vertex on top of the stack.\n",
        "2.   Take the top item of the stack and add it to the visited list of the vertex.\n",
        "3.   Create a list of that adjacent node of the vertex. Add the ones which aren't in the visited list of vertexes to the top of the stack.\n",
        "4.   Keep repeating steps 2 and 3 until the stack is empty.\n",
        "\n",
        "## Pseudocode\n",
        "```\n",
        "DFS(G,u)\n",
        "  u.visited = True\n",
        "  for each v ∈ G.Adj[u]\n",
        "    if v.visited == false\n",
        "       DFS(G,v)\n",
        "\n",
        "init(){\n",
        "  For each u ∈ G\n",
        "    u.visited = false\n",
        "  For each u ∈ G\n",
        "    DFS(G, u)\n",
        "}\n",
        "```\n",
        "\n",
        "The `init()` function executes `DFS()` function on every node because many times, a graph may contain two different disconnected part and therefore to make sure that we have visited every vertex, we can also run the `DFS()` algorithm at every node.\n",
        "\n",
        "## Example\n",
        "Consider the following graph:\n",
        "\n",
        "![mceu_11416486411608560678558.jpg](data:image/jpeg;base64,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)\n"
      ]
    },
    {
      "cell_type": "code",
      "execution_count": 3,
      "metadata": {
        "colab": {
          "base_uri": "https://localhost:8080/"
        },
        "id": "VPzPMu3BBj9O",
        "outputId": "02290837-bbf8-447b-af3d-4fb20d2478fe"
      },
      "outputs": [
        {
          "name": "stdout",
          "output_type": "stream",
          "text": [
            "Following is the Depth-First Search\n",
            "5\n",
            "3\n",
            "2\n",
            "4\n",
            "8\n",
            "7\n"
          ]
        }
      ],
      "source": [
        "# Using a Python dictionary to act as an adjacency list\n",
        "graph = {\n",
        "  '5' : ['3','7'],\n",
        "  '3' : ['2', '4'],\n",
        "  '7' : ['8'],\n",
        "  '2' : [],\n",
        "  '4' : ['8'],\n",
        "  '8' : []\n",
        "}\n",
        "\n",
        "# Set to keep track of visited nodes of graph.\n",
        "visited = set() \n",
        "\n",
        "# Function for dfs \n",
        "def dfs(visited, graph, node):  \n",
        "    if node not in visited:\n",
        "        print (node)\n",
        "        visited.add(node)\n",
        "        for neighbour in graph[node]:\n",
        "            dfs(visited, graph, neighbour)\n",
        "\n",
        "# Driver Code\n",
        "print(\"Following is the Depth-First Search\")\n",
        "dfs(visited, graph, '5')"
      ]
    },
    {
      "cell_type": "markdown",
      "metadata": {
        "id": "nbQ2JFzCWCUf"
      },
      "source": [
        "# Breadth-First Search\n",
        "\n",
        "Breadth-First Search (BFS) is an algorithm used for traversing graphs or trees. Traversing means visiting each node of the graph. BFS is a recursive algorithm to search all the vertices of a **graph** or a **tree** (the only difference is that the graph may contain cycles, so we may traverse to the same node again). BFS  the process of traversing each node of the graph, a standard BFS algorithm traverses each vertex of the graph into two parts: \n",
        "\n",
        "1. Visited\n",
        "2. Not Visited\n",
        "\n",
        "So, the purpose of the algorithm is to visit all the vertex while avoiding cycles. \n",
        "\n",
        "## Recursive Method\n",
        "BFS starts from a node, then it checks all the nodes at distance one from the beginning node, then it checks all the nodes at distance two, and so on. So as to recollect the nodes to be visited, **BFS uses a queue**.\n",
        "\n",
        "The steps of the algorithm work as follow:\n",
        "\n",
        "1. Start by putting any one of the graph’s vertices at the back of the queue.\n",
        "2. Now take the front item of the queue and add it to the visited list.\n",
        "3. Create a list of that vertex's adjacent nodes. Add those which are not within the visited list to the rear of the queue.\n",
        "4. Keep continuing steps two and three till the queue is empty.\n",
        "\n",
        "## Pseudocode\n",
        "\n",
        "```\n",
        "create a queue Q\n",
        "mark v as visited and put v into Q \n",
        "while Q is non-empty\n",
        "  remove the head u of Q\n",
        "  mark and enqueue all (unvisited) neighbors of u\n",
        "```\n",
        "\n",
        "## Example\n",
        "Consider the following graph:\n",
        "\n",
        "![mceu_11416486411608560678558.jpg](data:image/jpeg;base64,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)"
      ]
    },
    {
      "cell_type": "code",
      "execution_count": null,
      "metadata": {
        "colab": {
          "base_uri": "https://localhost:8080/"
        },
        "id": "XRgkgjVoYb2s",
        "outputId": "ace929f3-a6cf-44ce-f6f8-6588c745436b"
      },
      "outputs": [
        {
          "name": "stdout",
          "output_type": "stream",
          "text": [
            "Following is the Breadth-First Search\n",
            "5 3 7 2 4 8 "
          ]
        }
      ],
      "source": [
        "# Use dictionary\n",
        "graph = {\n",
        "  '5' : ['3','7'],\n",
        "  '3' : ['2', '4'],\n",
        "  '7' : ['8'],\n",
        "  '2' : [],\n",
        "  '4' : ['8'],\n",
        "  '8' : []\n",
        "}\n",
        "\n",
        "# List for visited nodes.\n",
        "visited = []\n",
        "\n",
        "# Initialise a queue\n",
        "queue = []     \n",
        "\n",
        "# Function for BFS\n",
        "def bfs(visited, graph, node): \n",
        "  visited.append(node)\n",
        "  queue.append(node)\n",
        "\n",
        "  # Creating loop to visit each node\n",
        "  while queue:          \n",
        "    m = queue.pop(0) \n",
        "    print (m, end = \" \") \n",
        "\n",
        "    for neighbour in graph[m]:\n",
        "      if neighbour not in visited:\n",
        "        visited.append(neighbour)\n",
        "        queue.append(neighbour)\n",
        "\n",
        "# Driver Code\n",
        "print(\"Following is the Breadth-First Search\")\n",
        "# Function call\n",
        "bfs(visited, graph, '5')   "
      ]
    },
    {
      "attachments": {},
      "cell_type": "markdown",
      "metadata": {},
      "source": [
        "## Uniform Cost Search"
      ]
    },
    {
      "attachments": {},
      "cell_type": "markdown",
      "metadata": {},
      "source": [
        "BFS only returns an optimal path if all edges have the same cost (e.g. length). Uniform-cost search (UCS) is a similar algorithm that finds optimal paths even when **edge costs vary**.\n",
        "\n",
        "**Frontier** (or **fringe**) in a search algorithm contains **states that have been seen but their outgoing edges have not yet been explored**. BFS stores the frontier as a **queue**; DFS stores it as a **stack**. Uniform-cost search stores the frontier as a **priority queue**. So, in each iteration of the search loop, we explore neighbors of the best state (i.e. lowest cost, shortest path) seen so far.\n",
        "\n",
        "### Assumptions\n",
        "\n",
        "*   Edge costs are always positive, and\n",
        "*   All edge costs are $>= b$, where $b$ is some minimum non-zero cost.\n",
        "\n",
        "### Details\n",
        "\n",
        "When we're using BFS on a problem where all edges have the same cost, we can safely return as soon as we see a goal state. There's no need to put the goal state back into the frontier for further processing. Consider the following example:\n",
        "\n",
        "![Cities](images/cities.png)\n",
        "\n"
      ]
    },
    {
      "cell_type": "code",
      "execution_count": 13,
      "metadata": {},
      "outputs": [
        {
          "name": "stdout",
          "output_type": "stream",
          "text": [
            "Path found: ['RimnicuVilcea', 'Sibiu', 'Arad', 'Zerind'], Cost = 295\n"
          ]
        },
        {
          "data": {
            "text/plain": [
              "'\\nSample Map Input:\\n\\n14\\nArad Zerind 75 Timisoara 118 Sibiu 140\\nZerind Oradea 71 Arad 75\\nTimisoara Arad 118 Lugoj 111\\nSibiu Arad 140 Oradea 151 Fagaras 99 RimnicuVilcea 80\\nOradea Zerind 71 Sibiu 151\\nLugoj Timisoara 111 Mehadia 70\\nRimnicuVilcea Sibiu 80 Pitesti 97 Craiova 146\\nMehadia Lugoj 70 Dobreta 75\\nCraiova Dobreta 120 RimnicuVilcea 146 Pitesti 138\\nPitesti RimnicuVilcea 97 Craiova 138 Bucharest 101\\nFagaras Sibiu 99 Bucharest 211\\nDobreta Mehadia 75 Craiova 120\\nBucharest Fagaras 211 Pitesti 101 Giurgiu 90\\nGiurgiu Bucharest 90\\n'"
            ]
          },
          "execution_count": 13,
          "metadata": {},
          "output_type": "execute_result"
        }
      ],
      "source": [
        "import queue as Q\n",
        "\n",
        "def search(graph, start, end):\n",
        "    if start not in graph:\n",
        "        raise TypeError(str(start) + ' not found in graph !')\n",
        "        return\n",
        "    if end not in graph:\n",
        "        raise TypeError(str(end) + ' not found in graph !')\n",
        "        return\n",
        "    \n",
        "    queue = Q.PriorityQueue()\n",
        "    queue.put((0, [start]))\n",
        "    \n",
        "    while not queue.empty():\n",
        "        node = queue.get()\n",
        "        current = node[1][len(node[1]) - 1]\n",
        "        \n",
        "        if end in node[1]:\n",
        "            print(\"Path found: \" + str(node[1]) + \", Cost = \" + str(node[0]))\n",
        "            break\n",
        "        \n",
        "        cost = node[0]\n",
        "        for neighbor in graph[current]:\n",
        "            temp = node[1][:]\n",
        "            temp.append(neighbor)\n",
        "            queue.put((cost + graph[current][neighbor], temp))\n",
        "        \n",
        "def readGraph():\n",
        "    lines = int(input())\n",
        "    graph = {}\n",
        "    \n",
        "    for line in range(lines):\n",
        "        line = input()\n",
        "            \n",
        "        tokens = line.split()\n",
        "        node = tokens[0]\n",
        "        graph[node] = {}\n",
        "        \n",
        "        for i in range(1, len(tokens) - 1, 2):\n",
        "            # print(node, tokens[i], tokens[i + 1])\n",
        "            # graph.addEdge(node, tokens[i], int(tokens[i + 1]))\n",
        "            graph[node][tokens[i]] = int(tokens[i + 1])\n",
        "    return graph\n",
        "\n",
        "def main():\n",
        "    graph = readGraph()\n",
        "    search(graph, 'RimnicuVilcea', 'Zerind')\n",
        "\n",
        "# Driver program\n",
        "if __name__ == \"__main__\":\n",
        "    main()\n",
        "\n",
        "\"\"\"\n",
        "Sample Map Input:\n",
        "\n",
        "14\n",
        "Arad Zerind 75 Timisoara 118 Sibiu 140\n",
        "Zerind Oradea 71 Arad 75\n",
        "Timisoara Arad 118 Lugoj 111\n",
        "Sibiu Arad 140 Oradea 151 Fagaras 99 RimnicuVilcea 80\n",
        "Oradea Zerind 71 Sibiu 151\n",
        "Lugoj Timisoara 111 Mehadia 70\n",
        "RimnicuVilcea Sibiu 80 Pitesti 97 Craiova 146\n",
        "Mehadia Lugoj 70 Dobreta 75\n",
        "Craiova Dobreta 120 RimnicuVilcea 146 Pitesti 138\n",
        "Pitesti RimnicuVilcea 97 Craiova 138 Bucharest 101\n",
        "Fagaras Sibiu 99 Bucharest 211\n",
        "Dobreta Mehadia 75 Craiova 120\n",
        "Bucharest Fagaras 211 Pitesti 101 Giurgiu 90\n",
        "Giurgiu Bucharest 90\n",
        "\"\"\""
      ]
    }
  ],
  "metadata": {
    "colab": {
      "authorship_tag": "ABX9TyNHPKy5MQPTCKq9DOVjcuaV",
      "include_colab_link": true,
      "name": "tree-search.ipynb",
      "provenance": []
    },
    "kernelspec": {
      "display_name": "Python 3",
      "name": "python3"
    },
    "language_info": {
      "codemirror_mode": {
        "name": "ipython",
        "version": 3
      },
      "file_extension": ".py",
      "mimetype": "text/x-python",
      "name": "python",
      "nbconvert_exporter": "python",
      "pygments_lexer": "ipython3",
      "version": "3.9.16"
    }
  },
  "nbformat": 4,
  "nbformat_minor": 0
}
