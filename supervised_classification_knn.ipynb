{
  "nbformat": 4,
  "nbformat_minor": 0,
  "metadata": {
    "colab": {
      "name": "supervised-classification-knn.ipynb",
      "provenance": [],
      "collapsed_sections": [],
      "authorship_tag": "ABX9TyMfGDgyWP4rZBnGobr4j+uf",
      "include_colab_link": true
    },
    "kernelspec": {
      "name": "python3",
      "display_name": "Python 3"
    },
    "language_info": {
      "name": "python"
    }
  },
  "cells": [
    {
      "cell_type": "markdown",
      "metadata": {
        "id": "view-in-github",
        "colab_type": "text"
      },
      "source": [
        "<a href=\"https://colab.research.google.com/github/faizuddin/ISB46703/blob/main/supervised_classification_knn.ipynb\" target=\"_parent\"><img src=\"https://colab.research.google.com/assets/colab-badge.svg\" alt=\"Open In Colab\"/></a>"
      ]
    },
    {
      "cell_type": "markdown",
      "source": [
        "# K-nearest Neighbours (k-NN)\n"
      ],
      "metadata": {
        "id": "Oe8p6Rwj63rp"
      }
    },
    {
      "cell_type": "code",
      "execution_count": 1,
      "metadata": {
        "colab": {
          "base_uri": "https://localhost:8080/"
        },
        "id": "8sbi1yF96xhl",
        "outputId": "d8186fa7-30ff-4843-8d1d-98c66288e5cd"
      },
      "outputs": [
        {
          "output_type": "stream",
          "name": "stdout",
          "text": [
            "Requirement already satisfied: sklearn in /usr/local/lib/python3.7/dist-packages (0.0)\n",
            "Requirement already satisfied: scikit-learn in /usr/local/lib/python3.7/dist-packages (from sklearn) (1.0.2)\n",
            "Requirement already satisfied: threadpoolctl>=2.0.0 in /usr/local/lib/python3.7/dist-packages (from scikit-learn->sklearn) (3.1.0)\n",
            "Requirement already satisfied: scipy>=1.1.0 in /usr/local/lib/python3.7/dist-packages (from scikit-learn->sklearn) (1.4.1)\n",
            "Requirement already satisfied: joblib>=0.11 in /usr/local/lib/python3.7/dist-packages (from scikit-learn->sklearn) (1.1.0)\n",
            "Requirement already satisfied: numpy>=1.14.6 in /usr/local/lib/python3.7/dist-packages (from scikit-learn->sklearn) (1.21.6)\n"
          ]
        }
      ],
      "source": [
        "!pip install sklearn"
      ]
    },
    {
      "cell_type": "markdown",
      "source": [
        "Load iris dataset (built-in dataset from sklearn), initialise k-NN model object and fit the model to the data. "
      ],
      "metadata": {
        "id": "X3ExkPza7Kfz"
      }
    },
    {
      "cell_type": "code",
      "source": [
        "from sklearn import neighbors, datasets\n",
        "\n",
        "iris = datasets.load_iris()\n",
        "X, y = iris.data, iris.target\n",
        "\n",
        "knn = neighbors.KNeighborsClassifier(n_neighbors=5)\n",
        "knn.fit(X,y)\n",
        "\n",
        "print(knn)"
      ],
      "metadata": {
        "colab": {
          "base_uri": "https://localhost:8080/"
        },
        "id": "dz1psfcu7E8Z",
        "outputId": "53009af1-c597-4a05-cfdb-254f578eeda8"
      },
      "execution_count": 2,
      "outputs": [
        {
          "output_type": "stream",
          "name": "stdout",
          "text": [
            "KNeighborsClassifier()\n"
          ]
        }
      ]
    },
    {
      "cell_type": "markdown",
      "source": [
        "## Checking model prediction\n",
        "\n",
        "What kind of iris flower that has 3cm x 4cm sepal and 1cm x 5cm petal?"
      ],
      "metadata": {
        "id": "Vf9KEgHY8_FB"
      }
    },
    {
      "cell_type": "code",
      "source": [
        "result = knn.predict([[15,15,15,15],])\n",
        "\n",
        "print(iris.target_names[result])"
      ],
      "metadata": {
        "colab": {
          "base_uri": "https://localhost:8080/"
        },
        "id": "Zc2Ky_zX8ORD",
        "outputId": "cfe91af0-479a-44b3-db54-44cd705d5f57"
      },
      "execution_count": 9,
      "outputs": [
        {
          "output_type": "stream",
          "name": "stdout",
          "text": [
            "['virginica']\n"
          ]
        }
      ]
    },
    {
      "cell_type": "markdown",
      "source": [
        "Prediction probability"
      ],
      "metadata": {
        "id": "QTMryjFK-GBM"
      }
    },
    {
      "cell_type": "code",
      "source": [
        "knn.predict_proba([[3,5,4,2],])"
      ],
      "metadata": {
        "colab": {
          "base_uri": "https://localhost:8080/"
        },
        "id": "xIVAmw1y8sFt",
        "outputId": "20c53f35-7de6-4aa7-ffba-4aaa4d5207e5"
      },
      "execution_count": 13,
      "outputs": [
        {
          "output_type": "execute_result",
          "data": {
            "text/plain": [
              "array([[0. , 0.8, 0.2]])"
            ]
          },
          "metadata": {},
          "execution_count": 13
        }
      ]
    },
    {
      "cell_type": "markdown",
      "source": [
        "## Visualise k-NN predictions"
      ],
      "metadata": {
        "id": "buBmOltQ-4lO"
      }
    },
    {
      "cell_type": "code",
      "source": [
        "from sklearn import linear_model\n",
        "import pylab as pl\n",
        "import numpy as np\n",
        "from matplotlib.colors import ListedColormap\n",
        "\n",
        "cmap_light = ListedColormap([\"#FFAAAA\", \"#AAFFAA\", \"#AAAAFF\"])\n",
        "cmap_bold = ListedColormap([\"#FF0000\", \"#00FF00\", \"#0000ff\"])\n",
        "\n",
        "def plot_iris_knn():\n",
        "  X = iris.data[:, :2]\n",
        "  y = iris.target\n",
        "\n",
        "  knn = neighbors.KNeighborsClassifier(n_neighbors=3)\n",
        "  knn.fit(X,y)\n",
        "\n",
        "  x_min, x_max = X[:,0].min() - .1, X[:,0].max() + .1\n",
        "  y_min, y_max = X[:,1].min() - .1, X[:,1].max() + .1\n",
        "\n",
        "  xx, yy = np.meshgrid(np.linspace(x_min, x_max, 100), np.linspace(y_min, y_max, 100))\n",
        "  Z = knn.predict(np.c_[xx.ravel(), yy.ravel()])\n",
        "\n",
        "  #put the result into a colour plot\n",
        "  Z = Z.reshape(xx.shape)\n",
        "  pl.figure()\n",
        "  pl.pcolormesh(xx,yy,Z, cmap=cmap_light)\n",
        "\n",
        "  # plot training plot\n",
        "  pl.scatter(X[:,0], X[:,1], c=y, cmap=cmap_bold)\n",
        "  pl.xlabel(\"sepal width in cm\")\n",
        "  pl.ylabel(\"petal width in cm\")\n",
        "  pl.axis(\"tight\")"
      ],
      "metadata": {
        "id": "QaZa0rV--MmU"
      },
      "execution_count": 20,
      "outputs": []
    },
    {
      "cell_type": "code",
      "source": [
        "plot_iris_knn()"
      ],
      "metadata": {
        "colab": {
          "base_uri": "https://localhost:8080/",
          "height": 283
        },
        "id": "09DbjgkxBZsY",
        "outputId": "a84f8307-b2bc-4f3a-fe8f-b5c95fbd194d"
      },
      "execution_count": 21,
      "outputs": [
        {
          "output_type": "display_data",
          "data": {
            "text/plain": [
              "<Figure size 432x288 with 1 Axes>"
            ],
            "image/png": "[encoded data removed]"
          },
          "metadata": {
            "needs_background": "light"
          }
        }
      ]
    },
    {
      "cell_type": "markdown",
      "source": [
        "## Exercise\n",
        "\n",
        "Attempt classification problem on iris dataset using `sklearn.svm.SVC` "
      ],
      "metadata": {
        "id": "nYa9uDU1C_um"
      }
    },
    {
      "cell_type": "code",
      "source": [
        "from sklearn.svm import SVC\n",
        "from sklearn import datasets\n",
        "\n",
        "iris_flower = datasets.load_iris()\n",
        "X,y = iris.data, iris.target\n",
        "\n",
        "# use SVM to classify"
      ],
      "metadata": {
        "id": "fdpMRsKnBeWS"
      },
      "execution_count": null,
      "outputs": []
    }
  ]
}